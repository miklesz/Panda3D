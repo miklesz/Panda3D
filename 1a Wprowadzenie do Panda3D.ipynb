{
 "cells": [
  {
   "cell_type": "markdown",
   "id": "34eab517",
   "metadata": {
    "pycharm": {
     "name": "#%% md\n"
    }
   },
   "source": [
    "# Wprowadzenie do Panda3D\n",
    "\n",
    "![](https://www.panda3d.org/wp-content/uploads/2018/12/panda3d_logo_s_white.png)\n",
    "\n",
    "_Mikołaj Leszczuk_\n",
    "\n",
    "Na podstawie: [Introduction to Panda3D](https://docs.panda3d.org/1.10/python/introduction/index)"
   ]
  },
  {
   "cell_type": "markdown",
   "id": "7a64a01c",
   "metadata": {
    "pycharm": {
     "name": "#%% md\n"
    },
    "slideshow": {
     "slide_type": "slide"
    }
   },
   "source": [
    "## Uruchamianie Panda3D"
   ]
  },
  {
   "cell_type": "markdown",
   "id": "aa0ddff9",
   "metadata": {
    "slideshow": {
     "slide_type": "slide"
    }
   },
   "source": [
    "### Podstawy Panda3D"
   ]
  },
  {
   "cell_type": "markdown",
   "id": "e53d567c",
   "metadata": {
    "slideshow": {
     "slide_type": "fragment"
    }
   },
   "source": [
    "Panda3D to silnik 3D: biblioteka podprogramów do renderowania 3D i tworzenia gier. Biblioteka to C++ z zestawem wiązań Pythona. Tworzenie 3D za pomocą Panda3D zwykle polega na napisaniu programu w języku Python (lub C++), który steruje biblioteką Panda3D."
   ]
  },
  {
   "cell_type": "markdown",
   "id": "caa8c81e",
   "metadata": {
    "slideshow": {
     "slide_type": "fragment"
    }
   },
   "source": [
    "Panda3D pierwotnie została stworzona do tworzenia gier komercyjnych i nadal jest używana do tworzenia gier komercyjnych. Z tego powodu silnik musi kłaść nacisk na cztery obszary: moc, prędkość, kompletność i tolerancję błędów. Każdy wie, czym jest moc i szybkość. Jednak kompletność i tolerancja błędów zasługują na dodatkowy komentarz."
   ]
  },
  {
   "cell_type": "markdown",
   "id": "1024fb6b",
   "metadata": {
    "slideshow": {
     "slide_type": "subslide"
    }
   },
   "source": [
    "Kompletność oznacza, że Panda3D zawiera wiele nieciekawych, ale niezbędnych narzędzi: przeglądanie wykresów (grafów) scen (o tym później), monitorowanie wydajności, optymalizatory animacji i tak dalej."
   ]
  },
  {
   "cell_type": "markdown",
   "id": "cd5965aa",
   "metadata": {
    "slideshow": {
     "slide_type": "fragment"
    }
   },
   "source": [
    "Tolerancja błędów związana jest z tym, że wszyscy twórcy popełniają błędy. Kiedy to zrobicie, chcecie, aby silnik wyświetlał jasny komunikat o błędzie i pomógł Wam znaleźć błąd. Zbyt wiele silników po prostu ulegnie awarii, jeśli przekażecie niewłaściwą wartość do funkcji. Panda3D prawie nigdy się nie zawiesza, a wiele kodu poświęcono problemowi śledzenia i izolowania błędów."
   ]
  },
  {
   "cell_type": "markdown",
   "id": "8ce81482",
   "metadata": {
    "slideshow": {
     "slide_type": "fragment"
    }
   },
   "source": [
    "Wreszcie, aby wrócić do mocy i szybkości: aby ocenić możliwości Panda3D, możecie spojrzeć na przykłady. Pokazują próbkę możliwości Panda3D."
   ]
  },
  {
   "cell_type": "markdown",
   "id": "2a2e882e",
   "metadata": {
    "slideshow": {
     "slide_type": "subslide"
    }
   },
   "source": [
    "![](https://www.panda3d.org/wp-content/uploads/2019/01/214.jpg)"
   ]
  },
  {
   "cell_type": "markdown",
   "id": "3dfde05a",
   "metadata": {
    "slideshow": {
     "slide_type": "subslide"
    }
   },
   "source": [
    "![](https://www.panda3d.org/wp-content/uploads/2019/01/241.jpg)"
   ]
  },
  {
   "cell_type": "markdown",
   "id": "213ca687",
   "metadata": {
    "slideshow": {
     "slide_type": "subslide"
    }
   },
   "source": [
    "![](https://www.panda3d.org/wp-content/uploads/2019/01/413.jpg)"
   ]
  },
  {
   "cell_type": "markdown",
   "id": "f102e5c6",
   "metadata": {
    "slideshow": {
     "slide_type": "subslide"
    }
   },
   "source": [
    "![](https://www.panda3d.org/wp-content/uploads/2019/01/444.jpg)"
   ]
  },
  {
   "cell_type": "markdown",
   "id": "68c50204",
   "metadata": {
    "slideshow": {
     "slide_type": "subslide"
    }
   },
   "source": [
    "![](https://www.panda3d.org/wp-content/uploads/2019/01/480.jpg)"
   ]
  },
  {
   "cell_type": "markdown",
   "id": "ac27cde3",
   "metadata": {
    "slideshow": {
     "slide_type": "subslide"
    }
   },
   "source": [
    "Panda3D została opracowana przez Disneya na potrzeby ich gry online dla wielu graczy, Toontown Online. Została wydane jako darmowe oprogramowanie w 2002 roku. Centrum Technologii Rozrywki Uniwersytetu Carnegie Mellon, które obecnie obsługuje stronę internetową i inne usługi Panda3D, było aktywnie zaangażowane w rozwój Panda3D w projekt open source. Obecnie Panda3D jest rozwijana wspólnie przez Disneya i współpracowników z całego świata."
   ]
  },
  {
   "cell_type": "markdown",
   "id": "f0101a08",
   "metadata": {
    "slideshow": {
     "slide_type": "slide"
    }
   },
   "source": [
    "### Panda3D nie jest narzędziem dla początkujących ani zabawką"
   ]
  },
  {
   "cell_type": "markdown",
   "id": "ef945bb2",
   "metadata": {
    "slideshow": {
     "slide_type": "fragment"
    }
   },
   "source": [
    "Panda 3D to narzędzie dla profesjonalistów. Chociaż ważne jest, aby to podkreślić, aby mieć dokładne oczekiwania, należy również pamiętać, że Panda3D jest jednym z najłatwiejszych i najmocniejszych silników 3D, jakich kiedykolwiek użyjecie."
   ]
  },
  {
   "cell_type": "markdown",
   "id": "013ced8e",
   "metadata": {
    "slideshow": {
     "slide_type": "fragment"
    }
   },
   "source": [
    "Panda3D obsługuje pełen zakres tego, co powinny współczesne silniki: zapewnia wygodną obsługę mapowania normalnego, mapowania połysku, HDR, cieniowania i tuszowania kreskówek, bloom i wielu innych rzeczy. Pozwala także na pisanie własnych shaderów."
   ]
  },
  {
   "cell_type": "markdown",
   "id": "260f55c7",
   "metadata": {
    "slideshow": {
     "slide_type": "subslide"
    }
   },
   "source": [
    "Ludzie czasami mają mylne wrażenie, że Panda3D jest napisana w Pythonie, przez co jest bardzo powolna. Ale Panda3D nie jest napisana w Pythonie; jest napisana w C++. Python służy tylko do pisania skryptów. Deweloperzy zazwyczaj piszą fragmenty wymagające dużej wydajności, jeśli takie istnieją, w C++ lub w podobnym do niego Cythonie. Na współczesnych komputerach program Panda3D zwykle może uzyskać prędkość 400 fps (liczbę klatek na sekundę), ale dla 3D 60 fps jest całkiem wystarczające. Jedno zastrzeżenie: aby uzyskać taką wydajność, musicie zrozumieć karty 3D i optymalizację wydajności 3D. Nie dzieje się to automatycznie. Panda3D zawiera narzędzia do profilowania, których potrzebujecie, aby osiągnąć 60 fps."
   ]
  },
  {
   "cell_type": "markdown",
   "id": "58680add",
   "metadata": {
    "slideshow": {
     "slide_type": "slide"
    }
   },
   "source": [
    "### Kto pracuje na Panda3D"
   ]
  },
  {
   "cell_type": "markdown",
   "id": "f3489b51",
   "metadata": {
    "slideshow": {
     "slide_type": "fragment"
    }
   },
   "source": [
    "W społeczności komercyjnej i open-source jest wielu programistów pracujących na Panda3D. Obecnie, poza aktywnym wkładem społeczności open-source, najbardziej aktywnym członkiem społeczności deweloperskiej jest Disney. Główne zainteresowanie Disneya Panda3D ma charakter komercyjny. Panda3D jest wykorzystywana do tworzenia wielu gier Disneya i eksponatów w parkach rozrywki. Aby zaspokoić potrzeby Disneya, Panda3D musi być w pełni funkcjonalnym silnikiem, zdolnym do osiągnięcia wszystkich osiągów i jakości, jakich można oczekiwać od każdego komercyjnego tytułu „A-grade”."
   ]
  },
  {
   "cell_type": "markdown",
   "id": "d4c42488",
   "metadata": {
    "slideshow": {
     "slide_type": "fragment"
    }
   },
   "source": [
    "W Panda3D możesz używać wielu języków programowania. Najczęściej używanym i najlepiej obsługiwanym przez Panda3D językiem jest Python, a następnie C++. Chociaż możecie używać C++ to, dokumentacja jest głównie nakierowana na użycie Pythona."
   ]
  },
  {
   "cell_type": "markdown",
   "id": "8877a37e",
   "metadata": {
    "slideshow": {
     "slide_type": "slide"
    }
   },
   "source": [
    "## Instalowanie Panda3D"
   ]
  },
  {
   "cell_type": "markdown",
   "id": "f6f8d0b2",
   "metadata": {
    "slideshow": {
     "slide_type": "fragment"
    }
   },
   "source": [
    "Panda3D nie będzie działać pod Jupyterem."
   ]
  },
  {
   "cell_type": "markdown",
   "id": "f21b33cb",
   "metadata": {
    "slideshow": {
     "slide_type": "fragment"
    }
   },
   "source": [
    "Na macOS, Panda3D pracująca pod Pythonem skompilowanym natywnie na ARM (M1, M2) nie wspiera profili shaderów OpenGL fragment i vertex (potrzeba użyć wersji Intel)."
   ]
  },
  {
   "cell_type": "markdown",
   "id": "17a6ed37",
   "metadata": {
    "slideshow": {
     "slide_type": "fragment"
    }
   },
   "source": [
    "```sh\n",
    "pip install Panda3D\n",
    "```"
   ]
  },
  {
   "cell_type": "code",
   "execution_count": null,
   "id": "58a4840b",
   "metadata": {
    "pycharm": {
     "name": "#%%\n"
    },
    "slideshow": {
     "slide_type": "skip"
    }
   },
   "outputs": [],
   "source": []
  }
 ],
 "metadata": {
  "celltoolbar": "Slideshow",
  "kernelspec": {
   "display_name": "Python 3 (ipykernel)",
   "language": "python",
   "name": "python3"
  },
  "language_info": {
   "codemirror_mode": {
    "name": "ipython",
    "version": 3
   },
   "file_extension": ".py",
   "mimetype": "text/x-python",
   "name": "python",
   "nbconvert_exporter": "python",
   "pygments_lexer": "ipython3",
   "version": "3.10.7"
  }
 },
 "nbformat": 4,
 "nbformat_minor": 5
}
