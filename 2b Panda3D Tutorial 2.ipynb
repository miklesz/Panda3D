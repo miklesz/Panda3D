{
 "cells": [
  {
   "cell_type": "markdown",
   "id": "34eab517",
   "metadata": {
    "pycharm": {
     "name": "#%% md\n"
    }
   },
   "source": [
    "# Panda3D Tutorial 2\n",
    "\n",
    "![](https://www.panda3d.org/wp-content/uploads/2018/12/panda3d_logo_s_white.png)\n",
    "\n",
    "_Mikołaj Leszczuk_\n",
    "\n",
    "Na podstawie: [Panda3D Beginner's Tutorial](https://arsthaumaturgis.github.io/Panda3DTutorial.io/)"
   ]
  },
  {
   "cell_type": "markdown",
   "id": "56756896",
   "metadata": {
    "slideshow": {
     "slide_type": "slide"
    }
   },
   "source": [
    "## Dźwięk"
   ]
  },
  {
   "cell_type": "markdown",
   "id": "4ff27a1e",
   "metadata": {
    "slideshow": {
     "slide_type": "fragment"
    }
   },
   "source": [
    "Nauczmy się obsługi dźwięku i muzyki w Panda3D."
   ]
  },
  {
   "cell_type": "markdown",
   "id": "0bd76573",
   "metadata": {
    "slideshow": {
     "slide_type": "fragment"
    }
   },
   "source": [
    "W większości przypadków radzenie sobie z dźwiękiem i muzyką w Panda3D jest dość proste. Wczytujecie plik dźwiękowy lub muzyczny, odtwarzacie go (być może po ustawieniu głośności lub zapętleniu) i to wszystko!"
   ]
  },
  {
   "cell_type": "markdown",
   "id": "c1057981",
   "metadata": {
    "slideshow": {
     "slide_type": "subslide"
    }
   },
   "source": [
    "Można zrobić bardziej złożone rzeczy (takie jak użycie dźwięku pozycyjnego 3D), ale do naszych celów wystarczy powyższe."
   ]
  },
  {
   "cell_type": "markdown",
   "id": "329d19bd",
   "metadata": {
    "slideshow": {
     "slide_type": "fragment"
    }
   },
   "source": [
    "Warto zauważyć, że Panda rozróżnia efekty dźwiękowe i muzykę; ma dla nich osobne obiekty menedżerskie. Ułatwia to pracę z jednym z nich jako całością bez wpływu na drugie. Na przykład możecie dostosować ogólną głośność muzyki, pozostawiając efekty dźwiękowe bez zmian."
   ]
  },
  {
   "cell_type": "markdown",
   "id": "d5033a72",
   "metadata": {
    "slideshow": {
     "slide_type": "subslide"
    }
   },
   "source": [
    "Na początek załadujmy i odtwórzmy muzykę. W większym projekcie możemy mieć wiele plików muzycznych, które będą odtwarzane w różnych okolicznościach, ale do celów nauki będziemy mieli tylko jeden utwór muzyczny (\"Vitamins\"/[Sundial Aeon](http://sundial-aeon.pl))."
   ]
  },
  {
   "cell_type": "markdown",
   "id": "d225ad93",
   "metadata": {
    "slideshow": {
     "slide_type": "fragment"
    }
   },
   "source": [
    "```python\n",
    "# W metodzie „__init__”:\n",
    "music = loader.loadMusic(\"Vitamins.ogg\")\n",
    "music.setLoop(True)\n",
    "# Ten utwór jest dość głośny,\n",
    "# więc ściszmy głośność.\n",
    "# Dostosujcie się do swoich ustawień i preferencji!\n",
    "music.setVolume(0.75)\n",
    "music.play()\n",
    "```"
   ]
  },
  {
   "cell_type": "markdown",
   "id": "dc7210b7",
   "metadata": {
    "slideshow": {
     "slide_type": "subslide"
    }
   },
   "source": [
    "```python\n",
    "from direct.showbase.ShowBase import ShowBase\n",
    "\n",
    "\n",
    "class MyApp(ShowBase):\n",
    "    def __init__(self):\n",
    "        ShowBase.__init__(self)\n",
    "\n",
    "        # W metodzie „__init__”:\n",
    "        music = self.loader.loadMusic(\"Vitamins.ogg\")\n",
    "        music.setLoop(True)\n",
    "        # Ten utwór jest dość głośny,\n",
    "        # więc ściszmy głośność.\n",
    "        # Dostosujcie się do swoich ustawień i preferencji!\n",
    "        music.setVolume(0.75)\n",
    "        music.play()\n",
    "\n",
    "\n",
    "app = MyApp()\n",
    "app.run()\n",
    "```"
   ]
  },
  {
   "cell_type": "markdown",
   "id": "3ff897f5",
   "metadata": {
    "pycharm": {
     "name": "#%%\n"
    },
    "slideshow": {
     "slide_type": "-"
    }
   },
   "source": [
    "Powinniście teraz usłyszeć muzykę!"
   ]
  },
  {
   "cell_type": "markdown",
   "id": "2f35c173",
   "metadata": {
    "slideshow": {
     "slide_type": "subslide"
    }
   },
   "source": [
    "Być może pamiętacie, że aby zapętlić animację w aktorze, po prostu wywołujemy „pętlę”. Zauważcie zatem, że nie dotyczy to dźwięków: zamiast tego najpierw wywołujemy „setLoop”, który nie uruchamia dźwięku, ale wskazuje, że powinien zapętlić się podczas odtwarzania, a następnie wywołujemy „play”, który rozpoczyna to."
   ]
  },
  {
   "cell_type": "markdown",
   "id": "84e0fa92",
   "metadata": {
    "slideshow": {
     "slide_type": "slide"
    }
   },
   "source": [
    "## Pakowanie do postaci pliku uruchamialnego"
   ]
  },
  {
   "cell_type": "markdown",
   "id": "ca5a6183",
   "metadata": {
    "slideshow": {
     "slide_type": "fragment"
    }
   },
   "source": [
    "Dowiedzmy się, jak zbudować dystrybucyjną wersję naszej aplikacji"
   ]
  },
  {
   "cell_type": "markdown",
   "id": "f7aa1e26",
   "metadata": {
    "slideshow": {
     "slide_type": "fragment"
    }
   },
   "source": [
    "Panda3D zawiera narzędzie, które – z pewnymi wskazówkami od nas – automatycznie zbuduje dystrybucyjną wersję naszej aplikacji, pobierając pliki z Internetu zgodnie z wymaganiami."
   ]
  },
  {
   "cell_type": "markdown",
   "id": "e02fc1ba",
   "metadata": {
    "slideshow": {
     "slide_type": "subslide"
    }
   },
   "source": [
    "Wymaga dwóch plików:\n",
    "* „requirements.txt”, który mówi, jakie pakiety zależności będą wymagane przez ostateczną aplikację. (I zauważcie, że sam pakiet „panda3d” jest taką zależnością!)\n",
    "* I plik nazwany dowolnie, powiedzmy: „setup.py”, który szczegółowo opisuje, jak powinien zbudować aplikację."
   ]
  },
  {
   "cell_type": "markdown",
   "id": "fe01c4b9",
   "metadata": {
    "slideshow": {
     "slide_type": "subslide"
    }
   },
   "source": [
    "Plik „requirements.txt” jest dość prosty. Rzeczywiście, dla naszych celów będzie miał tylko jedną linię:"
   ]
  },
  {
   "cell_type": "markdown",
   "id": "bf480570",
   "metadata": {
    "slideshow": {
     "slide_type": "fragment"
    }
   },
   "source": [
    "```\n",
    "panda3d\n",
    "```"
   ]
  },
  {
   "cell_type": "markdown",
   "id": "8cd74851",
   "metadata": {
    "slideshow": {
     "slide_type": "subslide"
    }
   },
   "source": [
    "Plik „setup.py” jest nieco bardziej skomplikowany."
   ]
  },
  {
   "cell_type": "markdown",
   "id": "5a2fc1b8",
   "metadata": {
    "slideshow": {
     "slide_type": "fragment"
    }
   },
   "source": [
    "Na początek podstawy: z „setuptools” importujemy metodę „setup”, a następnie ją wywołujemy, podając szczegóły naszej aplikacji jako parametry. Szablon tego kodu wygląda tak:"
   ]
  },
  {
   "cell_type": "markdown",
   "id": "3dc58dfc",
   "metadata": {
    "slideshow": {
     "slide_type": "fragment"
    }
   },
   "source": [
    "```python\n",
    "from setuptools import setup\n",
    "\n",
    "setup(\n",
    "# Tutaj idą parametry...\n",
    ")\n",
    "```"
   ]
  },
  {
   "cell_type": "markdown",
   "id": "dac99494",
   "metadata": {
    "slideshow": {
     "slide_type": "subslide"
    }
   },
   "source": [
    "Dajmy mu to dwa parametry: nazwa naszej aplikacji oraz słownik opcji."
   ]
  },
  {
   "cell_type": "markdown",
   "id": "35c53bdf",
   "metadata": {
    "slideshow": {
     "slide_type": "fragment"
    }
   },
   "source": [
    "W naszym przypadku technicznie będziemy mieli tylko jedną opcję - ale ta \"opcja\" sama będzie zawierać kilka opcji. Ta opcja nazywa się „build_apps”, a opcje, które jej przekazujemy, opisują, jak zbudować naszą aplikację. Obejmuje to takie rzeczy, jak platformy, dla których chcemy budować, które pliki lub typy plików chcemy uwzględnić lub wykluczyć z produktu końcowego i tak dalej."
   ]
  },
  {
   "cell_type": "markdown",
   "id": "50c87792",
   "metadata": {
    "slideshow": {
     "slide_type": "subslide"
    }
   },
   "source": [
    "Zatem:"
   ]
  },
  {
   "cell_type": "markdown",
   "id": "11281d86",
   "metadata": {
    "slideshow": {
     "slide_type": "fragment"
    }
   },
   "source": [
    "```python\n",
    "from setuptools import setup\n",
    "\n",
    "setup(\n",
    "    name=\"Amiga Boing Ball\",\n",
    "    options={\n",
    "        \"build_apps\": {\n",
    "            # Tutaj znajdują się opcje kompilacji...\n",
    "        }\n",
    "    }\n",
    ")\n",
    "```"
   ]
  },
  {
   "cell_type": "markdown",
   "id": "afb2935b",
   "metadata": {
    "slideshow": {
     "slide_type": "fragment"
    }
   },
   "source": [
    "Co pozostawia do wypełnienia tylko opcje kompilacji."
   ]
  },
  {
   "cell_type": "markdown",
   "id": "44cdaca8",
   "metadata": {
    "slideshow": {
     "slide_type": "subslide"
    }
   },
   "source": [
    "Użyjemy sześciu: „include_patterns”, „gui_apps”, „plugins”, „platforms”, „log_filename” i „log_append”.\n",
    "* „include_patterns” wskazuje, które pliki powinny być częścią produktu końcowego. Niektóre z nich zostaną przetworzone (np. pliki „egg” zostaną przekonwertowane na pliki „bam”), podczas gdy inne zostaną dołączone bez zmian.\n",
    "  * Mogą to być określone nazwy plików lub wzorce plików.\n",
    "  * Jeśli mamy pliki, które chcemy wykluczyć, możemy to zrobić za pomocą „exclude_patterns”.\n",
    "* „gui_apps” wskazuje, że budujemy aplikację, która otwiera okno, a także wskazuje lokalizację „głównego” pliku Pythona aplikacji. Gdybyśmy chcieli uruchomić z konsoli, moglibyśmy zamiast tego użyć „console_apps”. Zauważcie, że gdybyśmy chcieli, moglibyśmy zbudować wiele aplikacji, zarówno gui, jak i konsolę."
   ]
  },
  {
   "cell_type": "markdown",
   "id": "4e759de0",
   "metadata": {
    "slideshow": {
     "slide_type": "subslide"
    }
   },
   "source": [
    "* „plugins” wskazują, których wtyczek Panda3D chcemy użyć. Obejmuje to takie rzeczy jak OpenGL, OpenAL, FMod, obsługę dodatkowych typów plików modeli i tak dalej.\n",
    "* „platforms” to po prostu systemy operacyjne, dla których chcemy budować (aw niektórych przypadkach budować dla systemów 32- lub 64-bitowych). Uwzględnię opcje Windows, Mac i Linux w sekcji „platforms” poniżej - po prostu usuńcie te, których nie chcecie."
   ]
  },
  {
   "cell_type": "markdown",
   "id": "53525e08",
   "metadata": {
    "slideshow": {
     "slide_type": "subslide"
    }
   },
   "source": [
    "* \"log_filename\" mówi Panda3D, jak nazwać plik dziennika, który tworzy w celu raportowania różnych danych wyjściowych - w szczególności takich jak ostrzeżenia i błędy.\n",
    "  * To może wydawać się nieistotne – w końcu do tej pory byliśmy w stanie zobaczyć te dane wyjściowe w naszej konsoli! Jednak w systemach Windows i Mac kompilacje dystrybuowalne nie dadzą takich danych wyjściowych poza plikiem dziennika. To może sprawić, że debugowanie wszelkich problemów, które pojawią się w takiej kompilacji, będzie naprawdę bardzo trudne! Dlatego bardzo dobrym pomysłem jest posiadanie dziennika!\n",
    "* „log_append” po prostu wskazuje, czy Panda3D powinna zezwolić plikowi dziennika na gromadzenie danych wyjściowych z wielu przebiegów, czy też wyczyścić go i rozpocząć od nowa przy każdym przebiegu."
   ]
  },
  {
   "cell_type": "markdown",
   "id": "d63ce48b",
   "metadata": {
    "slideshow": {
     "slide_type": "subslide"
    }
   },
   "source": [
    "W ten sposób kończymy na tym:"
   ]
  },
  {
   "cell_type": "markdown",
   "id": "10a70b54",
   "metadata": {
    "slideshow": {
     "slide_type": "fragment"
    }
   },
   "source": [
    "```python\n",
    "from setuptools import setup\n",
    "\n",
    "setup(\n",
    "    name=\"Amiga Boing Ball\",\n",
    "    options={\n",
    "        \"build_apps\": {\n",
    "            # Pliki, które chcemy dołączyć. Konkretnie:\n",
    "            # * Wszystkie nasze pliki graficzne (.png)\n",
    "            # * Wszystkie nasze pliki dźwiękowe i muzyczne\n",
    "            #   (.ogg)\n",
    "            # * Wszystkie nasze pliki tekstowe (.txt)\n",
    "            # * Wszystkie nasze modele 3D (.egg)\n",
    "            #    - Zostaną one automatycznie prze-konwertowane\n",
    "            #      na pliki .bam\n",
    "            # * Wszystkie nasze modele 3D (.bam)\n",
    "            # * I wszystkie nasze pliki czcionek\n",
    "            #   (w folderze „Font”)\n",
    "            \"include_patterns\": [\n",
    "                \"**/*.png\",\n",
    "                \"**/*.ogg\",\n",
    "                \"**/*.txt\",\n",
    "                \"**/*.egg\",\n",
    "                \"**/*.bam\",\n",
    "                \"Fonts/*\"\n",
    "            ],\n",
    "            # Chcemy mieć aplikację gui, a nasz \"główny\" plik\n",
    "            # Pythona to \"2a_amiga.py\"\n",
    "            \"gui_apps\": {\n",
    "                \"Amiga Boing Ball\": \"2a_amiga.py\"\n",
    "            },\n",
    "            # Wtyczki, których używamy. W szczególności\n",
    "            # używamy OpenGL i dźwięku OpenAL\n",
    "            \"plugins\": [\n",
    "                \"pandagl\",\n",
    "                \"p3openal_audio\"\n",
    "            ],\n",
    "            # Platformy, dla których budujemy.\n",
    "            # Usuńcie te, których nie chcecie.\n",
    "            \"platforms\": [\n",
    "                \"manylinux2010_x86_64\",\n",
    "                \"macosx_10_9_x86_64\",\n",
    "                \"win_amd64\"\n",
    "            ],\n",
    "            # Nazwa naszego pliku dziennika. Zachowujemy\n",
    "            # krótką nazwę katalogu — nasz tytuł jest dość\n",
    "            # długi — i umieszczamy plik w katalogu\n",
    "            # „app-data” użytkownika.\n",
    "            \"log_filename\":\n",
    "                \"$USER_APPDATA/AmigaBoingBall/output.log\",\n",
    "            # Zamiast zezwalać na gromadzenie danych dziennika,\n",
    "            # decydujemy się na rozpoczęcie dziennika od nowa\n",
    "            # przy każdym uruchomieniu.\n",
    "            \"log_append\": False\n",
    "        }\n",
    "    }\n",
    ")\n",
    "```"
   ]
  },
  {
   "cell_type": "markdown",
   "id": "8401edaf",
   "metadata": {
    "slideshow": {
     "slide_type": "subslide"
    }
   },
   "source": [
    "Zauważcie, że jeśli całkowicie pominiemy sekcję „platforms”, system budowania automatycznie zbuduje się dla wszystkich domyślnych platform. Domyślne są trzy, które zawarliśmy w naszym \"setup.py\" powyżej."
   ]
  },
  {
   "cell_type": "markdown",
   "id": "426b6e7a",
   "metadata": {
    "slideshow": {
     "slide_type": "fragment"
    }
   },
   "source": [
    "Zauważcie również, że konkretne nazwy różnych platform będą mogły się zmienić. Lepiej sprawdzić aktualne nazwy platform, z których zamierzacie korzystać!"
   ]
  },
  {
   "cell_type": "markdown",
   "id": "7e9d3056",
   "metadata": {
    "slideshow": {
     "slide_type": "fragment"
    }
   },
   "source": [
    "W skrypcie „setup.py” dostępnych jest wiele innych opcji. Pełniejszą listę i bardziej szczegółowe wyjaśnienie znajdziecie w instrukcji!"
   ]
  },
  {
   "cell_type": "markdown",
   "id": "f0313dd6",
   "metadata": {
    "slideshow": {
     "slide_type": "fragment"
    }
   },
   "source": [
    "Tak więc, mając to wszystko na swoim miejscu, pozostaje tylko jedna rzecz do zrobienia: faktycznie uruchomić polecenie, które ustawia naszą aplikację!"
   ]
  },
  {
   "cell_type": "markdown",
   "id": "ce655962",
   "metadata": {
    "slideshow": {
     "slide_type": "subslide"
    }
   },
   "source": [
    "Aby to zrobić, otwieramy konsolę i uruchamiamy nasz skrypt „setup.py”, przekazując do niego polecenie „bdist_apps”. Spowoduje to, że system budowania najpierw zbuduje naszą dystrybucyjną aplikację, a następnie spakuje ją w ładnie przenośnym formacie. (Aktualnie wszystkie formaty opakowań są archiwami)."
   ]
  },
  {
   "cell_type": "markdown",
   "id": "d57194de",
   "metadata": {
    "slideshow": {
     "slide_type": "fragment"
    }
   },
   "source": [
    "Polecenie wygląda następująco:"
   ]
  },
  {
   "cell_type": "markdown",
   "id": "b7122d50",
   "metadata": {
    "slideshow": {
     "slide_type": "fragment"
    }
   },
   "source": [
    "```sh\n",
    "python3 setup.py bdist_apps\n",
    "```"
   ]
  },
  {
   "cell_type": "code",
   "execution_count": null,
   "id": "39493364",
   "metadata": {
    "slideshow": {
     "slide_type": "slide"
    }
   },
   "outputs": [],
   "source": []
  }
 ],
 "metadata": {
  "celltoolbar": "Slideshow",
  "kernelspec": {
   "display_name": "Python 3 (ipykernel)",
   "language": "python",
   "name": "python3"
  },
  "language_info": {
   "codemirror_mode": {
    "name": "ipython",
    "version": 3
   },
   "file_extension": ".py",
   "mimetype": "text/x-python",
   "name": "python",
   "nbconvert_exporter": "python",
   "pygments_lexer": "ipython3",
   "version": "3.11.3"
  }
 },
 "nbformat": 4,
 "nbformat_minor": 5
}
