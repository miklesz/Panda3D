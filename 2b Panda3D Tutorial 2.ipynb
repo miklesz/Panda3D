{
 "cells": [
  {
   "cell_type": "markdown",
   "id": "34eab517",
   "metadata": {
    "pycharm": {
     "name": "#%% md\n"
    }
   },
   "source": [
    "# Panda3D Tutorial 2\n",
    "\n",
    "![](https://www.panda3d.org/wp-content/uploads/2018/12/panda3d_logo_s_white.png)\n",
    "\n",
    "_Mikołaj Leszczuk_\n",
    "\n",
    "Na podstawie: [Panda3D Beginner's Tutorial](https://arsthaumaturgis.github.io/Panda3DTutorial.io/)"
   ]
  },
  {
   "cell_type": "markdown",
   "id": "5c026d3c",
   "metadata": {
    "slideshow": {
     "slide_type": "slide"
    }
   },
   "source": [
    "## Dźwięk"
   ]
  },
  {
   "cell_type": "markdown",
   "id": "8b83e7fb",
   "metadata": {
    "slideshow": {
     "slide_type": "fragment"
    }
   },
   "source": [
    "Nauczmy się obsługi dźwięku i muzyki w Panda3D."
   ]
  },
  {
   "cell_type": "markdown",
   "id": "51bf57d1",
   "metadata": {
    "slideshow": {
     "slide_type": "fragment"
    }
   },
   "source": [
    "W większości przypadków radzenie sobie z dźwiękiem i muzyką w Panda3D jest dość proste. Wczytujecie plik dźwiękowy lub muzyczny, odtwarzacie go (być może po ustawieniu głośności lub zapętleniu) i to wszystko!"
   ]
  },
  {
   "cell_type": "markdown",
   "id": "734b22a7",
   "metadata": {
    "slideshow": {
     "slide_type": "subslide"
    }
   },
   "source": [
    "Można zrobić bardziej złożone rzeczy (takie jak użycie dźwięku pozycyjnego 3D), ale do naszych celów wystarczy powyższe."
   ]
  },
  {
   "cell_type": "markdown",
   "id": "b330ea76",
   "metadata": {
    "slideshow": {
     "slide_type": "fragment"
    }
   },
   "source": [
    "Warto zauważyć, że Panda rozróżnia efekty dźwiękowe i muzykę; ma dla nich osobne obiekty menedżerskie. Ułatwia to pracę z jednym z nich jako całością bez wpływu na drugie. Na przykład możecie dostosować ogólną głośność muzyki, pozostawiając efekty dźwiękowe bez zmian."
   ]
  },
  {
   "cell_type": "markdown",
   "id": "f9a70068",
   "metadata": {
    "slideshow": {
     "slide_type": "subslide"
    }
   },
   "source": [
    "Na początek załadujmy i odtwórzmy muzykę. W większym projekcie możemy mieć wiele plików muzycznych, które będą odtwarzane w różnych okolicznościach, ale do celów nauki będziemy mieli tylko jeden utwór muzyczny (\"Vitamins\"/[Sundial Aeon](http://sundial-aeon.pl))."
   ]
  },
  {
   "cell_type": "markdown",
   "id": "336f5b18",
   "metadata": {
    "slideshow": {
     "slide_type": "fragment"
    }
   },
   "source": [
    "```python\n",
    "# W metodzie „__init__”:\n",
    "music = loader.loadMusic(\"Vitamins.ogg\")\n",
    "music.setLoop(True)\n",
    "# Ten utwór jest dość głośny,\n",
    "# więc ściszmy głośność.\n",
    "# Dostosujcie się do swoich ustawień i preferencji!\n",
    "music.setVolume(0.75)\n",
    "music.play()\n",
    "```"
   ]
  },
  {
   "cell_type": "markdown",
   "id": "cb62a14e",
   "metadata": {
    "slideshow": {
     "slide_type": "subslide"
    }
   },
   "source": [
    "```python\n",
    "from direct.showbase.ShowBase import ShowBase\n",
    "\n",
    "\n",
    "class MyApp(ShowBase):\n",
    "    def __init__(self):\n",
    "        ShowBase.__init__(self)\n",
    "\n",
    "        # W metodzie „__init__”:\n",
    "        music = self.loader.loadMusic(\"Vitamins.ogg\")\n",
    "        music.setLoop(True)\n",
    "        # Ten utwór jest dość głośny,\n",
    "        # więc ściszmy głośność.\n",
    "        # Dostosujcie się do swoich ustawień i preferencji!\n",
    "        music.setVolume(0.75)\n",
    "        music.play()\n",
    "\n",
    "\n",
    "app = MyApp()\n",
    "app.run()\n",
    "```"
   ]
  },
  {
   "cell_type": "markdown",
   "id": "e919e327",
   "metadata": {
    "pycharm": {
     "name": "#%%\n"
    },
    "slideshow": {
     "slide_type": "-"
    }
   },
   "source": [
    "Powinniście teraz usłyszeć muzykę!"
   ]
  },
  {
   "cell_type": "code",
   "execution_count": null,
   "id": "488b51ae",
   "metadata": {
    "slideshow": {
     "slide_type": "slide"
    }
   },
   "outputs": [],
   "source": []
  }
 ],
 "metadata": {
  "celltoolbar": "Slideshow",
  "kernelspec": {
   "display_name": "Python 3 (ipykernel)",
   "language": "python",
   "name": "python3"
  },
  "language_info": {
   "codemirror_mode": {
    "name": "ipython",
    "version": 3
   },
   "file_extension": ".py",
   "mimetype": "text/x-python",
   "name": "python",
   "nbconvert_exporter": "python",
   "pygments_lexer": "ipython3",
   "version": "3.10.4"
  }
 },
 "nbformat": 4,
 "nbformat_minor": 5
}
