{
 "cells": [
  {
   "cell_type": "markdown",
   "id": "34eab517",
   "metadata": {
    "pycharm": {
     "name": "#%% md\n"
    }
   },
   "source": [
    "# Panda3D Tutorial 1\n",
    "\n",
    "![](https://www.panda3d.org/wp-content/uploads/2018/12/panda3d_logo_s_white.png)\n",
    "\n",
    "_Mikołaj Leszczuk_\n",
    "\n",
    "Na podstawie: [Panda3D Beginner's Tutorial](https://arsthaumaturgis.github.io/Panda3DTutorial.io/)"
   ]
  },
  {
   "cell_type": "markdown",
   "id": "b2e814af",
   "metadata": {
    "pycharm": {
     "name": "#%% md\n"
    },
    "slideshow": {
     "slide_type": "slide"
    }
   },
   "source": [
    "## Rozmiar okna"
   ]
  },
  {
   "cell_type": "markdown",
   "id": "d72ff201",
   "metadata": {
    "pycharm": {
     "name": "#%% md\n"
    },
    "slideshow": {
     "slide_type": "fragment"
    }
   },
   "source": [
    "Utwórzmy obiekt „ShowBase” i nakażmy mu uruchomienie."
   ]
  },
  {
   "cell_type": "markdown",
   "id": "1977b422",
   "metadata": {
    "pycharm": {
     "name": "#%% md\n"
    },
    "slideshow": {
     "slide_type": "fragment"
    }
   },
   "source": [
    "```python\n",
    "from direct.showbase.ShowBase import ShowBase\n",
    "\n",
    "\n",
    "class MyApp(ShowBase):\n",
    "    def __init__(self):\n",
    "        ShowBase.__init__(self)\n",
    "\n",
    "        \n",
    "app = MyApp()\n",
    "app.run()\n",
    "```"
   ]
  },
  {
   "cell_type": "markdown",
   "id": "00f092a2",
   "metadata": {
    "pycharm": {
     "name": "#%% md\n"
    },
    "slideshow": {
     "slide_type": "subslide"
    }
   },
   "source": [
    "Jeśli uruchomicie powyższy kod, powinno otworzyć się okno zatytułowane „Panda” i pokazywać pusty szary widok:"
   ]
  },
  {
   "cell_type": "markdown",
   "id": "7758a287",
   "metadata": {
    "pycharm": {
     "name": "#%% md\n"
    },
    "slideshow": {
     "slide_type": "-"
    }
   },
   "source": [
    "![](https://arsthaumaturgis.github.io/Panda3DTutorial.io/tutorial/images/greyWindow.png)"
   ]
  },
  {
   "cell_type": "markdown",
   "id": "81024192",
   "metadata": {
    "pycharm": {
     "name": "#%% md\n"
    },
    "slideshow": {
     "slide_type": "subslide"
    }
   },
   "source": [
    "Domyślnie Panda3D otwiera okno 800x600, które może być nieco małe. Więc zróbmy to trochę większe."
   ]
  },
  {
   "cell_type": "markdown",
   "id": "15d543de",
   "metadata": {
    "pycharm": {
     "name": "#%% md\n"
    },
    "slideshow": {
     "slide_type": "fragment"
    }
   },
   "source": [
    "Można to zrobić na kilka sposobów, ale jedną prostą metodą jest „zażądanie właściwości okna”. Krótko mówiąc, tworzymy obiekt „WindowProperties”, ustawiamy żądane właściwości w tym obiekcie, a następnie przekazujemy go z powrotem do Panda3D, prosząc o ich zastosowanie."
   ]
  },
  {
   "cell_type": "markdown",
   "id": "49a8a3ff",
   "metadata": {
    "pycharm": {
     "name": "#%% md\n"
    },
    "slideshow": {
     "slide_type": "subslide"
    }
   },
   "source": [
    "Wybierzmy rozmiar okna 1000x750; zmodyfikujcie to, aby dopasować je do swojego ekranu i preferencji."
   ]
  },
  {
   "cell_type": "markdown",
   "id": "e47b1875",
   "metadata": {
    "pycharm": {
     "name": "#%% md\n"
    },
    "slideshow": {
     "slide_type": "fragment"
    }
   },
   "source": [
    "```python\n",
    "from direct.showbase.ShowBase import ShowBase\n",
    "\n",
    "from panda3d.core import WindowProperties\n",
    "\n",
    "\n",
    "class MyApp(ShowBase):\n",
    "    def __init__(self):\n",
    "        ShowBase.__init__(self)\n",
    "        \n",
    "        properties = WindowProperties()\n",
    "        properties.setSize(1000, 750)\n",
    "        self.win.requestProperties(properties)\n",
    "\n",
    "        \n",
    "app = MyApp()\n",
    "app.run()\n",
    "```\n",
    "\n"
   ]
  },
  {
   "cell_type": "markdown",
   "id": "655e875c",
   "metadata": {
    "pycharm": {
     "name": "#%% md\n"
    },
    "slideshow": {
     "slide_type": "slide"
    }
   },
   "source": [
    "## Wyłączanie myszy"
   ]
  },
  {
   "cell_type": "markdown",
   "id": "2e960bb5",
   "metadata": {
    "pycharm": {
     "name": "#%% md\n"
    },
    "slideshow": {
     "slide_type": "fragment"
    }
   },
   "source": [
    "Panda3D domyślnie używa określonego sterowania kamerą za pomocą myszy."
   ]
  },
  {
   "cell_type": "markdown",
   "id": "c82d7647",
   "metadata": {
    "pycharm": {
     "name": "#%% md\n"
    },
    "slideshow": {
     "slide_type": "fragment"
    }
   },
   "source": [
    "```python\n",
    "from direct.showbase.ShowBase import ShowBase\n",
    "from panda3d.core import WindowProperties\n",
    "\n",
    "\n",
    "class MyApp(ShowBase):\n",
    "    def __init__(self):\n",
    "        ShowBase.__init__(self)\n",
    "        properties = WindowProperties()\n",
    "        properties.setSize(1000, 750)\n",
    "        self.win.requestProperties(properties)\n",
    "\n",
    "        self.scene = \\\n",
    "            self.loader.loadModel(\"models/environment\")\n",
    "        self.scene.reparentTo(self.render)\n",
    "\n",
    "\n",
    "app = MyApp()\n",
    "app.run()\n",
    "```"
   ]
  },
  {
   "cell_type": "markdown",
   "id": "039c2371",
   "metadata": {
    "pycharm": {
     "name": "#%% md\n"
    },
    "slideshow": {
     "slide_type": "subslide"
    }
   },
   "source": [
    "Być może nie chcemy tego używać, więc wyłączamy tę kontrolę, umożliwiając nam (później) samodzielne sterowanie kamerą:"
   ]
  },
  {
   "cell_type": "markdown",
   "id": "d0811ab2",
   "metadata": {
    "pycharm": {
     "name": "#%% md\n"
    },
    "slideshow": {
     "slide_type": "fragment"
    }
   },
   "source": [
    "```python\n",
    "self.disableMouse()\n",
    "```"
   ]
  },
  {
   "cell_type": "markdown",
   "id": "6e9e72fd",
   "metadata": {
    "pycharm": {
     "name": "#%% md\n"
    },
    "slideshow": {
     "slide_type": "fragment"
    }
   },
   "source": [
    "```python\n",
    "from direct.showbase.ShowBase import ShowBase\n",
    "from panda3d.core import WindowProperties\n",
    "\n",
    "\n",
    "class MyApp(ShowBase):\n",
    "    def __init__(self):\n",
    "        ShowBase.__init__(self)\n",
    "        properties = WindowProperties()\n",
    "        properties.setSize(1000, 750)\n",
    "        self.win.requestProperties(properties)\n",
    "        self.scene = \\\n",
    "            self.loader.loadModel(\"models/environment\")\n",
    "        self.scene.reparentTo(self.render)\n",
    "\n",
    "        self.disableMouse()\n",
    "\n",
    "\n",
    "app = MyApp()\n",
    "app.run()\n",
    "```"
   ]
  },
  {
   "cell_type": "markdown",
   "id": "afd8d59f",
   "metadata": {
    "pycharm": {
     "name": "#%% md\n"
    },
    "slideshow": {
     "slide_type": "slide"
    }
   },
   "source": [
    "## Przejmowanie kontroli"
   ]
  },
  {
   "cell_type": "markdown",
   "id": "15fae1cd",
   "metadata": {
    "pycharm": {
     "name": "#%% md\n"
    },
    "slideshow": {
     "slide_type": "fragment"
    }
   },
   "source": [
    "_Zobaczmy, jak Panda3D radzi sobie z wprowadzaniem danych._"
   ]
  },
  {
   "cell_type": "markdown",
   "id": "c17c3b6a",
   "metadata": {
    "pycharm": {
     "name": "#%% md\n"
    },
    "slideshow": {
     "slide_type": "fragment"
    }
   },
   "source": [
    "Istnieją jeden główny sposób pobierania danych wejściowych w Panda3D: zdarzenia kluczowe. Panda3D wywołuje wyznaczoną metodę po naciśnięciu, zwolnieniu lub powtórzeniu klawisza."
   ]
  },
  {
   "cell_type": "markdown",
   "id": "9a4f9d84",
   "metadata": {
    "pycharm": {
     "name": "#%% md\n"
    },
    "slideshow": {
     "slide_type": "fragment"
    }
   },
   "source": [
    "W Panda3D zdarzenia są obsługiwane przez obiekty klasy „DirectObject”. ShowBase jest podklasą DirectObject, a nasza aplikacja jest podklasą ShowBase. Oznacza to, że nasza klasa aplikacji może obsługiwać zdarzenia."
   ]
  },
  {
   "cell_type": "markdown",
   "id": "4ac20c69",
   "metadata": {
    "pycharm": {
     "name": "#%% md\n"
    },
    "slideshow": {
     "slide_type": "fragment"
    }
   },
   "source": [
    "Aby zarejestrować nasze zainteresowanie zdarzeniem, mówimy odpowiedniemu DirectObject, aby „zaakceptował” to zdarzenie, przekazując metodę, którą chcemy wywołać po wystąpieniu zdarzenia, i opcjonalnie wszelkie dodatkowe parametry."
   ]
  },
  {
   "cell_type": "markdown",
   "id": "df78d578",
   "metadata": {
    "pycharm": {
     "name": "#%% md\n"
    },
    "slideshow": {
     "slide_type": "fragment"
    }
   },
   "source": [
    "W przypadku naciśnięcia klawisza, zdarzenie jest po prostu nazwane po nazwie klawisza. W naszym przypadku, niech będzie to klawisz `escape`, a wywoływaną metodą niech będzie metoda `exit()` (którą podaje się bez `()`)."
   ]
  },
  {
   "cell_type": "markdown",
   "id": "23f4db07",
   "metadata": {
    "pycharm": {
     "name": "#%% md\n"
    },
    "slideshow": {
     "slide_type": "fragment"
    }
   },
   "source": [
    "```python\n",
    "from direct.showbase.ShowBase import ShowBase\n",
    "from panda3d.core import WindowProperties\n",
    "\n",
    "\n",
    "class MyApp(ShowBase):\n",
    "    def __init__(self):\n",
    "        ShowBase.__init__(self)\n",
    "        properties = WindowProperties()\n",
    "        properties.setSize(1000, 750)\n",
    "        self.win.requestProperties(properties)\n",
    "        self.scene = \\\n",
    "            self.loader.loadModel(\"models/environment\")\n",
    "        self.scene.reparentTo(self.render)\n",
    "        self.disableMouse()\n",
    "\n",
    "        self.accept(\"escape\", exit)\n",
    "\n",
    "\n",
    "app = MyApp()\n",
    "app.run()\n",
    "```"
   ]
  },
  {
   "cell_type": "code",
   "execution_count": null,
   "id": "58a4840b",
   "metadata": {
    "pycharm": {
     "name": "#%%\n"
    },
    "slideshow": {
     "slide_type": "skip"
    }
   },
   "outputs": [],
   "source": []
  }
 ],
 "metadata": {
  "celltoolbar": "Slideshow",
  "kernelspec": {
   "display_name": "Python 3 (ipykernel)",
   "language": "python",
   "name": "python3"
  },
  "language_info": {
   "codemirror_mode": {
    "name": "ipython",
    "version": 3
   },
   "file_extension": ".py",
   "mimetype": "text/x-python",
   "name": "python",
   "nbconvert_exporter": "python",
   "pygments_lexer": "ipython3",
   "version": "3.10.7"
  }
 },
 "nbformat": 4,
 "nbformat_minor": 5
}
