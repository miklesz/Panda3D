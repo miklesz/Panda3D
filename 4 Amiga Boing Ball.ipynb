{
 "cells": [
  {
   "cell_type": "markdown",
   "id": "34eab517",
   "metadata": {
    "pycharm": {
     "name": "#%% md\n"
    }
   },
   "source": [
    "# Amiga Boing Ball\n",
    "\n",
    "![](https://upload.wikimedia.org/wikipedia/commons/0/05/Boingball.png)\n",
    "\n",
    "_Mikołaj Leszczuk_"
   ]
  },
  {
   "cell_type": "markdown",
   "id": "62dd5411",
   "metadata": {
    "slideshow": {
     "slide_type": "slide"
    }
   },
   "source": [
    "## Amiga"
   ]
  },
  {
   "cell_type": "markdown",
   "id": "9cd0b936",
   "metadata": {
    "slideshow": {
     "slide_type": "fragment"
    }
   },
   "source": [
    "Amiga (hiszp. _amiga_ – przyjaciółka) – marka komputerów produkowanych od 1985 r. między innymi przez firmę Commodore, popularna w XX wieku."
   ]
  },
  {
   "cell_type": "markdown",
   "id": "1af14c46",
   "metadata": {
    "slideshow": {
     "slide_type": "fragment"
    }
   },
   "source": [
    "Oryginalny model to jeden z wielu komputerów z połowy lat 80. z 16- lub 32-bitowymi procesorami, 256 KB lub więcej pamięci RAM, graficznymi interfejsami użytkownika opartymi na myszy oraz znacznie ulepszoną grafiką i dźwiękiem w porównaniu z poprzednimi systemami 8-bitowymi."
   ]
  },
  {
   "cell_type": "markdown",
   "id": "0236db43",
   "metadata": {
    "slideshow": {
     "slide_type": "subslide"
    }
   },
   "source": [
    "![](https://upload.wikimedia.org/wikipedia/commons/thumb/c/c3/Amiga500_system.jpg/618px-Amiga500_system.jpg)"
   ]
  },
  {
   "cell_type": "markdown",
   "id": "0111260f",
   "metadata": {},
   "source": [
    "Amiga 500 z 1987 roku była najlepiej sprzedającym się modelem."
   ]
  },
  {
   "cell_type": "markdown",
   "id": "970f961e",
   "metadata": {
    "slideshow": {
     "slide_type": "subslide"
    }
   },
   "source": [
    "Prototyp płytki prototypowej do testów i rozwoju został w dużej mierze ukończony pod koniec 1983 roku i zaprezentowany na targach Consumer Electronics Show (CES) w styczniu 1984 roku. W tamtym czasie system operacyjny nie był gotowy, więc maszyna została zademonstrowana w wersji demonstracyjnej „Boing Ball”, animacji w czasie rzeczywistym pokazującej czerwono-białą wirującą piłkę podskakującą i rzucającą cień; ta odbijająca się piłka stała się oficjalnym logo firmy Amiga. Uczestnicy CES mieli problem z uwierzeniem, że demonstrowany komputer ma moc wyświetlania takiego demo i na próżno szukali „prawdziwego” komputera, który się za nim kryje."
   ]
  },
  {
   "cell_type": "markdown",
   "id": "d3984019",
   "metadata": {
    "slideshow": {
     "slide_type": "subslide"
    }
   },
   "source": [
    "![](https://c.tenor.com/keUaCTBXJK4AAAAd/demo-1984.gif)"
   ]
  },
  {
   "cell_type": "markdown",
   "id": "39a15b36",
   "metadata": {
    "slideshow": {
     "slide_type": "fragment"
    }
   },
   "source": [
    "My dziś, po około 4 dekadach, stworzymy współczesną wersję Amiga Boing Ball, przy pomocy Pythona i Panda3D."
   ]
  },
  {
   "cell_type": "markdown",
   "id": "8d764c81",
   "metadata": {
    "slideshow": {
     "slide_type": "slide"
    }
   },
   "source": [
    "## Modele i ich podgląd"
   ]
  },
  {
   "cell_type": "markdown",
   "id": "7db41075",
   "metadata": {
    "slideshow": {
     "slide_type": "slide"
    }
   },
   "source": [
    "### Podgląd modeli 3D w Pview"
   ]
  },
  {
   "cell_type": "markdown",
   "id": "5a44ea27",
   "metadata": {
    "slideshow": {
     "slide_type": "fragment"
    }
   },
   "source": [
    "Pview (czyli Panda Viewer) to przeglądarka modeli i animacji dla plików egg i bam (formaty plików modeli Panda3D). Dzięki temu użytkownicy mogą sprawdzić, czy ich pliki zostały poprawnie przekonwertowane, bez konieczności tworzenia programu Panda3D. Dostęp do Pview można uzyskać za pomocą wiersza poleceń."
   ]
  },
  {
   "cell_type": "markdown",
   "id": "5b3c846a",
   "metadata": {
    "slideshow": {
     "slide_type": "slide"
    }
   },
   "source": [
    "### [Amiga Boing Ball](https://3dwarehouse.sketchup.com/model/5d3d3a486e9e36d1d736d7e8633a1746/Amiga-boing-ball)\n",
    "![](https://3dwarehouse.sketchup.com/warehouse/v1.0/content/public/166125c2-dabf-4f3a-9dfd-a02d519aebd7)\n",
    "Aby wyświetlić model, wpiszcie następujące polecenie:\n",
    "```sh\n",
    "pview ball.bam\n",
    "```"
   ]
  },
  {
   "cell_type": "markdown",
   "id": "29671696",
   "metadata": {
    "slideshow": {
     "slide_type": "slide"
    }
   },
   "source": [
    "### [The Grid](https://sketchfab.com/3d-models/the-grid-9aba711483c644bf94c4588399e1aa02)\n",
    "![](https://media.sketchfab.com/models/9aba711483c644bf94c4588399e1aa02/thumbnails/942cadc4fd974cb8803a08562bfd031c/1024x576.jpeg)\n",
    "Aby wyświetlić model, wpiszcie następujące polecenie:\n",
    "```sh\n",
    "pview grid.bam\n",
    "```"
   ]
  },
  {
   "cell_type": "markdown",
   "id": "679f7aed",
   "metadata": {
    "slideshow": {
     "slide_type": "slide"
    }
   },
   "source": [
    "## Program"
   ]
  },
  {
   "cell_type": "markdown",
   "id": "68773a76",
   "metadata": {
    "slideshow": {
     "slide_type": "fragment"
    }
   },
   "source": [
    "W przykładzie \"Panda3D Hello World\" uzyto interfejsu obiektowego, ale do prostych projektów możemy zrezygnować z obiektówki."
   ]
  },
  {
   "cell_type": "markdown",
   "id": "9909958a",
   "metadata": {
    "slideshow": {
     "slide_type": "slide"
    }
   },
   "source": [
    "### ShowBase i ładowanie modelu `ball`\n",
    "```python\n",
    "from direct.showbase.ShowBase import ShowBase\n",
    "base = ShowBase()\n",
    "ball = base.loader.loadModel('ball.bam')\n",
    "ball.reparentTo(base.render)\n",
    "base.run()\n",
    "```"
   ]
  },
  {
   "cell_type": "markdown",
   "id": "bb986d71",
   "metadata": {
    "slideshow": {
     "slide_type": "slide"
    }
   },
   "source": [
    "### Ustawienie koloru tła (`setBackgroundColor` )\n",
    "Ustawia kolor tła okna na wskazaną wartość. Zakłada się, że okno jest ustawione tak, aby wyczyścić kolor każdej klatki (jest to normalne ustawienie). Wszystkie kolory, których oczekuje Panda3D, są wartościami zmiennoprzecinkowymi z zakresu od 0,0 do 1,0.\n",
    "```python\n",
    "from direct.showbase.ShowBase import ShowBase\n",
    "base = ShowBase()\n",
    "ball = base.loader.loadModel('ball.bam')\n",
    "ball.reparentTo(base.render)\n",
    "\n",
    "base.setBackgroundColor(0, 0, 0)\n",
    "\n",
    "base.run()\n",
    "```"
   ]
  },
  {
   "cell_type": "markdown",
   "id": "025f13af",
   "metadata": {
    "slideshow": {
     "slide_type": "slide"
    }
   },
   "source": [
    "### Zastosowanie przekształcenia pozycji modelu\n",
    "```python\n",
    "from direct.showbase.ShowBase import ShowBase\n",
    "base = ShowBase()\n",
    "ball = base.loader.loadModel('ball.bam')\n",
    "ball.reparentTo(base.render)\n",
    "base.setBackgroundColor(0, 0, 0)\n",
    "\n",
    "ball.setPos(0, 17.5, 0)\n",
    "\n",
    "base.run()\n",
    "```"
   ]
  },
  {
   "cell_type": "markdown",
   "id": "eca9bb3b",
   "metadata": {
    "slideshow": {
     "slide_type": "slide"
    }
   },
   "source": [
    "### Reflektor (`Spotlight`)\n",
    "Światło pochodzące z jednego punktu w przestrzeni i świecące w określonym kierunku ze stożkowym zanikiem. Bryła ścięta reflektora jest definiowana za pomocą obiektywu, więc może mieć dowolne właściwości, jakie może mieć obiektyw aparatu. Zauważcie, że klasa nosi nazwę `Spotlight` zamiast SpotLight, ponieważ „spotlight” to pojedyncze słowo angielskie, a nie dwa słowa.\n",
    "```python\n",
    "from direct.showbase.ShowBase import ShowBase\n",
    "\n",
    "from panda3d.core import *\n",
    "\n",
    "base = ShowBase()\n",
    "ball = base.loader.loadModel('ball.bam')\n",
    "ball.reparentTo(base.render)\n",
    "base.setBackgroundColor(0, 0, 0)\n",
    "ball.setPos(0, 17.5, 0)\n",
    "\n",
    "spotlight = Spotlight('spotlight')\n",
    "spot = base.render.attachNewNode(spotlight)\n",
    "spot.setPos(-25, -15, 30)\n",
    "spot.lookAt(ball)\n",
    "base.render.setLight(spot)\n",
    "\n",
    "base.run()\n",
    "```"
   ]
  },
  {
   "cell_type": "markdown",
   "id": "736a2bc6",
   "metadata": {
    "slideshow": {
     "slide_type": "slide"
    }
   },
   "source": [
    "### Światła otoczenia (`AmbientLight`)\n",
    "Źródło światła, które wydaje się oświetlać jednocześnie wszystkie punkty w przestrzeni. Ten rodzaj światła nie musi być właściwie częścią wykresu sceny, ponieważ nie ma znaczącej pozycji.\n",
    "```python\n",
    "from direct.showbase.ShowBase import ShowBase\n",
    "from panda3d.core import *\n",
    "base = ShowBase()\n",
    "ball = base.loader.loadModel('ball.bam')\n",
    "ball.reparentTo(base.render)\n",
    "base.setBackgroundColor(0, 0, 0)\n",
    "ball.setPos(0, 17.5, 0)\n",
    "spotlight = Spotlight('spotlight')\n",
    "spot = base.render.attachNewNode(spotlight)\n",
    "spot.setPos(-25, -15, 30)\n",
    "spot.lookAt(ball)\n",
    "base.render.setLight(spot)\n",
    "\n",
    "ambient_light = AmbientLight('ambient light')\n",
    "ambient_light.setColor((0.1, 0.1, 0.1, 1))\n",
    "ambient = base.render.attachNewNode(ambient_light)\n",
    "base.render.setLight(ambient)\n",
    "\n",
    "base.run()\n",
    "```"
   ]
  },
  {
   "cell_type": "markdown",
   "id": "4a3ba7e2",
   "metadata": {
    "slideshow": {
     "slide_type": "slide"
    }
   },
   "source": [
    "### Zastosowanie przekształcenia obrotu modelu\n",
    "```python\n",
    "from direct.showbase.ShowBase import ShowBase\n",
    "from panda3d.core import *\n",
    "base = ShowBase()\n",
    "ball = base.loader.loadModel('ball.bam')\n",
    "ball.reparentTo(base.render)\n",
    "base.setBackgroundColor(0, 0, 0)\n",
    "ball.setPos(0, 17.5, 0)\n",
    "spotlight = Spotlight('spotlight')\n",
    "spot = base.render.attachNewNode(spotlight)\n",
    "spot.setPos(-25, -15, 30)\n",
    "spot.lookAt(ball)\n",
    "base.render.setLight(spot)\n",
    "ambient_light = AmbientLight('ambient light')\n",
    "ambient_light.setColor((0.1, 0.1, 0.1, 1))\n",
    "ambient = base.render.attachNewNode(ambient_light)\n",
    "base.render.setLight(ambient)\n",
    "\n",
    "ball.setHpr(90, -60, 0)\n",
    "\n",
    "base.run()\n",
    "```"
   ]
  },
  {
   "cell_type": "markdown",
   "id": "a051b19d",
   "metadata": {
    "slideshow": {
     "slide_type": "slide"
    }
   },
   "source": [
    "### Ładowanie modelu `grid`"
   ]
  },
  {
   "cell_type": "code",
   "execution_count": null,
   "id": "665edf33",
   "metadata": {},
   "outputs": [],
   "source": []
  },
  {
   "cell_type": "code",
   "execution_count": null,
   "id": "58a4840b",
   "metadata": {
    "pycharm": {
     "name": "#%%\n"
    },
    "slideshow": {
     "slide_type": "skip"
    }
   },
   "outputs": [],
   "source": []
  }
 ],
 "metadata": {
  "celltoolbar": "Slideshow",
  "kernelspec": {
   "display_name": "Python 3 (ipykernel)",
   "language": "python",
   "name": "python3"
  },
  "language_info": {
   "codemirror_mode": {
    "name": "ipython",
    "version": 3
   },
   "file_extension": ".py",
   "mimetype": "text/x-python",
   "name": "python",
   "nbconvert_exporter": "python",
   "pygments_lexer": "ipython3",
   "version": "3.10.4"
  }
 },
 "nbformat": 4,
 "nbformat_minor": 5
}
