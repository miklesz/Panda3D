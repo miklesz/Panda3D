{
 "cells": [
  {
   "cell_type": "markdown",
   "id": "34eab517",
   "metadata": {
    "pycharm": {
     "name": "#%% md\n"
    }
   },
   "source": [
    "# Amiga Boing Ball\n",
    "\n",
    "![](https://upload.wikimedia.org/wikipedia/commons/0/05/Boingball.png)\n",
    "\n",
    "_Mikołaj Leszczuk_"
   ]
  },
  {
   "cell_type": "markdown",
   "id": "cd90ac4f",
   "metadata": {
    "slideshow": {
     "slide_type": "slide"
    }
   },
   "source": [
    "## Amiga"
   ]
  },
  {
   "cell_type": "markdown",
   "id": "614cd488",
   "metadata": {
    "slideshow": {
     "slide_type": "fragment"
    }
   },
   "source": [
    "Amiga (hiszp. _amiga_ – przyjaciółka) – marka komputerów produkowanych od 1985 r. między innymi przez firmę Commodore, popularna w XX wieku."
   ]
  },
  {
   "cell_type": "markdown",
   "id": "9b1c97de",
   "metadata": {
    "slideshow": {
     "slide_type": "fragment"
    }
   },
   "source": [
    "Oryginalny model to jeden z wielu komputerów z połowy lat 80. z 16- lub 32-bitowymi procesorami, 256 KB lub więcej pamięci RAM, graficznymi interfejsami użytkownika opartymi na myszy oraz znacznie ulepszoną grafiką i dźwiękiem w porównaniu z poprzednimi systemami 8-bitowymi."
   ]
  },
  {
   "cell_type": "markdown",
   "id": "cec1ee73",
   "metadata": {
    "slideshow": {
     "slide_type": "subslide"
    }
   },
   "source": [
    "![](https://upload.wikimedia.org/wikipedia/commons/thumb/c/c3/Amiga500_system.jpg/618px-Amiga500_system.jpg)"
   ]
  },
  {
   "cell_type": "markdown",
   "id": "53308ad3",
   "metadata": {},
   "source": [
    "Amiga 500 z 1987 roku była najlepiej sprzedającym się modelem."
   ]
  },
  {
   "cell_type": "markdown",
   "id": "3bc74d4b",
   "metadata": {
    "slideshow": {
     "slide_type": "subslide"
    }
   },
   "source": [
    "Prototyp płytki prototypowej do testów i rozwoju został w dużej mierze ukończony pod koniec 1983 roku i zaprezentowany na targach Consumer Electronics Show (CES) w styczniu 1984 roku. W tamtym czasie system operacyjny nie był gotowy, więc maszyna została zademonstrowana w wersji demonstracyjnej „Boing Ball”, animacji w czasie rzeczywistym pokazującej czerwono-białą wirującą piłkę podskakującą i rzucającą cień; ta odbijająca się piłka stała się oficjalnym logo firmy Amiga. Uczestnicy CES mieli problem z uwierzeniem, że demonstrowany komputer ma moc wyświetlania takiego demo i na próżno szukali „prawdziwego” komputera, który się za nim kryje."
   ]
  },
  {
   "cell_type": "markdown",
   "id": "982bbbed",
   "metadata": {
    "slideshow": {
     "slide_type": "subslide"
    }
   },
   "source": [
    "![](https://c.tenor.com/keUaCTBXJK4AAAAd/demo-1984.gif)"
   ]
  },
  {
   "cell_type": "markdown",
   "id": "73f22f69",
   "metadata": {
    "slideshow": {
     "slide_type": "fragment"
    }
   },
   "source": [
    "My dziś, po około 4 dekadach, stworzymy współczesną wersję Amiga Boing Ball, przy pomocy Pythona i Panda3D."
   ]
  },
  {
   "cell_type": "markdown",
   "id": "bbc2c685",
   "metadata": {
    "slideshow": {
     "slide_type": "slide"
    }
   },
   "source": [
    "## Modele i ich podgląd"
   ]
  },
  {
   "cell_type": "markdown",
   "id": "fec25494",
   "metadata": {
    "slideshow": {
     "slide_type": "slide"
    }
   },
   "source": [
    "### Podgląd modeli 3D w Pview"
   ]
  },
  {
   "cell_type": "markdown",
   "id": "331cc6c0",
   "metadata": {
    "slideshow": {
     "slide_type": "fragment"
    }
   },
   "source": [
    "Pview (czyli Panda Viewer) to przeglądarka modeli i animacji dla plików egg i bam (formaty plików modeli Panda3D). Dzięki temu użytkownicy mogą sprawdzić, czy ich pliki zostały poprawnie przekonwertowane, bez konieczności tworzenia programu Panda3D. Dostęp do Pview można uzyskać za pomocą wiersza poleceń."
   ]
  },
  {
   "cell_type": "markdown",
   "id": "dd6a198a",
   "metadata": {
    "slideshow": {
     "slide_type": "slide"
    }
   },
   "source": [
    "### [Amiga Boing Ball](https://3dwarehouse.sketchup.com/model/5d3d3a486e9e36d1d736d7e8633a1746/Amiga-boing-ball)\n",
    "![](https://3dwarehouse.sketchup.com/warehouse/v1.0/content/public/166125c2-dabf-4f3a-9dfd-a02d519aebd7)\n",
    "Aby wyświetlić model, wpiszcie następujące polecenie:\n",
    "```sh\n",
    "pview ball.bam\n",
    "```"
   ]
  },
  {
   "cell_type": "markdown",
   "id": "45d7da20",
   "metadata": {
    "slideshow": {
     "slide_type": "slide"
    }
   },
   "source": [
    "### [The Grid](https://sketchfab.com/3d-models/the-grid-9aba711483c644bf94c4588399e1aa02)\n",
    "![](https://media.sketchfab.com/models/9aba711483c644bf94c4588399e1aa02/thumbnails/942cadc4fd974cb8803a08562bfd031c/1024x576.jpeg)\n",
    "Aby wyświetlić model, wpiszcie następujące polecenie:\n",
    "```sh\n",
    "pview grid.bam\n",
    "```"
   ]
  },
  {
   "cell_type": "markdown",
   "id": "2cebd21a",
   "metadata": {
    "slideshow": {
     "slide_type": "slide"
    }
   },
   "source": [
    "## Program"
   ]
  },
  {
   "cell_type": "markdown",
   "id": "936e3dcc",
   "metadata": {
    "slideshow": {
     "slide_type": "fragment"
    }
   },
   "source": [
    "W przykładzie \"Panda3D Hello World\" uzyto interfejsu obiektowego, ale do prostych projektów możemy zrezygnować z obiektówki."
   ]
  },
  {
   "cell_type": "markdown",
   "id": "240f0eb4",
   "metadata": {
    "slideshow": {
     "slide_type": "slide"
    }
   },
   "source": [
    "### ShowBase i ładowanie modelu `ball`"
   ]
  },
  {
   "cell_type": "markdown",
   "id": "44bf798b",
   "metadata": {
    "slideshow": {
     "slide_type": "fragment"
    }
   },
   "source": [
    "```python\n",
    "from direct.showbase.ShowBase import ShowBase\n",
    "base = ShowBase()\n",
    "ball = base.loader.loadModel('ball.bam')\n",
    "ball.reparentTo(base.render)\n",
    "base.run()\n",
    "```"
   ]
  },
  {
   "cell_type": "markdown",
   "id": "c1e7f718",
   "metadata": {
    "slideshow": {
     "slide_type": "slide"
    }
   },
   "source": [
    "### Zastosowanie przekształcenia pozycji modelu"
   ]
  },
  {
   "cell_type": "markdown",
   "id": "9729bb76",
   "metadata": {
    "slideshow": {
     "slide_type": "fragment"
    }
   },
   "source": [
    "```python\n",
    "from direct.showbase.ShowBase import ShowBase\n",
    "base = ShowBase()\n",
    "ball = base.loader.loadModel('ball.bam')\n",
    "ball.reparentTo(base.render)\n",
    "ball.setPos(0, 17.5, 0)\n",
    "base.run()\n",
    "```"
   ]
  },
  {
   "cell_type": "code",
   "execution_count": null,
   "id": "58a4840b",
   "metadata": {
    "pycharm": {
     "name": "#%%\n"
    },
    "slideshow": {
     "slide_type": "skip"
    }
   },
   "outputs": [],
   "source": []
  }
 ],
 "metadata": {
  "celltoolbar": "Slideshow",
  "kernelspec": {
   "display_name": "Python 3 (ipykernel)",
   "language": "python",
   "name": "python3"
  },
  "language_info": {
   "codemirror_mode": {
    "name": "ipython",
    "version": 3
   },
   "file_extension": ".py",
   "mimetype": "text/x-python",
   "name": "python",
   "nbconvert_exporter": "python",
   "pygments_lexer": "ipython3",
   "version": "3.10.4"
  }
 },
 "nbformat": 4,
 "nbformat_minor": 5
}
