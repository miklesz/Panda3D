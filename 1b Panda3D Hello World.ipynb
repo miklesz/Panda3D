{
 "cells": [
  {
   "cell_type": "markdown",
   "id": "34eab517",
   "metadata": {},
   "source": [
    "# Panda3D Hello World\n",
    "\n",
    "![](https://www.panda3d.org/wp-content/uploads/2018/12/panda3d_logo_s_white.png)\n",
    "\n",
    "_Mikołaj Leszczuk_\n",
    "\n",
    "Na podstawie: [A Panda3D Hello World Tutorial](https://docs.panda3d.org/1.10/python/introduction/tutorial/index)"
   ]
  },
  {
   "cell_type": "markdown",
   "id": "3f71aafe",
   "metadata": {
    "slideshow": {
     "slide_type": "subslide"
    }
   },
   "source": [
    "Zrobimy typowy przykład prostego programu Panda3D. Przejście przez ten moduł kursu pozwoli Wam uzyskać ograniczoną znajomość API Panda3D bez konieczności uczenia się wszystkiego. Program, który stworzymy, załaduje małą scenkę zawierającą trawę i pandę. Panda będzie animowana, aby chodzić tam iz powrotem po trawie."
   ]
  },
  {
   "cell_type": "markdown",
   "id": "7a64a01c",
   "metadata": {
    "slideshow": {
     "slide_type": "slide"
    }
   },
   "source": [
    "## Uruchamianie Panda3D"
   ]
  },
  {
   "cell_type": "markdown",
   "id": "96214418",
   "metadata": {
    "slideshow": {
     "slide_type": "slide"
    }
   },
   "source": [
    "### Tworzenie nowej aplikacji Panda3D"
   ]
  },
  {
   "cell_type": "markdown",
   "id": "949b144c",
   "metadata": {
    "slideshow": {
     "slide_type": "slide"
    }
   },
   "source": [
    "#### ShowBase"
   ]
  },
  {
   "cell_type": "markdown",
   "id": "8836ef42",
   "metadata": {
    "slideshow": {
     "slide_type": "subslide"
    }
   },
   "source": [
    "Aby uruchomić Panda3D, utwórzcie plik tekstowy i zapiszcie go z rozszerzeniem .py. Użyjcie PyCharm lub innego edytora tekstu specyficznego dla Pythona. Wpiszcie następujący kod źródłowy Pythona:"
   ]
  },
  {
   "cell_type": "markdown",
   "id": "64036f2d",
   "metadata": {},
   "source": [
    "```python\n",
    "from direct.showbase.ShowBase import ShowBase\n",
    "\n",
    "\n",
    "class MyApp(ShowBase):\n",
    "\n",
    "    def __init__(self):\n",
    "        ShowBase.__init__(self)\n",
    "\n",
    "\n",
    "app = MyApp()\n",
    "app.run()\n",
    "```"
   ]
  },
  {
   "cell_type": "markdown",
   "id": "24071476",
   "metadata": {
    "slideshow": {
     "slide_type": "subslide"
    }
   },
   "source": [
    "Tutaj uczyniliśmy naszą główną klasę dziedziczeniem z `ShowBase`. Ta klasa ładuje większość innych modułów Panda3D i powoduje pojawienie się okna 3D. Metoda `run()` zawiera główną pętlę Panda3D. Renderuje klatkę, obsługuje zadania w tle, a następnie powtarza. Normalnie niczego nie zwraca, więc musi być wywołana tylko raz i musi być ostatnią linią w skrypcie. W tym konkretnym przykładzie nie będzie nic do renderowania, więc powinniście spodziewać się okna zawierającego pusty szary obszar."
   ]
  },
  {
   "cell_type": "markdown",
   "id": "e6a4a373",
   "metadata": {
    "slideshow": {
     "slide_type": "slide"
    }
   },
   "source": [
    "### Uruchamianie programu"
   ]
  },
  {
   "cell_type": "markdown",
   "id": "9e94a0b5",
   "metadata": {
    "slideshow": {
     "slide_type": "fragment"
    }
   },
   "source": [
    "Jeśli Panda3D została poprawnie zainstalowana, pojawi się szare okno zatytułowane _Panda_. Nic nie możemy zrobić z tym oknem, ale to się wkrótce zmieni."
   ]
  },
  {
   "cell_type": "markdown",
   "id": "a114d365",
   "metadata": {
    "slideshow": {
     "slide_type": "slide"
    }
   },
   "source": [
    "## Ładowanie trawiastej scenerii"
   ]
  },
  {
   "cell_type": "markdown",
   "id": "fcaca429",
   "metadata": {
    "slideshow": {
     "slide_type": "slide"
    }
   },
   "source": [
    "### Scene Graph"
   ]
  },
  {
   "cell_type": "markdown",
   "id": "604a47c3",
   "metadata": {
    "slideshow": {
     "slide_type": "fragment"
    }
   },
   "source": [
    "Panda3D zawiera strukturę danych o nazwie _Scene Graph_ (pol. _wykres sceny_, _graf sceny_). Wykres sceny to drzewo zawierające wszystkie obiekty, które mają być renderowane. U podstawy drzewa znajduje się obiekt o nazwie _render_. Nic nie jest renderowane, dopóki nie zostanie po raz pierwszy wstawione do grafu sceny."
   ]
  },
  {
   "cell_type": "markdown",
   "id": "53bf33c7",
   "metadata": {
    "slideshow": {
     "slide_type": "fragment"
    }
   },
   "source": [
    "Aby zainstalować model trawiastej scenerii w Scene Graph, używamy metody `reparentTo()`. Ustawia to rodzica modelu, tym samym dając mu miejsce na wykresie sceny. W ten sposób model będzie widoczny na scenie."
   ]
  },
  {
   "cell_type": "markdown",
   "id": "bcedde91",
   "metadata": {
    "slideshow": {
     "slide_type": "subslide"
    }
   },
   "source": [
    "Na koniec dostosowujemy pozycję i skalę modelu. W tym konkretnym przypadku model środowiska jest trochę za duży i nieco przesunięty dla naszych celów. Procedury (metody) `setScale()` i `setPos()` zmieniają skalę i wyśrodkują model."
   ]
  },
  {
   "cell_type": "markdown",
   "id": "d6a44be7",
   "metadata": {
    "slideshow": {
     "slide_type": "fragment"
    }
   },
   "source": [
    "Panda3D używa „geograficznego” układu współrzędnych, gdzie pozycja (-8, 42, 0) oznacza współrzędne mapy (8, 42) i wysokość 0. Jeśli jesteście przyzwyczajeni do współrzędnych OpenGL/Direct3D, trzymajcie prawą rękę w klasycznej pozycji z kciukiem jako X, palcami jako Y, a dłonią jako Z skierowanymi do siebie; następnie przechylcie do tyłu, aż Wasza ręka znajdzie się na poziomie z palcami skierowanymi na zewnątrz i dłonią skierowaną do góry. Poruszanie się „do przodu” w Panda3D to pozytywna zmiana we współrzędnej Y."
   ]
  },
  {
   "cell_type": "markdown",
   "id": "263edea4",
   "metadata": {
    "slideshow": {
     "slide_type": "slide"
    }
   },
   "source": [
    "### Program"
   ]
  },
  {
   "cell_type": "markdown",
   "id": "e872b6f5",
   "metadata": {
    "slideshow": {
     "slide_type": "slide"
    }
   },
   "source": [
    "#### Zaktualizujcie kod"
   ]
  },
  {
   "cell_type": "markdown",
   "id": "3c24eabb",
   "metadata": {
    "slideshow": {
     "slide_type": "fragment"
    }
   },
   "source": [
    "Przy poprawnym działaniu Panda3D można teraz załadować trawiastą scenerię. Zaktualizujmy swój kod w następujący sposób:"
   ]
  },
  {
   "cell_type": "markdown",
   "id": "adafec90",
   "metadata": {
    "slideshow": {
     "slide_type": "fragment"
    }
   },
   "source": [
    "```python\n",
    "from direct.showbase.ShowBase import ShowBase\n",
    "\n",
    "\n",
    "class MyApp(ShowBase):\n",
    "\n",
    "    def __init__(self):\n",
    "        ShowBase.__init__(self)\n",
    "\n",
    "        # Załaduj model środowiska.\n",
    "        self.scene = \\\n",
    "            self.loader.loadModel(\"models/environment\")\n",
    "        # Zmień model do renderowania.\n",
    "        self.scene.reparentTo(self.render)\n",
    "        # Zastosuj przekształcenia skali i pozycji w modelu.\n",
    "        self.scene.setScale(0.25, 0.25, 0.25)\n",
    "        self.scene.setPos(-8, 42, 0)\n",
    "\n",
    "\n",
    "app = MyApp()\n",
    "app.run()\n",
    "```"
   ]
  },
  {
   "cell_type": "markdown",
   "id": "4151bcdd",
   "metadata": {
    "slideshow": {
     "slide_type": "subslide"
    }
   },
   "source": [
    "Procedura ShowBase `loader.loadModel()` ładuje określony plik, w tym przypadku plik `environment.egg` w folderze modeli. Zwracana wartość jest obiektem klasy `NodePath`, czyli faktycznie wskaźnikiem do modelu. Zauważcie, że Panda Filename Syntax używa ukośnika, nawet w systemie Windows."
   ]
  },
  {
   "cell_type": "markdown",
   "id": "b71cb590",
   "metadata": {
    "slideshow": {
     "slide_type": "slide"
    }
   },
   "source": [
    "#### Uruchomcie program"
   ]
  },
  {
   "cell_type": "markdown",
   "id": "0470377c",
   "metadata": {
    "slideshow": {
     "slide_type": "fragment"
    }
   },
   "source": [
    "Uruchomcie program. Powinniście to zobaczyć:"
   ]
  },
  {
   "cell_type": "markdown",
   "id": "cbe465fa",
   "metadata": {
    "slideshow": {
     "slide_type": "fragment"
    }
   },
   "source": [
    "![](https://docs.panda3d.org/1.10/_images/tutorial1.jpg)"
   ]
  },
  {
   "cell_type": "markdown",
   "id": "879af0f4",
   "metadata": {
    "slideshow": {
     "slide_type": "subslide"
    }
   },
   "source": [
    "Skała i drzewo wydają się unosić w powietrzu. Kamera jest nieco pod ziemią, a usuwanie tylnej części ścianek sprawia, że ziemia jest dla nas niewidoczna. Jeśli zmienimy położenie kamery, teren będzie wyglądał lepiej."
   ]
  },
  {
   "cell_type": "markdown",
   "id": "807627d4",
   "metadata": {
    "slideshow": {
     "slide_type": "slide"
    }
   },
   "source": [
    "## Sterowanie kamerą"
   ]
  },
  {
   "cell_type": "markdown",
   "id": "0e99297f",
   "metadata": {
    "slideshow": {
     "slide_type": "slide"
    }
   },
   "source": [
    "### Domyślny system sterowania kamerą"
   ]
  },
  {
   "cell_type": "markdown",
   "id": "f920e669",
   "metadata": {
    "slideshow": {
     "slide_type": "fragment"
    }
   },
   "source": [
    "Domyślnie Panda3D uruchamia zadanie, które pozwala poruszać kamerą za pomocą myszy."
   ]
  },
  {
   "cell_type": "markdown",
   "id": "9e04a1b4",
   "metadata": {
    "slideshow": {
     "slide_type": "fragment"
    }
   },
   "source": [
    "Klawisze do nawigacji to:"
   ]
  },
  {
   "cell_type": "markdown",
   "id": "6daad775",
   "metadata": {
    "slideshow": {
     "slide_type": "fragment"
    }
   },
   "source": [
    "|**Przycisk myszy**|**Akcja**|\n",
    "|-|-|\n",
    "|Lewy przycisk|Przesuwanie się w lewo i w prawo.|\n",
    "|Prawy przycisk|Poruszanie się do przodu i do tyłu.|\n",
    "|Środkowy przycisk|Obracanie się wokół punktu z początku uruchomienia aplikacji.|\n",
    "|Prawy i środkowy przycisk|Obracanie punktu widzenia wokół osi widoku.|"
   ]
  },
  {
   "cell_type": "markdown",
   "id": "49d96e65",
   "metadata": {
    "slideshow": {
     "slide_type": "subslide"
    }
   },
   "source": [
    "Wypróbujcie ten system sterowania kamerą. Problem polega na tym, że czasami jest to niezręczne. Nie zawsze łatwo jest skierować kamerę w wybranym przez nas kierunku."
   ]
  },
  {
   "cell_type": "markdown",
   "id": "37b659a8",
   "metadata": {
    "slideshow": {
     "slide_type": "slide"
    }
   },
   "source": [
    "### Zadania"
   ]
  },
  {
   "cell_type": "markdown",
   "id": "2811fa9d",
   "metadata": {
    "slideshow": {
     "slide_type": "slide"
    }
   },
   "source": [
    "#### Zaktualizujcie kod"
   ]
  },
  {
   "cell_type": "markdown",
   "id": "f5580e4f",
   "metadata": {
    "slideshow": {
     "slide_type": "fragment"
    }
   },
   "source": [
    "Zamiast tego napiszemy zadanie, które wyraźnie kontroluje pozycję kamery. Zadanie to nic innego jak procedura, która jest wywoływana w każdej klatce. Zaktualizujcie swój kod w następujący sposób:"
   ]
  },
  {
   "cell_type": "markdown",
   "id": "f31fdcd8",
   "metadata": {
    "slideshow": {
     "slide_type": "fragment"
    }
   },
   "source": [
    "```python\n",
    "from math import pi, sin, cos\n",
    "\n",
    "from direct.showbase.ShowBase import ShowBase\n",
    "\n",
    "from direct.task import Task\n",
    "\n",
    "\n",
    "class MyApp(ShowBase):\n",
    "    def __init__(self):\n",
    "        ShowBase.__init__(self)\n",
    "\n",
    "        # Załaduj model środowiska.\n",
    "        self.scene = \\\n",
    "            self.loader.loadModel(\"models/environment\")\n",
    "        # Zmień model do renderowania.\n",
    "        self.scene.reparentTo(self.render)\n",
    "        # Zastosuj przekształcenia skali i pozycji w modelu.\n",
    "        self.scene.setScale(0.25, 0.25, 0.25)\n",
    "        self.scene.setPos(-8, 42, 0)\n",
    "\n",
    "        # Dodaj procedurę spinCameraTask do menedżera zadań.\n",
    "        self.taskMgr.add(\n",
    "            self.spinCameraTask, \n",
    "            \"SpinCameraTask\"\n",
    "        )\n",
    "\n",
    "    # Zdefiniuj procedurę poruszania kamerą.\n",
    "    def spinCameraTask(self, task):\n",
    "        angleDegrees = task.time * 6.0\n",
    "        angleRadians = angleDegrees * (pi / 180.0)\n",
    "        self.camera.setPos(\n",
    "            20 * sin(angleRadians), \n",
    "            -20 * cos(angleRadians), \n",
    "            3\n",
    "        )\n",
    "        self.camera.setHpr(angleDegrees, 0, 0)\n",
    "        return Task.cont\n",
    "\n",
    "\n",
    "app = MyApp()\n",
    "app.run()\n",
    "```"
   ]
  },
  {
   "cell_type": "markdown",
   "id": "35066747",
   "metadata": {
    "slideshow": {
     "slide_type": "subslide"
    }
   },
   "source": [
    "Procedura `taskMgr.add()` mówi menedżerowi zadań Panda3D, aby wywoływał procedurę `spinCameraTask()` w każdej klatce. Jest to procedura, którą napisaliśmy, aby sterować kamerą. Dopóki procedura `spinCameraTask()` zwróci stałą `AsyncTask.DS_cont`, menedżer zadań będzie wywoływał ją w każdej klatce."
   ]
  },
  {
   "cell_type": "markdown",
   "id": "ccd2e62d",
   "metadata": {
    "slideshow": {
     "slide_type": "fragment"
    }
   },
   "source": [
    "W naszym kodzie procedura `spinCameraTask()` oblicza żądaną pozycję kamery na podstawie czasu, jaki upłynął. Kamera obraca się o 6 stopni co sekundę. Pierwsze dwie linie obliczają pożądaną orientację kamery; najpierw w stopniach, a potem w radianach. Wywołanie `setPos()` faktycznie ustawia pozycję kamery. (Pamiętajcie, że Y jest poziome, a Z pionowe, więc położenie jest zmieniane przez animację X i Y, podczas gdy Z pozostaje ustawione na 3 jednostki nad poziomem gruntu.) Wywołanie `setHpr()` faktycznie ustawia orientację."
   ]
  },
  {
   "cell_type": "markdown",
   "id": "86fad1f3",
   "metadata": {
    "slideshow": {
     "slide_type": "slide"
    }
   },
   "source": [
    "#### Uruchomcie program"
   ]
  },
  {
   "cell_type": "markdown",
   "id": "c80488df",
   "metadata": {
    "slideshow": {
     "slide_type": "fragment"
    }
   },
   "source": [
    "Kamera nie powinna już znajdować się pod ziemią; a ponadto powinna teraz obracać się wokół polany:"
   ]
  },
  {
   "cell_type": "markdown",
   "id": "85d3ed4a",
   "metadata": {
    "slideshow": {
     "slide_type": "fragment"
    }
   },
   "source": [
    "![](https://docs.panda3d.org/1.10/_images/tutorial2.jpg)"
   ]
  },
  {
   "cell_type": "markdown",
   "id": "3e22a833",
   "metadata": {
    "slideshow": {
     "slide_type": "slide"
    }
   },
   "source": [
    "## Ładowanie i animowanie modelu pandy"
   ]
  },
  {
   "cell_type": "markdown",
   "id": "af398502",
   "metadata": {
    "slideshow": {
     "slide_type": "slide"
    }
   },
   "source": [
    "### Aktorzy"
   ]
  },
  {
   "cell_type": "markdown",
   "id": "a050e77c",
   "metadata": {
    "slideshow": {
     "slide_type": "fragment"
    }
   },
   "source": [
    "Klasa `Actor` jest przeznaczona dla animowanych modeli. Zauważcie, że używamy `loadModel()` dla modeli statycznych i `Actor` tylko wtedy, gdy są animowane. Dwa argumenty konstruktora dla klasy `Actor` to nazwa pliku zawierającego model i słownik Pythona zawierający nazwy plików zawierających animacje."
   ]
  },
  {
   "cell_type": "markdown",
   "id": "881ada33",
   "metadata": {
    "slideshow": {
     "slide_type": "slide"
    }
   },
   "source": [
    "### Zaktualizujcie kod"
   ]
  },
  {
   "cell_type": "markdown",
   "id": "ea7e6a89",
   "metadata": {
    "slideshow": {
     "slide_type": "fragment"
    }
   },
   "source": [
    "```python\n",
    "from math import pi, sin, cos\n",
    "\n",
    "from direct.showbase.ShowBase import ShowBase\n",
    "from direct.task import Task\n",
    "\n",
    "from direct.actor.Actor import Actor\n",
    "\n",
    "\n",
    "class MyApp(ShowBase):\n",
    "    def __init__(self):\n",
    "        ShowBase.__init__(self)\n",
    "\n",
    "        # Załaduj model środowiska.\n",
    "        self.scene = \\\n",
    "            self.loader.loadModel(\"models/environment\")\n",
    "        # Zmień model do renderowania.\n",
    "        self.scene.reparentTo(self.render)\n",
    "        # Zastosuj przekształcenia skali i pozycji w modelu.\n",
    "        self.scene.setScale(0.25, 0.25, 0.25)\n",
    "        self.scene.setPos(-8, 42, 0)\n",
    "\n",
    "        # Dodaj procedurę spinCameraTask do menedżera zadań.\n",
    "        self.taskMgr.add(\n",
    "            self.spinCameraTask,\n",
    "            \"SpinCameraTask\"\n",
    "        )\n",
    "\n",
    "        # Załaduj i przekształć aktora pandy.\n",
    "        self.pandaActor = Actor(\n",
    "            \"models/panda-model\",\n",
    "            {\"walk\": \"models/panda-walk4\"}\n",
    "        )\n",
    "        self.pandaActor.setScale(0.005, 0.005, 0.005)\n",
    "        self.pandaActor.reparentTo(self.render)\n",
    "        # Zapętl jego animację.\n",
    "        self.pandaActor.loop(\"walk\")\n",
    "\n",
    "    # Zdefiniuj procedurę poruszania kamerą.\n",
    "    def spinCameraTask(self, task):\n",
    "        angleDegrees = task.time * 6.0\n",
    "        angleRadians = angleDegrees * (pi / 180.0)\n",
    "        self.camera.setPos(\n",
    "            20 * sin(angleRadians),\n",
    "            -20 * cos(angleRadians),\n",
    "            3\n",
    "        )\n",
    "        self.camera.setHpr(angleDegrees, 0, 0)\n",
    "        return Task.cont\n",
    "\n",
    "\n",
    "app = MyApp()\n",
    "app.run()\n",
    "```"
   ]
  },
  {
   "cell_type": "markdown",
   "id": "adb3c0fb",
   "metadata": {
    "slideshow": {
     "slide_type": "fragment"
    }
   },
   "source": [
    "Polecenie (metoda) `loop(\"walk\")` powoduje, że animacja spaceru zaczyna się zapętlać."
   ]
  },
  {
   "cell_type": "markdown",
   "id": "a39ff7d0",
   "metadata": {
    "slideshow": {
     "slide_type": "slide"
    }
   },
   "source": [
    "### Uruchomcie program"
   ]
  },
  {
   "cell_type": "markdown",
   "id": "b9dee5f0",
   "metadata": {
    "slideshow": {
     "slide_type": "fragment"
    }
   },
   "source": [
    "Rezultatem jest panda chodząca w miejscu jak na bieżni:"
   ]
  },
  {
   "cell_type": "markdown",
   "id": "d3f54eef",
   "metadata": {
    "slideshow": {
     "slide_type": "fragment"
    }
   },
   "source": [
    "![](https://docs.panda3d.org/1.10/_images/tutorial3.jpg)"
   ]
  },
  {
   "cell_type": "markdown",
   "id": "9cf038d4",
   "metadata": {
    "slideshow": {
     "slide_type": "slide"
    }
   },
   "source": [
    "## Używanie interwałów do poruszania pandą"
   ]
  },
  {
   "cell_type": "markdown",
   "id": "09777563",
   "metadata": {
    "slideshow": {
     "slide_type": "slide"
    }
   },
   "source": [
    "### Interwały i sekwencje"
   ]
  },
  {
   "cell_type": "markdown",
   "id": "c0843ec4",
   "metadata": {
    "slideshow": {
     "slide_type": "slide"
    }
   },
   "source": [
    "#### Interwały"
   ]
  },
  {
   "cell_type": "markdown",
   "id": "d25c8284",
   "metadata": {
    "slideshow": {
     "slide_type": "fragment"
    }
   },
   "source": [
    "_Interwały_ (ang. _Intervals_) to zadania, które zmieniają właściwość z jednej wartości na drugą w określonym czasie. Rozpoczęcie interwału skutecznie uruchamia proces w tle, który modyfikuje właściwość w określonym przedziale czasu."
   ]
  },
  {
   "cell_type": "markdown",
   "id": "b39c419d",
   "metadata": {
    "slideshow": {
     "slide_type": "slide"
    }
   },
   "source": [
    "#### Sekwencje"
   ]
  },
  {
   "cell_type": "markdown",
   "id": "b2620416",
   "metadata": {
    "slideshow": {
     "slide_type": "fragment"
    }
   },
   "source": [
    "_Sekwencje_ (ang. _Sequences_), czasami nazywane _MetaIntervals_, to rodzaj interwału, który zawiera inne interwały. Odtworzenie sekwencji spowoduje, że każdy zawarty interwał będzie wykonywany po kolei, jeden po drugim."
   ]
  },
  {
   "cell_type": "markdown",
   "id": "eac8b943",
   "metadata": {
    "slideshow": {
     "slide_type": "slide"
    }
   },
   "source": [
    "### Program"
   ]
  },
  {
   "cell_type": "markdown",
   "id": "67ad2148",
   "metadata": {
    "slideshow": {
     "slide_type": "slide"
    }
   },
   "source": [
    "#### Zaktualizujcie kod"
   ]
  },
  {
   "cell_type": "markdown",
   "id": "7d347be2",
   "metadata": {
    "slideshow": {
     "slide_type": "fragment"
    }
   },
   "source": [
    "Następnym krokiem jest sprawienie, by panda faktycznie poruszała się tam iz powrotem. Zaktualizuj kod do następującego:"
   ]
  },
  {
   "cell_type": "markdown",
   "id": "b3510958",
   "metadata": {
    "slideshow": {
     "slide_type": "fragment"
    }
   },
   "source": [
    "```python\n",
    "from math import pi, sin, cos\n",
    "\n",
    "from direct.showbase.ShowBase import ShowBase\n",
    "from direct.task import Task\n",
    "from direct.actor.Actor import Actor\n",
    "\n",
    "from direct.interval.IntervalGlobal import Sequence\n",
    "from panda3d.core import Point3\n",
    "\n",
    "\n",
    "class MyApp(ShowBase):\n",
    "    def __init__(self):\n",
    "        ShowBase.__init__(self)\n",
    "\n",
    "        # Wyłącz sterowanie kamery myszką.\n",
    "        self.disableMouse()\n",
    "\n",
    "        # Załaduj model środowiska.\n",
    "        self.scene = \\\n",
    "            self.loader.loadModel(\"models/environment\")\n",
    "        # Zmień model do renderowania.\n",
    "        self.scene.reparentTo(self.render)\n",
    "        # Zastosuj przekształcenia skali i pozycji w modelu.\n",
    "        self.scene.setScale(0.25, 0.25, 0.25)\n",
    "        self.scene.setPos(-8, 42, 0)\n",
    "\n",
    "        # Dodaj procedurę spinCameraTask do menedżera zadań.\n",
    "        self.taskMgr.add(\n",
    "            self.spinCameraTask,\n",
    "            \"SpinCameraTask\"\n",
    "        )\n",
    "\n",
    "        # Załaduj i przekształć aktora pandy.\n",
    "        self.pandaActor = Actor(\n",
    "            \"models/panda-model\",\n",
    "            {\"walk\": \"models/panda-walk4\"}\n",
    "        )\n",
    "        self.pandaActor.setScale(0.005, 0.005, 0.005)\n",
    "        self.pandaActor.reparentTo(self.render)\n",
    "        # Zapętl jego animację.\n",
    "        self.pandaActor.loop(\"walk\")\n",
    "\n",
    "        # Stwórz cztery interwały dla lerpów potrzebne pandzie\n",
    "        # do chodzenia tam i z powrotem.\n",
    "        posInterval1 = self.pandaActor.posInterval(\n",
    "            13,\n",
    "            Point3(0, -10, 0),\n",
    "            startPos=Point3(0, 10, 0)\n",
    "        )\n",
    "        posInterval2 = self.pandaActor.posInterval(\n",
    "            13,\n",
    "            Point3(0, 10, 0),\n",
    "            startPos=Point3(0, -10, 0)\n",
    "        )\n",
    "        hprInterval1 = self.pandaActor.hprInterval(\n",
    "            3,\n",
    "            Point3(180, 0, 0),\n",
    "            startHpr=Point3(0, 0, 0)\n",
    "        )\n",
    "        hprInterval2 = self.pandaActor.hprInterval(\n",
    "            3,\n",
    "            Point3(0, 0, 0),\n",
    "            startHpr=Point3(180, 0, 0)\n",
    "        )\n",
    "\n",
    "        # Utwórz i odtwórz sekwencję, która koordynuje\n",
    "        # interwały.\n",
    "        self.pandaPace = Sequence(posInterval1, hprInterval1,\n",
    "                                  posInterval2, hprInterval2,\n",
    "                                  name=\"pandaPace\")\n",
    "        self.pandaPace.loop()\n",
    "\n",
    "    # Zdefiniuj procedurę poruszania kamerą.\n",
    "    def spinCameraTask(self, task):\n",
    "        angleDegrees = task.time * 6.0\n",
    "        angleRadians = angleDegrees * (pi / 180.0)\n",
    "        self.camera.setPos(\n",
    "            20 * sin(angleRadians),\n",
    "            -20 * cos(angleRadians),\n",
    "            3\n",
    "        )\n",
    "        self.camera.setHpr(angleDegrees, 0, 0)\n",
    "        return Task.cont\n",
    "\n",
    "\n",
    "app = MyApp()\n",
    "app.run()\n",
    "```"
   ]
  },
  {
   "cell_type": "markdown",
   "id": "52b57ff5",
   "metadata": {
    "slideshow": {
     "slide_type": "subslide"
    }
   },
   "source": [
    "Po uruchomieniu interwału `pandaPosInterval1` będzie on stopniowo dostosowywał pozycję pandy od (0, 10, 0) do (0, -10, 0) w ciągu 13 sekund. Podobnie po rozpoczęciu interwału `pandaHprInterval1` kurs pandy obróci się o 180 stopni w ciągu 3 sekund."
   ]
  },
  {
   "cell_type": "markdown",
   "id": "e3161050",
   "metadata": {
    "slideshow": {
     "slide_type": "fragment"
    }
   },
   "source": [
    "Sekwencja `pandaPace` powyżej powoduje, że panda porusza się w linii prostej, obraca się, porusza się w przeciwnej linii prostej, a na koniec ponownie się obraca. Kod `pandaPace.loop()` powoduje uruchomienie Sequence w trybie pętli."
   ]
  },
  {
   "cell_type": "markdown",
   "id": "d89348c0",
   "metadata": {
    "slideshow": {
     "slide_type": "slide"
    }
   },
   "source": [
    "### Uruchomcie program"
   ]
  },
  {
   "cell_type": "markdown",
   "id": "5ee1949f",
   "metadata": {
    "slideshow": {
     "slide_type": "fragment"
    }
   },
   "source": [
    "Rezultatem tego wszystkiego jest spowodowanie, że panda będzie chodzić tam iz powrotem od jednego drzewa do drugiego."
   ]
  },
  {
   "cell_type": "markdown",
   "id": "386f463d",
   "metadata": {
    "slideshow": {
     "slide_type": "slide"
    }
   },
   "source": [
    "## Koniec"
   ]
  },
  {
   "cell_type": "markdown",
   "id": "ec21498a",
   "metadata": {
    "slideshow": {
     "slide_type": "fragment"
    }
   },
   "source": [
    "Na tym kończy się „Panda Hello World”."
   ]
  },
  {
   "cell_type": "code",
   "execution_count": null,
   "id": "58a4840b",
   "metadata": {
    "slideshow": {
     "slide_type": "skip"
    }
   },
   "outputs": [],
   "source": []
  }
 ],
 "metadata": {
  "celltoolbar": "Slideshow",
  "kernelspec": {
   "display_name": "Python 3 (ipykernel)",
   "language": "python",
   "name": "python3"
  },
  "language_info": {
   "codemirror_mode": {
    "name": "ipython",
    "version": 3
   },
   "file_extension": ".py",
   "mimetype": "text/x-python",
   "name": "python",
   "nbconvert_exporter": "python",
   "pygments_lexer": "ipython3",
   "version": "3.10.7"
  }
 },
 "nbformat": 4,
 "nbformat_minor": 5
}
