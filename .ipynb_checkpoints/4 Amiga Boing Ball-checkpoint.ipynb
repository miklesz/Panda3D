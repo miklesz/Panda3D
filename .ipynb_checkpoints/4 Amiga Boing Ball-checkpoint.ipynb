{
 "cells": [
  {
   "cell_type": "markdown",
   "id": "34eab517",
   "metadata": {
    "pycharm": {
     "name": "#%% md\n"
    }
   },
   "source": [
    "# Amiga Boing Ball\n",
    "\n",
    "![](https://upload.wikimedia.org/wikipedia/commons/0/05/Boingball.png)\n",
    "\n",
    "_Mikołaj Leszczuk_"
   ]
  },
  {
   "cell_type": "markdown",
   "id": "f409d63c",
   "metadata": {
    "slideshow": {
     "slide_type": "slide"
    }
   },
   "source": [
    "## Amiga"
   ]
  },
  {
   "cell_type": "markdown",
   "id": "653a33d3",
   "metadata": {
    "slideshow": {
     "slide_type": "fragment"
    }
   },
   "source": [
    "Amiga (hiszp. _amiga_ – przyjaciółka) – marka komputerów produkowanych od 1985 r. między innymi przez firmę Commodore, popularna w XX wieku."
   ]
  },
  {
   "cell_type": "markdown",
   "id": "5e08213b",
   "metadata": {
    "slideshow": {
     "slide_type": "fragment"
    }
   },
   "source": [
    "Oryginalny model to jeden z wielu komputerów z połowy lat 80. z 16- lub 32-bitowymi procesorami, 256 KB lub więcej pamięci RAM, graficznymi interfejsami użytkownika opartymi na myszy oraz znacznie ulepszoną grafiką i dźwiękiem w porównaniu z poprzednimi systemami 8-bitowymi."
   ]
  },
  {
   "cell_type": "markdown",
   "id": "09411649",
   "metadata": {
    "slideshow": {
     "slide_type": "subslide"
    }
   },
   "source": [
    "![](https://upload.wikimedia.org/wikipedia/commons/thumb/c/c3/Amiga500_system.jpg/618px-Amiga500_system.jpg)"
   ]
  },
  {
   "cell_type": "markdown",
   "id": "e59df80c",
   "metadata": {},
   "source": [
    "Amiga 500 z 1987 roku była najlepiej sprzedającym się modelem."
   ]
  },
  {
   "cell_type": "markdown",
   "id": "96dc1783",
   "metadata": {
    "slideshow": {
     "slide_type": "subslide"
    }
   },
   "source": [
    "Prototyp płytki prototypowej do testów i rozwoju został w dużej mierze ukończony pod koniec 1983 roku i zaprezentowany na targach Consumer Electronics Show (CES) w styczniu 1984 roku. W tamtym czasie system operacyjny nie był gotowy, więc maszyna została zademonstrowana w wersji demonstracyjnej „Boing Ball”, animacji w czasie rzeczywistym pokazującej czerwono-białą wirującą piłkę podskakującą i rzucającą cień; ta odbijająca się piłka stała się oficjalnym logo firmy Amiga. Uczestnicy CES mieli problem z uwierzeniem, że demonstrowany komputer ma moc wyświetlania takiego demo i na próżno szukali „prawdziwego” komputera, który się za nim kryje."
   ]
  },
  {
   "cell_type": "markdown",
   "id": "9ec439c3",
   "metadata": {
    "slideshow": {
     "slide_type": "subslide"
    }
   },
   "source": [
    "![](https://c.tenor.com/keUaCTBXJK4AAAAd/demo-1984.gif)"
   ]
  },
  {
   "cell_type": "markdown",
   "id": "7dcc3240",
   "metadata": {
    "slideshow": {
     "slide_type": "fragment"
    }
   },
   "source": [
    "My dziś, po około 4 dekadach, stworzymy współczesną wersję Amiga Boing Ball, przy pomocy Pythona i Panda3D."
   ]
  },
  {
   "cell_type": "markdown",
   "id": "930cae3d",
   "metadata": {
    "slideshow": {
     "slide_type": "slide"
    }
   },
   "source": [
    "## Modele i ich podgląd"
   ]
  },
  {
   "cell_type": "markdown",
   "id": "9dff92fa",
   "metadata": {
    "slideshow": {
     "slide_type": "slide"
    }
   },
   "source": [
    "### Podgląd modeli 3D w Pview"
   ]
  },
  {
   "cell_type": "markdown",
   "id": "3a397772",
   "metadata": {
    "slideshow": {
     "slide_type": "fragment"
    }
   },
   "source": [
    "Pview (czyli Panda Viewer) to przeglądarka modeli i animacji dla plików egg i bam (formaty plików modeli Panda3D). Dzięki temu użytkownicy mogą sprawdzić, czy ich pliki zostały poprawnie przekonwertowane, bez konieczności tworzenia programu Panda3D. Dostęp do Pview można uzyskać za pomocą wiersza poleceń."
   ]
  },
  {
   "cell_type": "markdown",
   "id": "0c24a19b",
   "metadata": {
    "slideshow": {
     "slide_type": "slide"
    }
   },
   "source": [
    "### [Amiga Boing Ball](https://3dwarehouse.sketchup.com/model/5d3d3a486e9e36d1d736d7e8633a1746/Amiga-boing-ball)\n",
    "![](https://3dwarehouse.sketchup.com/warehouse/v1.0/content/public/166125c2-dabf-4f3a-9dfd-a02d519aebd7)\n",
    "Aby wyświetlić model, wpiszcie następujące polecenie:\n",
    "```sh\n",
    "pview ball.bam\n",
    "```"
   ]
  },
  {
   "cell_type": "markdown",
   "id": "dae08fe2",
   "metadata": {
    "slideshow": {
     "slide_type": "slide"
    }
   },
   "source": [
    "### [The Grid](https://sketchfab.com/3d-models/the-grid-9aba711483c644bf94c4588399e1aa02)\n",
    "![](https://media.sketchfab.com/models/9aba711483c644bf94c4588399e1aa02/thumbnails/942cadc4fd974cb8803a08562bfd031c/1024x576.jpeg)\n",
    "Aby wyświetlić model, wpiszcie następujące polecenie:\n",
    "```sh\n",
    "pview grid.bam\n",
    "```"
   ]
  },
  {
   "cell_type": "markdown",
   "id": "8b6ce27d",
   "metadata": {
    "slideshow": {
     "slide_type": "slide"
    }
   },
   "source": [
    "## Program"
   ]
  },
  {
   "cell_type": "markdown",
   "id": "f8839cd8",
   "metadata": {
    "slideshow": {
     "slide_type": "fragment"
    }
   },
   "source": [
    "W przykładzie \"Panda3D Hello World\" uzyto interfejsu obiektowego, ale do prostych projektów możemy zrezygnować z obiektówki."
   ]
  },
  {
   "cell_type": "markdown",
   "id": "5448f54d",
   "metadata": {
    "slideshow": {
     "slide_type": "slide"
    }
   },
   "source": [
    "### ShowBase i ładowanie modelu `ball`\n",
    "```python\n",
    "from direct.showbase.ShowBase import ShowBase\n",
    "base = ShowBase()\n",
    "ball = base.loader.loadModel('ball.bam')\n",
    "ball.reparentTo(base.render)\n",
    "base.run()\n",
    "```"
   ]
  },
  {
   "cell_type": "markdown",
   "id": "34eae93c",
   "metadata": {
    "slideshow": {
     "slide_type": "slide"
    }
   },
   "source": [
    "### Ustawienie koloru tła (`setBackgroundColor` )\n",
    "Ustawia kolor tła okna na wskazaną wartość. Zakłada się, że okno jest ustawione tak, aby wyczyścić kolor każdej klatki (jest to normalne ustawienie). Wszystkie kolory, których oczekuje Panda3D, są wartościami zmiennoprzecinkowymi z zakresu od 0,0 do 1,0.\n",
    "```python\n",
    "from direct.showbase.ShowBase import ShowBase\n",
    "base = ShowBase()\n",
    "ball = base.loader.loadModel('ball.bam')\n",
    "ball.reparentTo(base.render)\n",
    "\n",
    "base.setBackgroundColor(0, 0, 0)\n",
    "\n",
    "base.run()\n",
    "```"
   ]
  },
  {
   "cell_type": "markdown",
   "id": "86bda3d0",
   "metadata": {
    "slideshow": {
     "slide_type": "slide"
    }
   },
   "source": [
    "### Zastosowanie przekształcenia pozycji modelu\n",
    "```python\n",
    "from direct.showbase.ShowBase import ShowBase\n",
    "base = ShowBase()\n",
    "ball = base.loader.loadModel('ball.bam')\n",
    "ball.reparentTo(base.render)\n",
    "base.setBackgroundColor(0, 0, 0)\n",
    "\n",
    "ball.setPos(0, 17.5, 0)\n",
    "\n",
    "base.run()\n",
    "```"
   ]
  },
  {
   "cell_type": "markdown",
   "id": "27979fdd",
   "metadata": {
    "slideshow": {
     "slide_type": "slide"
    }
   },
   "source": [
    "### Reflektor (`Spotlight`)\n",
    "Światło pochodzące z jednego punktu w przestrzeni i świecące w określonym kierunku ze stożkowym zanikiem. Bryła ścięta reflektora jest definiowana za pomocą obiektywu, więc może mieć dowolne właściwości, jakie może mieć obiektyw aparatu. Zauważcie, że klasa nosi nazwę `Spotlight` zamiast SpotLight, ponieważ „spotlight” to pojedyncze słowo angielskie, a nie dwa słowa.\n",
    "```python\n",
    "from direct.showbase.ShowBase import ShowBase\n",
    "\n",
    "from panda3d.core import *\n",
    "\n",
    "base = ShowBase()\n",
    "ball = base.loader.loadModel('ball.bam')\n",
    "ball.reparentTo(base.render)\n",
    "base.setBackgroundColor(0, 0, 0)\n",
    "ball.setPos(0, 17.5, 0)\n",
    "\n",
    "spotlight = Spotlight('spotlight')\n",
    "spot = base.render.attachNewNode(spotlight)\n",
    "spot.setPos(-25, -15, 30)\n",
    "spot.lookAt(ball)\n",
    "base.render.setLight(spot)\n",
    "\n",
    "base.run()\n",
    "```"
   ]
  },
  {
   "cell_type": "markdown",
   "id": "9d4829da",
   "metadata": {
    "slideshow": {
     "slide_type": "slide"
    }
   },
   "source": [
    "### Światła otoczenia (`AmbientLight`)\n",
    "Źródło światła, które wydaje się oświetlać jednocześnie wszystkie punkty w przestrzeni. Ten rodzaj światła nie musi być właściwie częścią wykresu sceny, ponieważ nie ma znaczącej pozycji.\n",
    "```python\n",
    "from direct.showbase.ShowBase import ShowBase\n",
    "from panda3d.core import *\n",
    "base = ShowBase()\n",
    "ball = base.loader.loadModel('ball.bam')\n",
    "ball.reparentTo(base.render)\n",
    "base.setBackgroundColor(0, 0, 0)\n",
    "ball.setPos(0, 17.5, 0)\n",
    "spotlight = Spotlight('spotlight')\n",
    "spot = base.render.attachNewNode(spotlight)\n",
    "spot.setPos(-25, -15, 30)\n",
    "spot.lookAt(ball)\n",
    "base.render.setLight(spot)\n",
    "\n",
    "ambient_light = AmbientLight('ambient light')\n",
    "ambient_light.setColor((0.1, 0.1, 0.1, 1))\n",
    "ambient = base.render.attachNewNode(ambient_light)\n",
    "base.render.setLight(ambient)\n",
    "\n",
    "base.run()\n",
    "```"
   ]
  },
  {
   "cell_type": "markdown",
   "id": "3b387269",
   "metadata": {
    "slideshow": {
     "slide_type": "slide"
    }
   },
   "source": [
    "### Zastosowanie przekształcenia obrotu modelu\n",
    "```python\n",
    "from direct.showbase.ShowBase import ShowBase\n",
    "from panda3d.core import *\n",
    "base = ShowBase()\n",
    "ball = base.loader.loadModel('ball.bam')\n",
    "ball.reparentTo(base.render)\n",
    "base.setBackgroundColor(0, 0, 0)\n",
    "ball.setPos(0, 17.5, 0)\n",
    "spotlight = Spotlight('spotlight')\n",
    "spot = base.render.attachNewNode(spotlight)\n",
    "spot.setPos(-25, -15, 30)\n",
    "spot.lookAt(ball)\n",
    "base.render.setLight(spot)\n",
    "ambient_light = AmbientLight('ambient light')\n",
    "ambient_light.setColor((0.1, 0.1, 0.1, 1))\n",
    "ambient = base.render.attachNewNode(ambient_light)\n",
    "base.render.setLight(ambient)\n",
    "\n",
    "ball.setHpr(90, -60, 0)\n",
    "\n",
    "base.run()\n",
    "```"
   ]
  },
  {
   "cell_type": "markdown",
   "id": "6c2cc0f6",
   "metadata": {
    "slideshow": {
     "slide_type": "slide"
    }
   },
   "source": [
    "### Ładowanie modelu `grid`\n",
    "![](Material.001_baseColor.png)\n",
    "![](Material.002_baseColor.png)"
   ]
  },
  {
   "cell_type": "markdown",
   "id": "73472a6b",
   "metadata": {
    "slideshow": {
     "slide_type": "subslide"
    }
   },
   "source": [
    "```python\n",
    "from direct.showbase.ShowBase import ShowBase\n",
    "from panda3d.core import *\n",
    "base = ShowBase()\n",
    "ball = base.loader.loadModel('ball.bam')\n",
    "ball.reparentTo(base.render)\n",
    "base.setBackgroundColor(0, 0, 0)\n",
    "ball.setPos(0, 17.5, 0)\n",
    "spotlight = Spotlight('spotlight')\n",
    "spot = base.render.attachNewNode(spotlight)\n",
    "spot.setPos(-25, -15, 30)\n",
    "spot.lookAt(ball)\n",
    "base.render.setLight(spot)\n",
    "ambient_light = AmbientLight('ambient light')\n",
    "ambient_light.setColor((0.1, 0.1, 0.1, 1))\n",
    "ambient = base.render.attachNewNode(ambient_light)\n",
    "base.render.setLight(ambient)\n",
    "ball.setHpr(90, -60, 0)\n",
    "\n",
    "grid = base.loader.loadModel('grid.bam')\n",
    "grid.reparentTo(base.render)\n",
    "\n",
    "base.run()\n",
    "```"
   ]
  },
  {
   "cell_type": "markdown",
   "id": "be5b5fb8",
   "metadata": {
    "slideshow": {
     "slide_type": "slide"
    }
   },
   "source": [
    "### Ustawienie skali (`setScale`)\n",
    "Ustawia składnik skali przekształcenia, pozostawiając nietknięte przesunięcie i obrót.\n",
    "```python\n",
    "from direct.showbase.ShowBase import ShowBase\n",
    "from panda3d.core import *\n",
    "base = ShowBase()\n",
    "ball = base.loader.loadModel('ball.bam')\n",
    "ball.reparentTo(base.render)\n",
    "base.setBackgroundColor(0, 0, 0)\n",
    "ball.setPos(0, 17.5, 0)\n",
    "spotlight = Spotlight('spotlight')\n",
    "spot = base.render.attachNewNode(spotlight)\n",
    "spot.setPos(-25, -15, 30)\n",
    "spot.lookAt(ball)\n",
    "base.render.setLight(spot)\n",
    "ambient_light = AmbientLight('ambient light')\n",
    "ambient_light.setColor((0.1, 0.1, 0.1, 1))\n",
    "ambient = base.render.attachNewNode(ambient_light)\n",
    "base.render.setLight(ambient)\n",
    "ball.setHpr(90, -60, 0)\n",
    "grid = base.loader.loadModel('grid.bam')\n",
    "grid.reparentTo(base.render)\n",
    "\n",
    "grid.setScale(0.005)\n",
    "\n",
    "base.run()\n",
    "```"
   ]
  },
  {
   "cell_type": "markdown",
   "id": "70a50d78",
   "metadata": {
    "slideshow": {
     "slide_type": "slide"
    }
   },
   "source": [
    "### Uzyskanie ciasnych granic (`getTightBounds`)\n",
    "Panda3D może stworzyć ciasną ramkę ograniczającą. Ta „ciasna” ramka ograniczająca jest najmniejszym prospodałościanem wyrównanym do osi, nie mniejszym niż jego zamknięta geometria. W ten sposób spełnia swoją definicję jako „ciasnych” granic, ponieważ nie znajdzie się ściślejszej objętości granicznej, która jest jednocześnie prostopadłościanem. Można pobrać ramkę ograniczającą za pomocą metody `getTightBounds()`.\n",
    "```python\n",
    "from direct.showbase.ShowBase import ShowBase\n",
    "from panda3d.core import *\n",
    "base = ShowBase()\n",
    "ball = base.loader.loadModel('ball.bam')\n",
    "ball.reparentTo(base.render)\n",
    "base.setBackgroundColor(0, 0, 0)\n",
    "ball.setPos(0, 17.5, 0)\n",
    "spotlight = Spotlight('spotlight')\n",
    "spot = base.render.attachNewNode(spotlight)\n",
    "spot.setPos(-25, -15, 30)\n",
    "spot.lookAt(ball)\n",
    "base.render.setLight(spot)\n",
    "ambient_light = AmbientLight('ambient light')\n",
    "ambient_light.setColor((0.1, 0.1, 0.1, 1))\n",
    "ambient = base.render.attachNewNode(ambient_light)\n",
    "base.render.setLight(ambient)\n",
    "ball.setHpr(90, -60, 0)\n",
    "grid = base.loader.loadModel('grid.bam')\n",
    "grid.reparentTo(base.render)\n",
    "grid.setScale(0.005)\n",
    "\n",
    "grid.setPos(grid.getTightBounds()[0][0]/2, 2, 15)\n",
    "\n",
    "base.run()\n",
    "\n",
    "```"
   ]
  },
  {
   "cell_type": "markdown",
   "id": "52f26bd9",
   "metadata": {
    "slideshow": {
     "slide_type": "slide"
    }
   },
   "source": [
    "### Ustawienie rzucania cienia (`setShadowCaster`)\n",
    "Ustawia flagę wskazującą, czy to światło powinno rzucać cienie, czy nie. Jest to wariant bez rozmiaru bufora, co oznacza, że zostanie zachowany bieżący rozmiar bufora (domyślnie 512x512). Pamiętajcie, że włączenie cieni będzie wymagało włączenia generatora cieniowania na scenie.\n",
    "```python\n",
    "from direct.showbase.ShowBase import ShowBase\n",
    "from panda3d.core import *\n",
    "base = ShowBase()\n",
    "ball = base.loader.loadModel('ball.bam')\n",
    "ball.reparentTo(base.render)\n",
    "base.setBackgroundColor(0, 0, 0)\n",
    "ball.setPos(0, 17.5, 0)\n",
    "spotlight = Spotlight('spotlight')\n",
    "spot = base.render.attachNewNode(spotlight)\n",
    "spot.setPos(-25, -15, 30)\n",
    "spot.lookAt(ball)\n",
    "base.render.setLight(spot)\n",
    "ambient_light = AmbientLight('ambient light')\n",
    "ambient_light.setColor((0.1, 0.1, 0.1, 1))\n",
    "ambient = base.render.attachNewNode(ambient_light)\n",
    "base.render.setLight(ambient)\n",
    "ball.setHpr(90, -60, 0)\n",
    "grid = base.loader.loadModel('grid.bam')\n",
    "grid.reparentTo(base.render)\n",
    "grid.setScale(0.005)\n",
    "grid.setPos(grid.getTightBounds()[0][0]/2, 2, 15)\n",
    "\n",
    "spot.node().setShadowCaster(True)\n",
    "\n",
    "base.run()\n",
    "```"
   ]
  },
  {
   "cell_type": "markdown",
   "id": "4bfff182",
   "metadata": {
    "slideshow": {
     "slide_type": "slide"
    }
   },
   "source": [
    "### Ustawienie automatycznego cieniowania (`setShaderAuto`)\n",
    "```python\n",
    "from direct.showbase.ShowBase import ShowBase\n",
    "from panda3d.core import *\n",
    "base = ShowBase()\n",
    "ball = base.loader.loadModel('ball.bam')\n",
    "ball.reparentTo(base.render)\n",
    "base.setBackgroundColor(0, 0, 0)\n",
    "ball.setPos(0, 17.5, 0)\n",
    "spotlight = Spotlight('spotlight')\n",
    "spot = base.render.attachNewNode(spotlight)\n",
    "spot.setPos(-25, -15, 30)\n",
    "spot.lookAt(ball)\n",
    "base.render.setLight(spot)\n",
    "ambient_light = AmbientLight('ambient light')\n",
    "ambient_light.setColor((0.1, 0.1, 0.1, 1))\n",
    "ambient = base.render.attachNewNode(ambient_light)\n",
    "base.render.setLight(ambient)\n",
    "ball.setHpr(90, -60, 0)\n",
    "grid = base.loader.loadModel('grid.bam')\n",
    "grid.reparentTo(base.render)\n",
    "grid.setScale(0.005)\n",
    "grid.setPos(grid.getTightBounds()[0][0]/2, 2, 15)\n",
    "spot.node().setShadowCaster(True)\n",
    "\n",
    "base.render.setShaderAuto()\n",
    "\n",
    "base.run()\n",
    "```"
   ]
  },
  {
   "cell_type": "markdown",
   "id": "22a24a47",
   "metadata": {
    "slideshow": {
     "slide_type": "slide"
    }
   },
   "source": [
    "### Ustawienie przesunięcia głębokości (`setDepthOffset`)\n",
    "Nakazuje sterownikowi graficznemu zastosowanie przesunięcia lub odchylenia do wygenerowanych wartości głębokości dla renderowanych wielokątów, zanim zostaną zapisane w buforze głębokości. Można to wykorzystać do nieznacznego przesunięcia wielokątów do przodu, rozwiązania konfliktów głębi lub artefaktów samozacieniających na cienkich obiektach. Odchylenie jest zawsze liczbą całkowitą, a każdy przyrost liczby całkowitej reprezentuje najmniejszy możliwy przyrost w Z, który jest wystarczający do całkowitego rozwiązania dwóch współpłaszczyznowych wielokątów. Liczby dodatnie są bliżej kamery."
   ]
  },
  {
   "cell_type": "markdown",
   "id": "e873fad7",
   "metadata": {
    "slideshow": {
     "slide_type": "subslide"
    }
   },
   "source": [
    "```python\n",
    "from direct.showbase.ShowBase import ShowBase\n",
    "from panda3d.core import *\n",
    "base = ShowBase()\n",
    "ball = base.loader.loadModel('ball.bam')\n",
    "ball.reparentTo(base.render)\n",
    "base.setBackgroundColor(0, 0, 0)\n",
    "ball.setPos(0, 17.5, 0)\n",
    "spotlight = Spotlight('spotlight')\n",
    "spot = base.render.attachNewNode(spotlight)\n",
    "spot.setPos(-25, -15, 30)\n",
    "spot.lookAt(ball)\n",
    "base.render.setLight(spot)\n",
    "ambient_light = AmbientLight('ambient light')\n",
    "ambient_light.setColor((0.1, 0.1, 0.1, 1))\n",
    "ambient = base.render.attachNewNode(ambient_light)\n",
    "base.render.setLight(ambient)\n",
    "ball.setHpr(90, -60, 0)\n",
    "grid = base.loader.loadModel('grid.bam')\n",
    "grid.reparentTo(base.render)\n",
    "grid.setScale(0.005)\n",
    "grid.setPos(grid.getTightBounds()[0][0]/2, 2, 15)\n",
    "spot.node().setShadowCaster(True)\n",
    "base.render.setShaderAuto()\n",
    "\n",
    "base.render.setDepthOffset(-3)\n",
    "\n",
    "base.run()\n",
    "```"
   ]
  },
  {
   "cell_type": "markdown",
   "id": "886839a2",
   "metadata": {
    "slideshow": {
     "slide_type": "slide"
    }
   },
   "source": [
    "### Ustawienie rzucania cienia (`setShadowCaster`)\n",
    "Dodatkowe parametry określają rozmiary x i y bufora cienia, który zostanie ustawiony.\n",
    "```python\n",
    "from direct.showbase.ShowBase import ShowBase\n",
    "from panda3d.core import *\n",
    "base = ShowBase()\n",
    "ball = base.loader.loadModel('ball.bam')\n",
    "ball.reparentTo(base.render)\n",
    "base.setBackgroundColor(0, 0, 0)\n",
    "ball.setPos(0, 17.5, 0)\n",
    "spotlight = Spotlight('spotlight')\n",
    "spot = base.render.attachNewNode(spotlight)\n",
    "spot.setPos(-25, -15, 30)\n",
    "spot.lookAt(ball)\n",
    "base.render.setLight(spot)\n",
    "ambient_light = AmbientLight('ambient light')\n",
    "ambient_light.setColor((0.1, 0.1, 0.1, 1))\n",
    "ambient = base.render.attachNewNode(ambient_light)\n",
    "base.render.setLight(ambient)\n",
    "ball.setHpr(90, -60, 0)\n",
    "grid = base.loader.loadModel('grid.bam')\n",
    "grid.reparentTo(base.render)\n",
    "grid.setScale(0.005)\n",
    "grid.setPos(grid.getTightBounds()[0][0]/2, 2, 15)\n",
    "spot.node().setShadowCaster(True)\n",
    "base.render.setShaderAuto()\n",
    "base.render.setDepthOffset(-3)\n",
    "\n",
    "spot.node().setShadowCaster(True, 8192, 8192)\n",
    "\n",
    "base.run()\n",
    "```"
   ]
  },
  {
   "cell_type": "markdown",
   "id": "d1c9f4d2",
   "metadata": {
    "slideshow": {
     "slide_type": "slide"
    }
   },
   "source": [
    "### Liniowo interpolowane (ang. _lineary interpolated_, lerp) interwały (`LerpInterval`s)\n",
    "```python\n",
    "from direct.showbase.ShowBase import ShowBase\n",
    "from panda3d.core import *\n",
    "\n",
    "from direct.interval.IntervalGlobal import *\n",
    "\n",
    "base = ShowBase()\n",
    "ball = base.loader.loadModel('ball.bam')\n",
    "ball.reparentTo(base.render)\n",
    "base.setBackgroundColor(0, 0, 0)\n",
    "ball.setPos(0, 17.5, 0)\n",
    "spotlight = Spotlight('spotlight')\n",
    "spot = base.render.attachNewNode(spotlight)\n",
    "spot.setPos(-25, -15, 30)\n",
    "spot.lookAt(ball)\n",
    "base.render.setLight(spot)\n",
    "ambient_light = AmbientLight('ambient light')\n",
    "ambient_light.setColor((0.1, 0.1, 0.1, 1))\n",
    "ambient = base.render.attachNewNode(ambient_light)\n",
    "base.render.setLight(ambient)\n",
    "ball.setHpr(90, -60, 0)\n",
    "grid = base.loader.loadModel('grid.bam')\n",
    "grid.reparentTo(base.render)\n",
    "grid.setScale(0.005)\n",
    "grid.setPos(grid.getTightBounds()[0][0]/2, 2, 15)\n",
    "spot.node().setShadowCaster(True)\n",
    "base.render.setShaderAuto()\n",
    "base.render.setDepthOffset(-3)\n",
    "spot.node().setShadowCaster(True, 8192, 8192)\n",
    "base.run()\n",
    "```"
   ]
  },
  {
   "cell_type": "markdown",
   "id": "8719799f",
   "metadata": {
    "slideshow": {
     "slide_type": "slide"
    }
   },
   "source": [
    "#### Liniowo interpolowany interwał obrotu (`LerpHprInterval`)\n",
    "* `nodePath` Model, który jest zmieniany.\n",
    "* `duration` Czas trwania lerpa w sekundach.\n",
    "* `hpr` Obrót docelowy modelu (nowy obrót, do którego obróci się). Zwykle jest to `(h, p, r)`.\n",
    "\n",
    "```python\n",
    "from direct.showbase.ShowBase import ShowBase\n",
    "from panda3d.core import *\n",
    "from direct.interval.IntervalGlobal import *\n",
    "base = ShowBase()\n",
    "ball = base.loader.loadModel('ball.bam')\n",
    "ball.reparentTo(base.render)\n",
    "base.setBackgroundColor(0, 0, 0)\n",
    "ball.setPos(0, 17.5, 0)\n",
    "spotlight = Spotlight('spotlight')\n",
    "spot = base.render.attachNewNode(spotlight)\n",
    "spot.setPos(-25, -15, 30)\n",
    "spot.lookAt(ball)\n",
    "base.render.setLight(spot)\n",
    "ambient_light = AmbientLight('ambient light')\n",
    "ambient_light.setColor((0.1, 0.1, 0.1, 1))\n",
    "ambient = base.render.attachNewNode(ambient_light)\n",
    "base.render.setLight(ambient)\n",
    "ball.setHpr(90, -60, 0)\n",
    "grid = base.loader.loadModel('grid.bam')\n",
    "grid.reparentTo(base.render)\n",
    "grid.setScale(0.005)\n",
    "grid.setPos(grid.getTightBounds()[0][0]/2, 2, 15)\n",
    "spot.node().setShadowCaster(True)\n",
    "base.render.setShaderAuto()\n",
    "base.render.setDepthOffset(-3)\n",
    "spot.node().setShadowCaster(True, 8192, 8192)\n",
    "\n",
    "rotate_interval = LerpHprInterval(\n",
    "    nodePath=ball,\n",
    "    duration=5,\n",
    "    hpr=(90, -60, 360)\n",
    ")\n",
    "rotate_interval.loop()\n",
    "\n",
    "base.run()\n",
    "```"
   ]
  },
  {
   "cell_type": "markdown",
   "id": "3febf8d4",
   "metadata": {
    "slideshow": {
     "slide_type": "slide"
    }
   },
   "source": [
    "#### Sekwencja liniowo interpolowanych interwałów pozycji w osi X (`LerpPosInterval`s)\n",
    "* `pos` Pozycja docelowa modelu (nowa pozycja, do której przesunie się). Zwykle jest to `(x, y, z)`.\n",
    "* `startPos` Pozycja wyjściowa modela na początku lerpa. Jeśli to zostanie pominięte, model rozpocznie się od aktualnej pozycji.\n",
    "\n",
    "```python\n",
    "from direct.showbase.ShowBase import ShowBase\n",
    "from panda3d.core import *\n",
    "from direct.interval.IntervalGlobal import *\n",
    "base = ShowBase()\n",
    "ball = base.loader.loadModel('ball.bam')\n",
    "ball.reparentTo(base.render)\n",
    "base.setBackgroundColor(0, 0, 0)\n",
    "ball.setPos(0, 17.5, 0)\n",
    "spotlight = Spotlight('spotlight')\n",
    "spot = base.render.attachNewNode(spotlight)\n",
    "spot.setPos(-25, -15, 30)\n",
    "spot.lookAt(ball)\n",
    "base.render.setLight(spot)\n",
    "ambient_light = AmbientLight('ambient light')\n",
    "ambient_light.setColor((0.1, 0.1, 0.1, 1))\n",
    "ambient = base.render.attachNewNode(ambient_light)\n",
    "base.render.setLight(ambient)\n",
    "ball.setHpr(90, -60, 0)\n",
    "grid = base.loader.loadModel('grid.bam')\n",
    "grid.reparentTo(base.render)\n",
    "grid.setScale(0.005)\n",
    "grid.setPos(grid.getTightBounds()[0][0]/2, 2, 15)\n",
    "spot.node().setShadowCaster(True)\n",
    "base.render.setShaderAuto()\n",
    "base.render.setDepthOffset(-3)\n",
    "spot.node().setShadowCaster(True, 8192, 8192)\n",
    "rotate_interval = LerpHprInterval(\n",
    "    nodePath=ball,\n",
    "    duration=5,\n",
    "    hpr=(90, -60, 360)\n",
    ")\n",
    "rotate_interval.loop()\n",
    "\n",
    "move_right_interval = LerpPosInterval(\n",
    "    nodePath=ball,\n",
    "    duration=2,\n",
    "    startPos=(-4, 17.5, 0),\n",
    "    pos=(+4, 17.5, 0)\n",
    ")\n",
    "move_left_interval = LerpPosInterval(\n",
    "    nodePath=ball,\n",
    "    duration=2,\n",
    "    startPos=(+4, 17.5, 0),\n",
    "    pos=(-4, 17.5, 0)\n",
    ")\n",
    "move_sequence = Sequence(move_right_interval, move_left_interval)\n",
    "move_sequence.loop()\n",
    "\n",
    "base.run()\n",
    "```"
   ]
  },
  {
   "cell_type": "markdown",
   "id": "97a002c8",
   "metadata": {
    "slideshow": {
     "slide_type": "slide"
    }
   },
   "source": [
    "#### Sekwencja liniowo interpolowanych interwałów pozycji w osi Y (`LerpPosInterval`s)\n",
    "* `blendType`\n",
    "\n",
    "```python\n",
    "from direct.showbase.ShowBase import ShowBase\n",
    "from panda3d.core import *\n",
    "from direct.interval.IntervalGlobal import *\n",
    "base = ShowBase()\n",
    "ball = base.loader.loadModel('ball.bam')\n",
    "ball.reparentTo(base.render)\n",
    "base.setBackgroundColor(0, 0, 0)\n",
    "ball.setPos(0, 17.5, 0)\n",
    "spotlight = Spotlight('spotlight')\n",
    "spot = base.render.attachNewNode(spotlight)\n",
    "spot.setPos(-25, -15, 30)\n",
    "spot.lookAt(ball)\n",
    "base.render.setLight(spot)\n",
    "ambient_light = AmbientLight('ambient light')\n",
    "ambient_light.setColor((0.1, 0.1, 0.1, 1))\n",
    "ambient = base.render.attachNewNode(ambient_light)\n",
    "base.render.setLight(ambient)\n",
    "ball.setHpr(90, -60, 0)\n",
    "grid = base.loader.loadModel('grid.bam')\n",
    "grid.reparentTo(base.render)\n",
    "grid.setScale(0.005)\n",
    "grid.setPos(grid.getTightBounds()[0][0]/2, 2, 15)\n",
    "spot.node().setShadowCaster(True)\n",
    "base.render.setShaderAuto()\n",
    "base.render.setDepthOffset(-3)\n",
    "spot.node().setShadowCaster(True, 8192, 8192)\n",
    "rotate_interval = LerpHprInterval(\n",
    "    nodePath=ball,\n",
    "    duration=5,\n",
    "    hpr=(90, -60, 360)\n",
    ")\n",
    "rotate_interval.loop()\n",
    "move_right_interval = LerpPosInterval(\n",
    "    nodePath=ball,\n",
    "    duration=2,\n",
    "    startPos=(-4, 17.5, 0),\n",
    "    pos=(+4, 17.5, 0)\n",
    ")\n",
    "move_left_interval = LerpPosInterval(\n",
    "    nodePath=ball,\n",
    "    duration=2,\n",
    "    startPos=(+4, 17.5, 0),\n",
    "    pos=(-4, 17.5, 0)\n",
    ")\n",
    "move_sequence = Sequence(move_right_interval, move_left_interval)\n",
    "move_sequence.loop()\n",
    "\n",
    "jump_up_interval = LerpPosInterval(\n",
    "    nodePath=ball,\n",
    "    duration=.75,\n",
    "    startPos=(0, 17.5, -1.5),\n",
    "    pos=(0, 17.5, 3),\n",
    "    blendType='easeOut'\n",
    ")\n",
    "jump_down_interval = LerpPosInterval(\n",
    "    nodePath=ball,\n",
    "    duration=.75,\n",
    "    startPos=(0, 17.5, 3),\n",
    "    pos=(0, 17.5, -1.5),\n",
    "    blendType='easeIn'\n",
    ")\n",
    "jump_sequence = Sequence(jump_up_interval, jump_down_interval)\n",
    "jump_sequence.loop()\n",
    "\n",
    "base.run()\n",
    "```"
   ]
  },
  {
   "cell_type": "markdown",
   "id": "6993f815",
   "metadata": {
    "slideshow": {
     "slide_type": "slide"
    }
   },
   "source": [
    "### Dołączanie nowego węzła (`attachNewNode`)\n",
    "Tworzy zwykły `PandaNode` i dołącza go poniżej bieżącego `NodePath`, zwracając nowy `NodePath`, który się do niego odwołuje. Uwaga na koordynaty!\n",
    "```python\n",
    "from direct.showbase.ShowBase import ShowBase\n",
    "from panda3d.core import *\n",
    "from direct.interval.IntervalGlobal import *\n",
    "base = ShowBase()\n",
    "ball = base.loader.loadModel('ball.bam')\n",
    "ball.reparentTo(base.render)\n",
    "base.setBackgroundColor(0, 0, 0)\n",
    "ball.setPos(0, 17.5, 0)\n",
    "spotlight = Spotlight('spotlight')\n",
    "spot = base.render.attachNewNode(spotlight)\n",
    "spot.setPos(-25, -15, 30)\n",
    "spot.lookAt(ball)\n",
    "base.render.setLight(spot)\n",
    "ambient_light = AmbientLight('ambient light')\n",
    "ambient_light.setColor((0.1, 0.1, 0.1, 1))\n",
    "ambient = base.render.attachNewNode(ambient_light)\n",
    "base.render.setLight(ambient)\n",
    "ball.setHpr(90, -60, 0)\n",
    "grid = base.loader.loadModel('grid.bam')\n",
    "grid.reparentTo(base.render)\n",
    "grid.setScale(0.005)\n",
    "grid.setPos(grid.getTightBounds()[0][0]/2, 2, 15)\n",
    "spot.node().setShadowCaster(True)\n",
    "base.render.setShaderAuto()\n",
    "base.render.setDepthOffset(-3)\n",
    "spot.node().setShadowCaster(True, 8192, 8192)\n",
    "rotate_interval = LerpHprInterval(\n",
    "    nodePath=ball,\n",
    "    duration=5,\n",
    "    hpr=(90, -60, 360)\n",
    ")\n",
    "rotate_interval.loop()\n",
    "\n",
    "ball_handle = base.render.attachNewNode('ball_handle')\n",
    "ball.reparentTo(ball_handle)\n",
    "ball_handle.reparentTo(base.render)\n",
    "move_right_interval = LerpPosInterval(\n",
    "    nodePath=ball_handle,\n",
    "    duration=2,\n",
    "    startPos=(-4, 0, 0),\n",
    "    pos=(+4, 0, 0)\n",
    ")\n",
    "move_left_interval = LerpPosInterval(\n",
    "    nodePath=ball_handle,\n",
    "    duration=2,\n",
    "    startPos=(+4, 0, 0),\n",
    "    pos=(-4, 0, 0)\n",
    ")\n",
    "move_sequence = Sequence(move_right_interval, move_left_interval)\n",
    "move_sequence.loop()\n",
    "jump_up_interval = LerpPosInterval(\n",
    "    nodePath=ball,\n",
    "    duration=.75,\n",
    "    startPos=(0, 17.5, -1.5),\n",
    "    pos=(0, 17.5, 3),\n",
    "    blendType='easeOut'\n",
    ")\n",
    "jump_down_interval = LerpPosInterval(\n",
    "    nodePath=ball,\n",
    "    duration=.75,\n",
    "    startPos=(0, 17.5, 3),\n",
    "    pos=(0, 17.5, -1.5),\n",
    "    blendType='easeIn'\n",
    ")\n",
    "jump_sequence = Sequence(jump_up_interval, jump_down_interval)\n",
    "jump_sequence.loop()\n",
    "\n",
    "base.run()\n",
    "```"
   ]
  },
  {
   "cell_type": "markdown",
   "id": "437810ec",
   "metadata": {
    "slideshow": {
     "slide_type": "slide"
    }
   },
   "source": [
    "### Ustawianie miernika szybkości klatek (`setFrameRateMeter`)\n",
    "Włącza lub wyłącza (zgodnie z flagą) standardowy miernik szybkości klatek w prawym górnym rogu okna głównego.\n",
    "```python\n",
    "from direct.showbase.ShowBase import ShowBase\n",
    "from panda3d.core import *\n",
    "from direct.interval.IntervalGlobal import *\n",
    "base = ShowBase()\n",
    "ball = base.loader.loadModel('ball.bam')\n",
    "ball.reparentTo(base.render)\n",
    "base.setBackgroundColor(0, 0, 0)\n",
    "ball.setPos(0, 17.5, 0)\n",
    "spotlight = Spotlight('spotlight')\n",
    "spot = base.render.attachNewNode(spotlight)\n",
    "spot.setPos(-25, -15, 30)\n",
    "spot.lookAt(ball)\n",
    "base.render.setLight(spot)\n",
    "ambient_light = AmbientLight('ambient light')\n",
    "ambient_light.setColor((0.1, 0.1, 0.1, 1))\n",
    "ambient = base.render.attachNewNode(ambient_light)\n",
    "base.render.setLight(ambient)\n",
    "ball.setHpr(90, -60, 0)\n",
    "grid = base.loader.loadModel('grid.bam')\n",
    "grid.reparentTo(base.render)\n",
    "grid.setScale(0.005)\n",
    "grid.setPos(grid.getTightBounds()[0][0]/2, 2, 15)\n",
    "spot.node().setShadowCaster(True)\n",
    "base.render.setShaderAuto()\n",
    "base.render.setDepthOffset(-3)\n",
    "spot.node().setShadowCaster(True, 8192, 8192)\n",
    "rotate_interval = LerpHprInterval(\n",
    "    nodePath=ball,\n",
    "    duration=5,\n",
    "    hpr=(90, -60, 360)\n",
    ")\n",
    "rotate_interval.loop()\n",
    "ball_handle = base.render.attachNewNode('ball_handle')\n",
    "ball.reparentTo(ball_handle)\n",
    "ball_handle.reparentTo(base.render)\n",
    "move_right_interval = LerpPosInterval(\n",
    "    nodePath=ball_handle,\n",
    "    duration=2,\n",
    "    startPos=(-4, 0, 0),\n",
    "    pos=(+4, 0, 0)\n",
    ")\n",
    "move_left_interval = LerpPosInterval(\n",
    "    nodePath=ball_handle,\n",
    "    duration=2,\n",
    "    startPos=(+4, 0, 0),\n",
    "    pos=(-4, 0, 0)\n",
    ")\n",
    "move_sequence = Sequence(move_right_interval, move_left_interval)\n",
    "move_sequence.loop()\n",
    "jump_up_interval = LerpPosInterval(\n",
    "    nodePath=ball,\n",
    "    duration=.75,\n",
    "    startPos=(0, 17.5, -1.5),\n",
    "    pos=(0, 17.5, 3),\n",
    "    blendType='easeOut'\n",
    ")\n",
    "jump_down_interval = LerpPosInterval(\n",
    "    nodePath=ball,\n",
    "    duration=.75,\n",
    "    startPos=(0, 17.5, 3),\n",
    "    pos=(0, 17.5, -1.5),\n",
    "    blendType='easeIn'\n",
    ")\n",
    "jump_sequence = Sequence(jump_up_interval, jump_down_interval)\n",
    "jump_sequence.loop()\n",
    "\n",
    "base.setFrameRateMeter(True)\n",
    "\n",
    "base.run()\n",
    "```"
   ]
  },
  {
   "cell_type": "code",
   "execution_count": null,
   "id": "58a4840b",
   "metadata": {
    "pycharm": {
     "name": "#%%\n"
    },
    "slideshow": {
     "slide_type": "skip"
    }
   },
   "outputs": [],
   "source": []
  }
 ],
 "metadata": {
  "celltoolbar": "Slideshow",
  "kernelspec": {
   "display_name": "Python 3 (ipykernel)",
   "language": "python",
   "name": "python3"
  },
  "language_info": {
   "codemirror_mode": {
    "name": "ipython",
    "version": 3
   },
   "file_extension": ".py",
   "mimetype": "text/x-python",
   "name": "python",
   "nbconvert_exporter": "python",
   "pygments_lexer": "ipython3",
   "version": "3.10.4"
  }
 },
 "nbformat": 4,
 "nbformat_minor": 5
}
