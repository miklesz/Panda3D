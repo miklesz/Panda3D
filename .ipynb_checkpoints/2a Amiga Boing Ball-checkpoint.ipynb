{
 "cells": [
  {
   "cell_type": "markdown",
   "id": "34eab517",
   "metadata": {
    "pycharm": {
     "name": "#%% md\n"
    }
   },
   "source": [
    "# Amiga Boing Ball\n",
    "\n",
    "![](https://upload.wikimedia.org/wikipedia/commons/0/05/Boingball.png)\n",
    "\n",
    "_Mikołaj Leszczuk_"
   ]
  },
  {
   "cell_type": "markdown",
   "id": "f409d63c",
   "metadata": {
    "pycharm": {
     "name": "#%% md\n"
    },
    "slideshow": {
     "slide_type": "slide"
    }
   },
   "source": [
    "## Amiga"
   ]
  },
  {
   "cell_type": "markdown",
   "id": "653a33d3",
   "metadata": {
    "pycharm": {
     "name": "#%% md\n"
    },
    "slideshow": {
     "slide_type": "fragment"
    }
   },
   "source": [
    "Amiga (hiszp. _amiga_ – przyjaciółka) – marka komputerów produkowanych od 1985 r. między innymi przez firmę Commodore, popularna w XX wieku."
   ]
  },
  {
   "cell_type": "markdown",
   "id": "5e08213b",
   "metadata": {
    "pycharm": {
     "name": "#%% md\n"
    },
    "slideshow": {
     "slide_type": "fragment"
    }
   },
   "source": [
    "Oryginalny model to jeden z wielu komputerów z połowy lat 80. z 16- lub 32-bitowymi procesorami, 256 KB lub więcej pamięci RAM, graficznymi interfejsami użytkownika opartymi na myszy oraz znacznie ulepszoną grafiką i dźwiękiem w porównaniu z poprzednimi systemami 8-bitowymi."
   ]
  },
  {
   "cell_type": "markdown",
   "id": "09411649",
   "metadata": {
    "pycharm": {
     "name": "#%% md\n"
    },
    "slideshow": {
     "slide_type": "subslide"
    }
   },
   "source": [
    "![](https://upload.wikimedia.org/wikipedia/commons/thumb/c/c3/Amiga500_system.jpg/618px-Amiga500_system.jpg)"
   ]
  },
  {
   "cell_type": "markdown",
   "id": "e59df80c",
   "metadata": {
    "pycharm": {
     "name": "#%% md\n"
    }
   },
   "source": [
    "Amiga 500 z 1987 roku była najlepiej sprzedającym się modelem."
   ]
  },
  {
   "cell_type": "markdown",
   "id": "96dc1783",
   "metadata": {
    "pycharm": {
     "name": "#%% md\n"
    },
    "slideshow": {
     "slide_type": "subslide"
    }
   },
   "source": [
    "Prototyp płytki prototypowej do testów i rozwoju został w dużej mierze ukończony pod koniec 1983 roku i zaprezentowany na targach Consumer Electronics Show (CES) w styczniu 1984 roku. W tamtym czasie system operacyjny nie był gotowy, więc maszyna została zademonstrowana w wersji demonstracyjnej „Boing Ball”, animacji w czasie rzeczywistym pokazującej czerwono-białą wirującą piłkę podskakującą i rzucającą cień; ta odbijająca się piłka stała się oficjalnym logo firmy Amiga. Uczestnicy CES mieli problem z uwierzeniem, że demonstrowany komputer ma moc wyświetlania takiego demo i na próżno szukali „prawdziwego” komputera, który się za nim kryje."
   ]
  },
  {
   "cell_type": "markdown",
   "id": "9ec439c3",
   "metadata": {
    "pycharm": {
     "name": "#%% md\n"
    },
    "slideshow": {
     "slide_type": "subslide"
    }
   },
   "source": [
    "![](https://c.tenor.com/keUaCTBXJK4AAAAd/demo-1984.gif)"
   ]
  },
  {
   "cell_type": "markdown",
   "id": "7dcc3240",
   "metadata": {
    "pycharm": {
     "name": "#%% md\n"
    },
    "slideshow": {
     "slide_type": "fragment"
    }
   },
   "source": [
    "My dziś, po około 4 dekadach, stworzymy współczesną wersję Amiga Boing Ball, przy pomocy Pythona i Panda3D."
   ]
  },
  {
   "cell_type": "markdown",
   "id": "930cae3d",
   "metadata": {
    "pycharm": {
     "name": "#%% md\n"
    },
    "slideshow": {
     "slide_type": "slide"
    }
   },
   "source": [
    "## Modele i ich podgląd"
   ]
  },
  {
   "cell_type": "markdown",
   "id": "9dff92fa",
   "metadata": {
    "pycharm": {
     "name": "#%% md\n"
    },
    "slideshow": {
     "slide_type": "slide"
    }
   },
   "source": [
    "### Podgląd modeli 3D w Pview"
   ]
  },
  {
   "cell_type": "markdown",
   "id": "3a397772",
   "metadata": {
    "pycharm": {
     "name": "#%% md\n"
    },
    "slideshow": {
     "slide_type": "fragment"
    }
   },
   "source": [
    "Pview (czyli Panda Viewer) to przeglądarka modeli i animacji dla plików egg i bam (formaty plików modeli Panda3D). Dzięki temu użytkownicy mogą sprawdzić, czy ich pliki zostały poprawnie przekonwertowane, bez konieczności tworzenia programu Panda3D. Dostęp do Pview można uzyskać za pomocą wiersza poleceń."
   ]
  },
  {
   "cell_type": "markdown",
   "id": "0c24a19b",
   "metadata": {
    "pycharm": {
     "name": "#%% md\n"
    },
    "slideshow": {
     "slide_type": "slide"
    }
   },
   "source": [
    "### [Amiga Boing Ball](https://3dwarehouse.sketchup.com/model/5d3d3a486e9e36d1d736d7e8633a1746/Amiga-boing-ball)\n",
    "![](https://3dwarehouse.sketchup.com/warehouse/v1.0/content/public/166125c2-dabf-4f3a-9dfd-a02d519aebd7)\n",
    "Aby wyświetlić model, wpiszcie następujące polecenie:\n",
    "```sh\n",
    "pview ball.bam\n",
    "```"
   ]
  },
  {
   "cell_type": "markdown",
   "id": "dae08fe2",
   "metadata": {
    "pycharm": {
     "name": "#%% md\n"
    },
    "slideshow": {
     "slide_type": "slide"
    }
   },
   "source": [
    "### [The Grid](https://sketchfab.com/3d-models/the-grid-9aba711483c644bf94c4588399e1aa02)\n",
    "![](https://media.sketchfab.com/models/9aba711483c644bf94c4588399e1aa02/thumbnails/942cadc4fd974cb8803a08562bfd031c/1024x576.jpeg)\n",
    "Aby wyświetlić model, wpiszcie następujące polecenie:\n",
    "```sh\n",
    "pview grid.bam\n",
    "```"
   ]
  },
  {
   "cell_type": "markdown",
   "id": "8b6ce27d",
   "metadata": {
    "pycharm": {
     "name": "#%% md\n"
    },
    "slideshow": {
     "slide_type": "slide"
    }
   },
   "source": [
    "## Program"
   ]
  },
  {
   "cell_type": "markdown",
   "id": "f8839cd8",
   "metadata": {
    "pycharm": {
     "name": "#%% md\n"
    },
    "slideshow": {
     "slide_type": "fragment"
    }
   },
   "source": [
    "W przykładzie \"Panda3D Hello World\" użyto interfejsu obiektowego, ale do prostych projektów możemy zrezygnować z obiektówki."
   ]
  },
  {
   "cell_type": "markdown",
   "id": "5448f54d",
   "metadata": {
    "pycharm": {
     "name": "#%% md\n"
    },
    "slideshow": {
     "slide_type": "slide"
    }
   },
   "source": [
    "### ShowBase i ładowanie modelu `ball`\n",
    "```python\n",
    "from direct.showbase.ShowBase import ShowBase\n",
    "base = ShowBase()\n",
    "ball = base.loader.loadModel('ball.bam')\n",
    "ball.reparentTo(base.render)\n",
    "base.run()\n",
    "```"
   ]
  },
  {
   "cell_type": "markdown",
   "id": "34eae93c",
   "metadata": {
    "pycharm": {
     "name": "#%% md\n"
    },
    "slideshow": {
     "slide_type": "slide"
    }
   },
   "source": [
    "### Ustawienie koloru tła (`setBackgroundColor` )\n",
    "Ustawia kolor tła okna na wskazaną wartość. Zakłada się, że okno jest ustawione tak, aby wyczyścić kolor każdej klatki (jest to normalne ustawienie). Wszystkie kolory, których oczekuje Panda3D, są wartościami zmiennoprzecinkowymi z zakresu od 0,0 do 1,0.\n",
    "```python\n",
    "from direct.showbase.ShowBase import ShowBase\n",
    "base = ShowBase()\n",
    "ball = base.loader.loadModel('ball.bam')\n",
    "ball.reparentTo(base.render)\n",
    "\n",
    "base.setBackgroundColor(0, 0, 0)\n",
    "\n",
    "base.run()\n",
    "```"
   ]
  },
  {
   "cell_type": "markdown",
   "id": "86bda3d0",
   "metadata": {
    "pycharm": {
     "name": "#%% md\n"
    },
    "slideshow": {
     "slide_type": "slide"
    }
   },
   "source": [
    "### Zastosowanie przekształcenia pozycji modelu\n",
    "```python\n",
    "from direct.showbase.ShowBase import ShowBase\n",
    "base = ShowBase()\n",
    "ball = base.loader.loadModel('ball.bam')\n",
    "ball.reparentTo(base.render)\n",
    "base.setBackgroundColor(0, 0, 0)\n",
    "\n",
    "ball.setPos(0, 17.5, 0)\n",
    "\n",
    "base.run()\n",
    "```"
   ]
  },
  {
   "cell_type": "markdown",
   "id": "27979fdd",
   "metadata": {
    "pycharm": {
     "name": "#%% md\n"
    },
    "slideshow": {
     "slide_type": "slide"
    }
   },
   "source": [
    "### Reflektor (`Spotlight`)\n",
    "Światło pochodzące z jednego punktu w przestrzeni i świecące w określonym kierunku ze stożkowym zanikiem. Bryła ścięta reflektora jest definiowana za pomocą obiektywu, więc może mieć dowolne właściwości, jakie może mieć obiektyw aparatu. Zauważcie, że klasa nosi nazwę `Spotlight` zamiast SpotLight, ponieważ „spotlight” to pojedyncze słowo angielskie, a nie dwa słowa.\n",
    "```python\n",
    "from direct.showbase.ShowBase import ShowBase\n",
    "\n",
    "from panda3d.core import *\n",
    "\n",
    "base = ShowBase()\n",
    "ball = base.loader.loadModel('ball.bam')\n",
    "ball.reparentTo(base.render)\n",
    "base.setBackgroundColor(0, 0, 0)\n",
    "ball.setPos(0, 17.5, 0)\n",
    "\n",
    "spotlight = Spotlight('spotlight')\n",
    "spot = base.render.attachNewNode(spotlight)\n",
    "spot.setPos(-25, -15, 30)\n",
    "spot.lookAt(ball)\n",
    "base.render.setLight(spot)\n",
    "\n",
    "base.run()\n",
    "```"
   ]
  },
  {
   "cell_type": "markdown",
   "id": "9d4829da",
   "metadata": {
    "pycharm": {
     "name": "#%% md\n"
    },
    "slideshow": {
     "slide_type": "slide"
    }
   },
   "source": [
    "### Światła otoczenia (`AmbientLight`)\n",
    "Źródło światła, które wydaje się oświetlać jednocześnie wszystkie punkty w przestrzeni. Ten rodzaj światła nie musi być właściwie częścią wykresu sceny, ponieważ nie ma znaczącej pozycji.\n",
    "```python\n",
    "from direct.showbase.ShowBase import ShowBase\n",
    "from panda3d.core import *\n",
    "base = ShowBase()\n",
    "ball = base.loader.loadModel('ball.bam')\n",
    "ball.reparentTo(base.render)\n",
    "base.setBackgroundColor(0, 0, 0)\n",
    "ball.setPos(0, 17.5, 0)\n",
    "spotlight = Spotlight('spotlight')\n",
    "spot = base.render.attachNewNode(spotlight)\n",
    "spot.setPos(-25, -15, 30)\n",
    "spot.lookAt(ball)\n",
    "base.render.setLight(spot)\n",
    "\n",
    "ambient_light = AmbientLight('ambient light')\n",
    "ambient_light.setColor((0.1, 0.1, 0.1, 1))\n",
    "ambient = base.render.attachNewNode(ambient_light)\n",
    "base.render.setLight(ambient)\n",
    "\n",
    "base.run()\n",
    "```"
   ]
  },
  {
   "cell_type": "markdown",
   "id": "3b387269",
   "metadata": {
    "pycharm": {
     "name": "#%% md\n"
    },
    "slideshow": {
     "slide_type": "slide"
    }
   },
   "source": [
    "### Zastosowanie przekształcenia obrotu modelu\n",
    "```python\n",
    "from direct.showbase.ShowBase import ShowBase\n",
    "from panda3d.core import *\n",
    "base = ShowBase()\n",
    "ball = base.loader.loadModel('ball.bam')\n",
    "ball.reparentTo(base.render)\n",
    "base.setBackgroundColor(0, 0, 0)\n",
    "ball.setPos(0, 17.5, 0)\n",
    "spotlight = Spotlight('spotlight')\n",
    "spot = base.render.attachNewNode(spotlight)\n",
    "spot.setPos(-25, -15, 30)\n",
    "spot.lookAt(ball)\n",
    "base.render.setLight(spot)\n",
    "ambient_light = AmbientLight('ambient light')\n",
    "ambient_light.setColor((0.1, 0.1, 0.1, 1))\n",
    "ambient = base.render.attachNewNode(ambient_light)\n",
    "base.render.setLight(ambient)\n",
    "\n",
    "ball.setHpr(90, -60, 0)\n",
    "\n",
    "base.run()\n",
    "```"
   ]
  },
  {
   "cell_type": "markdown",
   "id": "6c2cc0f6",
   "metadata": {
    "pycharm": {
     "name": "#%% md\n"
    },
    "slideshow": {
     "slide_type": "slide"
    }
   },
   "source": [
    "### Ładowanie modelu `grid`\n",
    "![](Material.001_baseColor.png)\n",
    "![](Material.002_baseColor.png)"
   ]
  },
  {
   "cell_type": "markdown",
   "id": "73472a6b",
   "metadata": {
    "pycharm": {
     "name": "#%% md\n"
    },
    "slideshow": {
     "slide_type": "subslide"
    }
   },
   "source": [
    "```python\n",
    "from direct.showbase.ShowBase import ShowBase\n",
    "from panda3d.core import *\n",
    "base = ShowBase()\n",
    "ball = base.loader.loadModel('ball.bam')\n",
    "ball.reparentTo(base.render)\n",
    "base.setBackgroundColor(0, 0, 0)\n",
    "ball.setPos(0, 17.5, 0)\n",
    "spotlight = Spotlight('spotlight')\n",
    "spot = base.render.attachNewNode(spotlight)\n",
    "spot.setPos(-25, -15, 30)\n",
    "spot.lookAt(ball)\n",
    "base.render.setLight(spot)\n",
    "ambient_light = AmbientLight('ambient light')\n",
    "ambient_light.setColor((0.1, 0.1, 0.1, 1))\n",
    "ambient = base.render.attachNewNode(ambient_light)\n",
    "base.render.setLight(ambient)\n",
    "ball.setHpr(90, -60, 0)\n",
    "\n",
    "grid = base.loader.loadModel('grid.bam')\n",
    "grid.reparentTo(base.render)\n",
    "\n",
    "base.run()\n",
    "```"
   ]
  },
  {
   "cell_type": "markdown",
   "id": "be5b5fb8",
   "metadata": {
    "pycharm": {
     "name": "#%% md\n"
    },
    "slideshow": {
     "slide_type": "slide"
    }
   },
   "source": [
    "### Ustawienie skali (`setScale`)\n",
    "Ustawia składnik skali przekształcenia, pozostawiając nietknięte przesunięcie i obrót.\n",
    "```python\n",
    "from direct.showbase.ShowBase import ShowBase\n",
    "from panda3d.core import *\n",
    "base = ShowBase()\n",
    "ball = base.loader.loadModel('ball.bam')\n",
    "ball.reparentTo(base.render)\n",
    "base.setBackgroundColor(0, 0, 0)\n",
    "ball.setPos(0, 17.5, 0)\n",
    "spotlight = Spotlight('spotlight')\n",
    "spot = base.render.attachNewNode(spotlight)\n",
    "spot.setPos(-25, -15, 30)\n",
    "spot.lookAt(ball)\n",
    "base.render.setLight(spot)\n",
    "ambient_light = AmbientLight('ambient light')\n",
    "ambient_light.setColor((0.1, 0.1, 0.1, 1))\n",
    "ambient = base.render.attachNewNode(ambient_light)\n",
    "base.render.setLight(ambient)\n",
    "ball.setHpr(90, -60, 0)\n",
    "grid = base.loader.loadModel('grid.bam')\n",
    "grid.reparentTo(base.render)\n",
    "\n",
    "grid.setScale(0.005)\n",
    "\n",
    "base.run()\n",
    "```"
   ]
  },
  {
   "cell_type": "markdown",
   "id": "70a50d78",
   "metadata": {
    "pycharm": {
     "name": "#%% md\n"
    },
    "slideshow": {
     "slide_type": "slide"
    }
   },
   "source": [
    "### Uzyskanie ciasnych granic (`getTightBounds`)\n",
    "Panda3D może stworzyć ciasną ramkę ograniczającą. Ta „ciasna” ramka ograniczająca jest najmniejszym prospodałościanem wyrównanym do osi, nie mniejszym niż jego zamknięta geometria. W ten sposób spełnia swoją definicję jako „ciasnych” granic, ponieważ nie znajdzie się ściślejszej objętości granicznej, która jest jednocześnie prostopadłościanem. Można pobrać ramkę ograniczającą za pomocą metody `getTightBounds()`.\n",
    "```python\n",
    "from direct.showbase.ShowBase import ShowBase\n",
    "from panda3d.core import *\n",
    "base = ShowBase()\n",
    "ball = base.loader.loadModel('ball.bam')\n",
    "ball.reparentTo(base.render)\n",
    "base.setBackgroundColor(0, 0, 0)\n",
    "ball.setPos(0, 17.5, 0)\n",
    "spotlight = Spotlight('spotlight')\n",
    "spot = base.render.attachNewNode(spotlight)\n",
    "spot.setPos(-25, -15, 30)\n",
    "spot.lookAt(ball)\n",
    "base.render.setLight(spot)\n",
    "ambient_light = AmbientLight('ambient light')\n",
    "ambient_light.setColor((0.1, 0.1, 0.1, 1))\n",
    "ambient = base.render.attachNewNode(ambient_light)\n",
    "base.render.setLight(ambient)\n",
    "ball.setHpr(90, -60, 0)\n",
    "grid = base.loader.loadModel('grid.bam')\n",
    "grid.reparentTo(base.render)\n",
    "grid.setScale(0.005)\n",
    "\n",
    "grid.setPos(grid.getTightBounds()[0][0]/2, 2, 15)\n",
    "\n",
    "base.run()\n",
    "\n",
    "```"
   ]
  },
  {
   "cell_type": "markdown",
   "id": "52f26bd9",
   "metadata": {
    "pycharm": {
     "name": "#%% md\n"
    },
    "slideshow": {
     "slide_type": "slide"
    }
   },
   "source": [
    "### Ustawienie rzucania cienia (`setShadowCaster`)\n",
    "Ustawia flagę wskazującą, czy to światło powinno rzucać cienie, czy nie. Jest to wariant bez rozmiaru bufora, co oznacza, że zostanie zachowany bieżący rozmiar bufora (domyślnie 512x512). Pamiętajcie, że włączenie cieni będzie wymagało włączenia generatora cieniowania na scenie.\n",
    "```python\n",
    "from direct.showbase.ShowBase import ShowBase\n",
    "from panda3d.core import *\n",
    "base = ShowBase()\n",
    "ball = base.loader.loadModel('ball.bam')\n",
    "ball.reparentTo(base.render)\n",
    "base.setBackgroundColor(0, 0, 0)\n",
    "ball.setPos(0, 17.5, 0)\n",
    "spotlight = Spotlight('spotlight')\n",
    "spot = base.render.attachNewNode(spotlight)\n",
    "spot.setPos(-25, -15, 30)\n",
    "spot.lookAt(ball)\n",
    "base.render.setLight(spot)\n",
    "ambient_light = AmbientLight('ambient light')\n",
    "ambient_light.setColor((0.1, 0.1, 0.1, 1))\n",
    "ambient = base.render.attachNewNode(ambient_light)\n",
    "base.render.setLight(ambient)\n",
    "ball.setHpr(90, -60, 0)\n",
    "grid = base.loader.loadModel('grid.bam')\n",
    "grid.reparentTo(base.render)\n",
    "grid.setScale(0.005)\n",
    "grid.setPos(grid.getTightBounds()[0][0]/2, 2, 15)\n",
    "\n",
    "spot.node().setShadowCaster(True)\n",
    "\n",
    "base.run()\n",
    "```"
   ]
  },
  {
   "cell_type": "markdown",
   "id": "4bfff182",
   "metadata": {
    "pycharm": {
     "name": "#%% md\n"
    },
    "slideshow": {
     "slide_type": "slide"
    }
   },
   "source": [
    "### Ustawienie automatycznego cieniowania (`setShaderAuto`)\n",
    "```python\n",
    "from direct.showbase.ShowBase import ShowBase\n",
    "from panda3d.core import *\n",
    "base = ShowBase()\n",
    "ball = base.loader.loadModel('ball.bam')\n",
    "ball.reparentTo(base.render)\n",
    "base.setBackgroundColor(0, 0, 0)\n",
    "ball.setPos(0, 17.5, 0)\n",
    "spotlight = Spotlight('spotlight')\n",
    "spot = base.render.attachNewNode(spotlight)\n",
    "spot.setPos(-25, -15, 30)\n",
    "spot.lookAt(ball)\n",
    "base.render.setLight(spot)\n",
    "ambient_light = AmbientLight('ambient light')\n",
    "ambient_light.setColor((0.1, 0.1, 0.1, 1))\n",
    "ambient = base.render.attachNewNode(ambient_light)\n",
    "base.render.setLight(ambient)\n",
    "ball.setHpr(90, -60, 0)\n",
    "grid = base.loader.loadModel('grid.bam')\n",
    "grid.reparentTo(base.render)\n",
    "grid.setScale(0.005)\n",
    "grid.setPos(grid.getTightBounds()[0][0]/2, 2, 15)\n",
    "spot.node().setShadowCaster(True)\n",
    "\n",
    "base.render.setShaderAuto()\n",
    "\n",
    "base.run()\n",
    "```"
   ]
  },
  {
   "cell_type": "markdown",
   "id": "22a24a47",
   "metadata": {
    "pycharm": {
     "name": "#%% md\n"
    },
    "slideshow": {
     "slide_type": "slide"
    }
   },
   "source": [
    "### Ustawienie przesunięcia głębokości (`setDepthOffset`)\n",
    "Nakazuje sterownikowi graficznemu zastosowanie przesunięcia lub odchylenia do wygenerowanych wartości głębokości dla renderowanych wielokątów, zanim zostaną zapisane w buforze głębokości. Można to wykorzystać do nieznacznego przesunięcia wielokątów do przodu, rozwiązania konfliktów głębi lub artefaktów samozacieniających na cienkich obiektach. Odchylenie jest zawsze liczbą całkowitą, a każdy przyrost liczby całkowitej reprezentuje najmniejszy możliwy przyrost w Z, który jest wystarczający do całkowitego rozwiązania dwóch współpłaszczyznowych wielokątów. Liczby dodatnie są bliżej kamery."
   ]
  },
  {
   "cell_type": "markdown",
   "id": "e873fad7",
   "metadata": {
    "pycharm": {
     "name": "#%% md\n"
    },
    "slideshow": {
     "slide_type": "subslide"
    }
   },
   "source": [
    "```python\n",
    "from direct.showbase.ShowBase import ShowBase\n",
    "from panda3d.core import *\n",
    "base = ShowBase()\n",
    "ball = base.loader.loadModel('ball.bam')\n",
    "ball.reparentTo(base.render)\n",
    "base.setBackgroundColor(0, 0, 0)\n",
    "ball.setPos(0, 17.5, 0)\n",
    "spotlight = Spotlight('spotlight')\n",
    "spot = base.render.attachNewNode(spotlight)\n",
    "spot.setPos(-25, -15, 30)\n",
    "spot.lookAt(ball)\n",
    "base.render.setLight(spot)\n",
    "ambient_light = AmbientLight('ambient light')\n",
    "ambient_light.setColor((0.1, 0.1, 0.1, 1))\n",
    "ambient = base.render.attachNewNode(ambient_light)\n",
    "base.render.setLight(ambient)\n",
    "ball.setHpr(90, -60, 0)\n",
    "grid = base.loader.loadModel('grid.bam')\n",
    "grid.reparentTo(base.render)\n",
    "grid.setScale(0.005)\n",
    "grid.setPos(grid.getTightBounds()[0][0]/2, 2, 15)\n",
    "spot.node().setShadowCaster(True)\n",
    "base.render.setShaderAuto()\n",
    "\n",
    "base.render.setDepthOffset(-3)\n",
    "\n",
    "base.run()\n",
    "```"
   ]
  },
  {
   "cell_type": "markdown",
   "id": "886839a2",
   "metadata": {
    "pycharm": {
     "name": "#%% md\n"
    },
    "slideshow": {
     "slide_type": "slide"
    }
   },
   "source": [
    "### Ustawienie rzucania cienia (`setShadowCaster`)\n",
    "Dodatkowe parametry określają rozmiary `x` i `y` bufora cienia, który zostanie ustawiony.\n",
    "```python\n",
    "from direct.showbase.ShowBase import ShowBase\n",
    "from panda3d.core import *\n",
    "base = ShowBase()\n",
    "ball = base.loader.loadModel('ball.bam')\n",
    "ball.reparentTo(base.render)\n",
    "base.setBackgroundColor(0, 0, 0)\n",
    "ball.setPos(0, 17.5, 0)\n",
    "spotlight = Spotlight('spotlight')\n",
    "spot = base.render.attachNewNode(spotlight)\n",
    "spot.setPos(-25, -15, 30)\n",
    "spot.lookAt(ball)\n",
    "base.render.setLight(spot)\n",
    "ambient_light = AmbientLight('ambient light')\n",
    "ambient_light.setColor((0.1, 0.1, 0.1, 1))\n",
    "ambient = base.render.attachNewNode(ambient_light)\n",
    "base.render.setLight(ambient)\n",
    "ball.setHpr(90, -60, 0)\n",
    "grid = base.loader.loadModel('grid.bam')\n",
    "grid.reparentTo(base.render)\n",
    "grid.setScale(0.005)\n",
    "grid.setPos(grid.getTightBounds()[0][0]/2, 2, 15)\n",
    "spot.node().setShadowCaster(True)\n",
    "base.render.setShaderAuto()\n",
    "base.render.setDepthOffset(-3)\n",
    "\n",
    "spot.node().setShadowCaster(True, 8192, 8192)\n",
    "\n",
    "base.run()\n",
    "```"
   ]
  },
  {
   "cell_type": "markdown",
   "id": "d1c9f4d2",
   "metadata": {
    "pycharm": {
     "name": "#%% md\n"
    },
    "slideshow": {
     "slide_type": "slide"
    }
   },
   "source": [
    "### Liniowo interpolowane (ang. _lineary interpolated_, lerp) interwały (`LerpInterval`s)\n",
    "```python\n",
    "from direct.showbase.ShowBase import ShowBase\n",
    "from panda3d.core import *\n",
    "\n",
    "from direct.interval.IntervalGlobal import *\n",
    "\n",
    "base = ShowBase()\n",
    "ball = base.loader.loadModel('ball.bam')\n",
    "ball.reparentTo(base.render)\n",
    "base.setBackgroundColor(0, 0, 0)\n",
    "ball.setPos(0, 17.5, 0)\n",
    "spotlight = Spotlight('spotlight')\n",
    "spot = base.render.attachNewNode(spotlight)\n",
    "spot.setPos(-25, -15, 30)\n",
    "spot.lookAt(ball)\n",
    "base.render.setLight(spot)\n",
    "ambient_light = AmbientLight('ambient light')\n",
    "ambient_light.setColor((0.1, 0.1, 0.1, 1))\n",
    "ambient = base.render.attachNewNode(ambient_light)\n",
    "base.render.setLight(ambient)\n",
    "ball.setHpr(90, -60, 0)\n",
    "grid = base.loader.loadModel('grid.bam')\n",
    "grid.reparentTo(base.render)\n",
    "grid.setScale(0.005)\n",
    "grid.setPos(grid.getTightBounds()[0][0]/2, 2, 15)\n",
    "spot.node().setShadowCaster(True)\n",
    "base.render.setShaderAuto()\n",
    "base.render.setDepthOffset(-3)\n",
    "spot.node().setShadowCaster(True, 8192, 8192)\n",
    "base.run()\n",
    "```"
   ]
  },
  {
   "cell_type": "markdown",
   "id": "8719799f",
   "metadata": {
    "pycharm": {
     "name": "#%% md\n"
    },
    "slideshow": {
     "slide_type": "slide"
    }
   },
   "source": [
    "#### Liniowo interpolowany interwał obrotu (`LerpHprInterval`)\n",
    "* `nodePath` Model, który jest zmieniany.\n",
    "* `duration` Czas trwania lerpa w sekundach.\n",
    "* `hpr` Obrót docelowy modelu (nowy obrót, do którego obróci się). Zwykle jest to `(h, p, r)`.\n",
    "\n",
    "```python\n",
    "from direct.showbase.ShowBase import ShowBase\n",
    "from panda3d.core import *\n",
    "from direct.interval.IntervalGlobal import *\n",
    "base = ShowBase()\n",
    "ball = base.loader.loadModel('ball.bam')\n",
    "ball.reparentTo(base.render)\n",
    "base.setBackgroundColor(0, 0, 0)\n",
    "ball.setPos(0, 17.5, 0)\n",
    "spotlight = Spotlight('spotlight')\n",
    "spot = base.render.attachNewNode(spotlight)\n",
    "spot.setPos(-25, -15, 30)\n",
    "spot.lookAt(ball)\n",
    "base.render.setLight(spot)\n",
    "ambient_light = AmbientLight('ambient light')\n",
    "ambient_light.setColor((0.1, 0.1, 0.1, 1))\n",
    "ambient = base.render.attachNewNode(ambient_light)\n",
    "base.render.setLight(ambient)\n",
    "ball.setHpr(90, -60, 0)\n",
    "grid = base.loader.loadModel('grid.bam')\n",
    "grid.reparentTo(base.render)\n",
    "grid.setScale(0.005)\n",
    "grid.setPos(grid.getTightBounds()[0][0]/2, 2, 15)\n",
    "spot.node().setShadowCaster(True)\n",
    "base.render.setShaderAuto()\n",
    "base.render.setDepthOffset(-3)\n",
    "spot.node().setShadowCaster(True, 8192, 8192)\n",
    "\n",
    "rotate_interval = LerpHprInterval(\n",
    "    nodePath=ball,\n",
    "    duration=5,\n",
    "    hpr=(90, -60, 360)\n",
    ")\n",
    "rotate_interval.loop()\n",
    "\n",
    "base.run()\n",
    "```"
   ]
  },
  {
   "cell_type": "markdown",
   "id": "3febf8d4",
   "metadata": {
    "pycharm": {
     "name": "#%% md\n"
    },
    "slideshow": {
     "slide_type": "slide"
    }
   },
   "source": [
    "#### Sekwencja liniowo interpolowanych interwałów pozycji w osi X (`LerpPosInterval`s)\n",
    "* `pos` Pozycja docelowa modelu (nowa pozycja, do której przesunie się). Zwykle jest to `(x, y, z)`.\n",
    "* `startPos` Pozycja wyjściowa modelu na początku lerpa. Jeśli to zostanie pominięte, model rozpocznie się poruszać od aktualnej pozycji.\n",
    "\n",
    "```python\n",
    "from direct.showbase.ShowBase import ShowBase\n",
    "from panda3d.core import *\n",
    "from direct.interval.IntervalGlobal import *\n",
    "base = ShowBase()\n",
    "ball = base.loader.loadModel('ball.bam')\n",
    "ball.reparentTo(base.render)\n",
    "base.setBackgroundColor(0, 0, 0)\n",
    "ball.setPos(0, 17.5, 0)\n",
    "spotlight = Spotlight('spotlight')\n",
    "spot = base.render.attachNewNode(spotlight)\n",
    "spot.setPos(-25, -15, 30)\n",
    "spot.lookAt(ball)\n",
    "base.render.setLight(spot)\n",
    "ambient_light = AmbientLight('ambient light')\n",
    "ambient_light.setColor((0.1, 0.1, 0.1, 1))\n",
    "ambient = base.render.attachNewNode(ambient_light)\n",
    "base.render.setLight(ambient)\n",
    "ball.setHpr(90, -60, 0)\n",
    "grid = base.loader.loadModel('grid.bam')\n",
    "grid.reparentTo(base.render)\n",
    "grid.setScale(0.005)\n",
    "grid.setPos(grid.getTightBounds()[0][0]/2, 2, 15)\n",
    "spot.node().setShadowCaster(True)\n",
    "base.render.setShaderAuto()\n",
    "base.render.setDepthOffset(-3)\n",
    "spot.node().setShadowCaster(True, 8192, 8192)\n",
    "rotate_interval = LerpHprInterval(\n",
    "    nodePath=ball,\n",
    "    duration=5,\n",
    "    hpr=(90, -60, 360)\n",
    ")\n",
    "rotate_interval.loop()\n",
    "\n",
    "move_right_interval = LerpPosInterval(\n",
    "    nodePath=ball,\n",
    "    duration=2,\n",
    "    startPos=(-4, 17.5, 0),\n",
    "    pos=(+4, 17.5, 0)\n",
    ")\n",
    "move_left_interval = LerpPosInterval(\n",
    "    nodePath=ball,\n",
    "    duration=2,\n",
    "    startPos=(+4, 17.5, 0),\n",
    "    pos=(-4, 17.5, 0)\n",
    ")\n",
    "move_sequence = Sequence(move_right_interval, move_left_interval)\n",
    "move_sequence.loop()\n",
    "\n",
    "base.run()\n",
    "```"
   ]
  },
  {
   "cell_type": "markdown",
   "id": "97a002c8",
   "metadata": {
    "pycharm": {
     "name": "#%% md\n"
    },
    "slideshow": {
     "slide_type": "slide"
    }
   },
   "source": [
    "#### Sekwencja liniowo interpolowanych interwałów pozycji w osi Y (`LerpPosInterval`s)\n",
    "* `blendType`\n",
    "\n",
    "```python\n",
    "from direct.showbase.ShowBase import ShowBase\n",
    "from panda3d.core import *\n",
    "from direct.interval.IntervalGlobal import *\n",
    "base = ShowBase()\n",
    "ball = base.loader.loadModel('ball.bam')\n",
    "ball.reparentTo(base.render)\n",
    "base.setBackgroundColor(0, 0, 0)\n",
    "ball.setPos(0, 17.5, 0)\n",
    "spotlight = Spotlight('spotlight')\n",
    "spot = base.render.attachNewNode(spotlight)\n",
    "spot.setPos(-25, -15, 30)\n",
    "spot.lookAt(ball)\n",
    "base.render.setLight(spot)\n",
    "ambient_light = AmbientLight('ambient light')\n",
    "ambient_light.setColor((0.1, 0.1, 0.1, 1))\n",
    "ambient = base.render.attachNewNode(ambient_light)\n",
    "base.render.setLight(ambient)\n",
    "ball.setHpr(90, -60, 0)\n",
    "grid = base.loader.loadModel('grid.bam')\n",
    "grid.reparentTo(base.render)\n",
    "grid.setScale(0.005)\n",
    "grid.setPos(grid.getTightBounds()[0][0]/2, 2, 15)\n",
    "spot.node().setShadowCaster(True)\n",
    "base.render.setShaderAuto()\n",
    "base.render.setDepthOffset(-3)\n",
    "spot.node().setShadowCaster(True, 8192, 8192)\n",
    "rotate_interval = LerpHprInterval(\n",
    "    nodePath=ball,\n",
    "    duration=5,\n",
    "    hpr=(90, -60, 360)\n",
    ")\n",
    "rotate_interval.loop()\n",
    "move_right_interval = LerpPosInterval(\n",
    "    nodePath=ball,\n",
    "    duration=2,\n",
    "    startPos=(-4, 17.5, 0),\n",
    "    pos=(+4, 17.5, 0)\n",
    ")\n",
    "move_left_interval = LerpPosInterval(\n",
    "    nodePath=ball,\n",
    "    duration=2,\n",
    "    startPos=(+4, 17.5, 0),\n",
    "    pos=(-4, 17.5, 0)\n",
    ")\n",
    "move_sequence = Sequence(move_right_interval, move_left_interval)\n",
    "move_sequence.loop()\n",
    "\n",
    "jump_up_interval = LerpPosInterval(\n",
    "    nodePath=ball,\n",
    "    duration=.75,\n",
    "    startPos=(0, 17.5, -1.5),\n",
    "    pos=(0, 17.5, 3),\n",
    "    blendType='easeOut'\n",
    ")\n",
    "jump_down_interval = LerpPosInterval(\n",
    "    nodePath=ball,\n",
    "    duration=.75,\n",
    "    startPos=(0, 17.5, 3),\n",
    "    pos=(0, 17.5, -1.5),\n",
    "    blendType='easeIn'\n",
    ")\n",
    "jump_sequence = Sequence(jump_up_interval, jump_down_interval)\n",
    "jump_sequence.loop()\n",
    "\n",
    "base.run()\n",
    "```"
   ]
  },
  {
   "cell_type": "markdown",
   "id": "6993f815",
   "metadata": {
    "pycharm": {
     "name": "#%% md\n"
    },
    "slideshow": {
     "slide_type": "slide"
    }
   },
   "source": [
    "### Dołączanie nowego węzła (`attachNewNode`)\n",
    "Tworzy zwykły `PandaNode` i dołącza go poniżej bieżącego `NodePath`, zwracając nowy `NodePath`, który się do niego odwołuje. Uwaga na koordynaty!\n",
    "```python\n",
    "from direct.showbase.ShowBase import ShowBase\n",
    "from panda3d.core import *\n",
    "from direct.interval.IntervalGlobal import *\n",
    "base = ShowBase()\n",
    "ball = base.loader.loadModel('ball.bam')\n",
    "ball.reparentTo(base.render)\n",
    "base.setBackgroundColor(0, 0, 0)\n",
    "ball.setPos(0, 17.5, 0)\n",
    "spotlight = Spotlight('spotlight')\n",
    "spot = base.render.attachNewNode(spotlight)\n",
    "spot.setPos(-25, -15, 30)\n",
    "spot.lookAt(ball)\n",
    "base.render.setLight(spot)\n",
    "ambient_light = AmbientLight('ambient light')\n",
    "ambient_light.setColor((0.1, 0.1, 0.1, 1))\n",
    "ambient = base.render.attachNewNode(ambient_light)\n",
    "base.render.setLight(ambient)\n",
    "ball.setHpr(90, -60, 0)\n",
    "grid = base.loader.loadModel('grid.bam')\n",
    "grid.reparentTo(base.render)\n",
    "grid.setScale(0.005)\n",
    "grid.setPos(grid.getTightBounds()[0][0]/2, 2, 15)\n",
    "spot.node().setShadowCaster(True)\n",
    "base.render.setShaderAuto()\n",
    "base.render.setDepthOffset(-3)\n",
    "spot.node().setShadowCaster(True, 8192, 8192)\n",
    "rotate_interval = LerpHprInterval(\n",
    "    nodePath=ball,\n",
    "    duration=5,\n",
    "    hpr=(90, -60, 360)\n",
    ")\n",
    "rotate_interval.loop()\n",
    "\n",
    "ball_handle = base.render.attachNewNode('ball_handle')\n",
    "ball.reparentTo(ball_handle)\n",
    "ball_handle.reparentTo(base.render)\n",
    "move_right_interval = LerpPosInterval(\n",
    "    nodePath=ball_handle,\n",
    "    duration=2,\n",
    "    startPos=(-4, 0, 0),\n",
    "    pos=(+4, 0, 0)\n",
    ")\n",
    "move_left_interval = LerpPosInterval(\n",
    "    nodePath=ball_handle,\n",
    "    duration=2,\n",
    "    startPos=(+4, 0, 0),\n",
    "    pos=(-4, 0, 0)\n",
    ")\n",
    "move_sequence = Sequence(move_right_interval, move_left_interval)\n",
    "move_sequence.loop()\n",
    "jump_up_interval = LerpPosInterval(\n",
    "    nodePath=ball,\n",
    "    duration=.75,\n",
    "    startPos=(0, 17.5, -1.5),\n",
    "    pos=(0, 17.5, 3),\n",
    "    blendType='easeOut'\n",
    ")\n",
    "jump_down_interval = LerpPosInterval(\n",
    "    nodePath=ball,\n",
    "    duration=.75,\n",
    "    startPos=(0, 17.5, 3),\n",
    "    pos=(0, 17.5, -1.5),\n",
    "    blendType='easeIn'\n",
    ")\n",
    "jump_sequence = Sequence(jump_up_interval, jump_down_interval)\n",
    "jump_sequence.loop()\n",
    "\n",
    "base.run()\n",
    "```"
   ]
  },
  {
   "cell_type": "markdown",
   "id": "437810ec",
   "metadata": {
    "pycharm": {
     "name": "#%% md\n"
    },
    "slideshow": {
     "slide_type": "slide"
    }
   },
   "source": [
    "### Ustawianie miernika szybkości klatek (`setFrameRateMeter`)\n",
    "Włącza lub wyłącza (zgodnie z flagą) standardowy miernik szybkości klatek w prawym górnym rogu okna głównego.\n",
    "```python\n",
    "from direct.showbase.ShowBase import ShowBase\n",
    "from panda3d.core import *\n",
    "from direct.interval.IntervalGlobal import *\n",
    "base = ShowBase()\n",
    "ball = base.loader.loadModel('ball.bam')\n",
    "ball.reparentTo(base.render)\n",
    "base.setBackgroundColor(0, 0, 0)\n",
    "ball.setPos(0, 17.5, 0)\n",
    "spotlight = Spotlight('spotlight')\n",
    "spot = base.render.attachNewNode(spotlight)\n",
    "spot.setPos(-25, -15, 30)\n",
    "spot.lookAt(ball)\n",
    "base.render.setLight(spot)\n",
    "ambient_light = AmbientLight('ambient light')\n",
    "ambient_light.setColor((0.1, 0.1, 0.1, 1))\n",
    "ambient = base.render.attachNewNode(ambient_light)\n",
    "base.render.setLight(ambient)\n",
    "ball.setHpr(90, -60, 0)\n",
    "grid = base.loader.loadModel('grid.bam')\n",
    "grid.reparentTo(base.render)\n",
    "grid.setScale(0.005)\n",
    "grid.setPos(grid.getTightBounds()[0][0]/2, 2, 15)\n",
    "spot.node().setShadowCaster(True)\n",
    "base.render.setShaderAuto()\n",
    "base.render.setDepthOffset(-3)\n",
    "spot.node().setShadowCaster(True, 8192, 8192)\n",
    "rotate_interval = LerpHprInterval(\n",
    "    nodePath=ball,\n",
    "    duration=5,\n",
    "    hpr=(90, -60, 360)\n",
    ")\n",
    "rotate_interval.loop()\n",
    "ball_handle = base.render.attachNewNode('ball_handle')\n",
    "ball.reparentTo(ball_handle)\n",
    "ball_handle.reparentTo(base.render)\n",
    "move_right_interval = LerpPosInterval(\n",
    "    nodePath=ball_handle,\n",
    "    duration=2,\n",
    "    startPos=(-4, 0, 0),\n",
    "    pos=(+4, 0, 0)\n",
    ")\n",
    "move_left_interval = LerpPosInterval(\n",
    "    nodePath=ball_handle,\n",
    "    duration=2,\n",
    "    startPos=(+4, 0, 0),\n",
    "    pos=(-4, 0, 0)\n",
    ")\n",
    "move_sequence = Sequence(move_right_interval, move_left_interval)\n",
    "move_sequence.loop()\n",
    "jump_up_interval = LerpPosInterval(\n",
    "    nodePath=ball,\n",
    "    duration=.75,\n",
    "    startPos=(0, 17.5, -1.5),\n",
    "    pos=(0, 17.5, 3),\n",
    "    blendType='easeOut'\n",
    ")\n",
    "jump_down_interval = LerpPosInterval(\n",
    "    nodePath=ball,\n",
    "    duration=.75,\n",
    "    startPos=(0, 17.5, 3),\n",
    "    pos=(0, 17.5, -1.5),\n",
    "    blendType='easeIn'\n",
    ")\n",
    "jump_sequence = Sequence(jump_up_interval, jump_down_interval)\n",
    "jump_sequence.loop()\n",
    "\n",
    "base.setFrameRateMeter(True)\n",
    "\n",
    "base.run()\n",
    "```"
   ]
  },
  {
   "cell_type": "markdown",
   "id": "b154516b",
   "metadata": {
    "pycharm": {
     "name": "#%% md\n"
    },
    "slideshow": {
     "slide_type": "slide"
    }
   },
   "source": [
    "### Popularne filtry obrazu\n",
    "Celem klasy `CommonFilters` jest ułatwienie konfiguracji wielu typowych operacji przetwarzania obrazu.\n",
    "\n",
    "Uprośćmy kod i zaimportujmy klasę w ten sposób:\n",
    "```python\n",
    "from direct.showbase.ShowBase import ShowBase\n",
    "from panda3d.core import *\n",
    "from direct.interval.IntervalGlobal import *\n",
    "\n",
    "from direct.filter.CommonFilters import CommonFilters\n",
    "\n",
    "base = ShowBase()\n",
    "ball = base.loader.loadModel('ball.bam')\n",
    "ball.reparentTo(base.render)\n",
    "base.setBackgroundColor(0, 0, 0)\n",
    "ball.setPos(0, 17.5, 0)\n",
    "spotlight = Spotlight('spotlight')\n",
    "spot = base.render.attachNewNode(spotlight)\n",
    "spot.setPos(-25, -15, 30)\n",
    "spot.lookAt(ball)\n",
    "base.render.setLight(spot)\n",
    "ambient_light = AmbientLight('ambient light')\n",
    "ambient_light.setColor((0.1, 0.1, 0.1, 1))\n",
    "ambient = base.render.attachNewNode(ambient_light)\n",
    "base.render.setLight(ambient)\n",
    "ball.setHpr(90, -60, 0)\n",
    "grid = base.loader.loadModel('grid.bam')\n",
    "grid.reparentTo(base.render)\n",
    "grid.setScale(0.005)\n",
    "grid.setPos(grid.getTightBounds()[0][0]/2, 2, 15)\n",
    "rotate_interval = LerpHprInterval(\n",
    "    nodePath=ball,\n",
    "    duration=5,\n",
    "    hpr=(90, -60, 360)\n",
    ")\n",
    "rotate_interval.loop()\n",
    "base.setFrameRateMeter(True)\n",
    "base.run()\n",
    "```"
   ]
  },
  {
   "cell_type": "markdown",
   "id": "073459f7",
   "metadata": {
    "pycharm": {
     "name": "#%% md\n"
    },
    "slideshow": {
     "slide_type": "slide"
    }
   },
   "source": [
    "#### Podstawowe ustawienia\n",
    "Pierwszym krokiem jest stworzenie obiektu klasy `CommonFilters`. Przekażcie wskaźnik do okna i kamery 3D:\n",
    "```python\n",
    "from direct.showbase.ShowBase import ShowBase\n",
    "from panda3d.core import *\n",
    "from direct.interval.IntervalGlobal import *\n",
    "from direct.filter.CommonFilters import CommonFilters\n",
    "base = ShowBase()\n",
    "ball = base.loader.loadModel('ball.bam')\n",
    "ball.reparentTo(base.render)\n",
    "base.setBackgroundColor(0, 0, 0)\n",
    "ball.setPos(0, 17.5, 0)\n",
    "spotlight = Spotlight('spotlight')\n",
    "spot = base.render.attachNewNode(spotlight)\n",
    "spot.setPos(-25, -15, 30)\n",
    "spot.lookAt(ball)\n",
    "base.render.setLight(spot)\n",
    "ambient_light = AmbientLight('ambient light')\n",
    "ambient_light.setColor((0.1, 0.1, 0.1, 1))\n",
    "ambient = base.render.attachNewNode(ambient_light)\n",
    "base.render.setLight(ambient)\n",
    "ball.setHpr(90, -60, 0)\n",
    "grid = base.loader.loadModel('grid.bam')\n",
    "grid.reparentTo(base.render)\n",
    "grid.setScale(0.005)\n",
    "grid.setPos(grid.getTightBounds()[0][0]/2, 2, 15)\n",
    "rotate_interval = LerpHprInterval(\n",
    "    nodePath=ball,\n",
    "    duration=5,\n",
    "    hpr=(90, -60, 360)\n",
    ")\n",
    "rotate_interval.loop()\n",
    "base.setFrameRateMeter(True)\n",
    "\n",
    "filters = CommonFilters(base.win, base.cam)\n",
    "\n",
    "base.run()\n",
    "```"
   ]
  },
  {
   "cell_type": "markdown",
   "id": "2d6f1f9f",
   "metadata": {
    "pycharm": {
     "name": "#%% md\n"
    },
    "slideshow": {
     "slide_type": "subslide"
    }
   },
   "source": [
    "Nie będzie to miało wpływu, dopóki nie włączycie filtra (instrukcje poniżej). Po włączeniu filtra klasa CommonFilters ponownie skonfiguruje renderowanie Panda3D w następujący sposób:\n",
    "* Wyrenderuje scenę do bufora poza ekranem, używając dostarczonej kamery.\n",
    "* Usunie scenę z określonego okna i zastąpi ją pełnoekranowym quadem.\n",
    "* Quad będzie miał teksturę ze sceną, plus shader, który implementuje dowolny wybrany filtr.\n",
    "* Jeśli wszystko pójdzie dobrze, efektem będzie to, że Wasza scena będzie nadal pojawiać się w Waszym oknie, ale będzie filtrowana, tak, jak określicie."
   ]
  },
  {
   "cell_type": "markdown",
   "id": "9d54df5f",
   "metadata": {
    "pycharm": {
     "name": "#%% md\n"
    },
    "slideshow": {
     "slide_type": "slide"
    }
   },
   "source": [
    "#### Filtr bloom\n",
    "Filtr bloom sprawia, że jasne obiekty mają wokół siebie świecącą aureolę. Aby włączyć filtr bloom, użyjcie `setBloom`. Aby wyłączyć, użyjcie `delBloom`:\n",
    "```python\n",
    "from direct.showbase.ShowBase import ShowBase\n",
    "from panda3d.core import *\n",
    "from direct.interval.IntervalGlobal import *\n",
    "from direct.filter.CommonFilters import CommonFilters\n",
    "base = ShowBase()\n",
    "ball = base.loader.loadModel('ball.bam')\n",
    "ball.reparentTo(base.render)\n",
    "base.setBackgroundColor(0, 0, 0)\n",
    "ball.setPos(0, 17.5, 0)\n",
    "spotlight = Spotlight('spotlight')\n",
    "spot = base.render.attachNewNode(spotlight)\n",
    "spot.setPos(-25, -15, 30)\n",
    "spot.lookAt(ball)\n",
    "base.render.setLight(spot)\n",
    "ambient_light = AmbientLight('ambient light')\n",
    "ambient_light.setColor((0.1, 0.1, 0.1, 1))\n",
    "ambient = base.render.attachNewNode(ambient_light)\n",
    "base.render.setLight(ambient)\n",
    "ball.setHpr(90, -60, 0)\n",
    "grid = base.loader.loadModel('grid.bam')\n",
    "grid.reparentTo(base.render)\n",
    "grid.setScale(0.005)\n",
    "grid.setPos(grid.getTightBounds()[0][0]/2, 2, 15)\n",
    "rotate_interval = LerpHprInterval(\n",
    "    nodePath=ball,\n",
    "    duration=5,\n",
    "    hpr=(90, -60, 360)\n",
    ")\n",
    "rotate_interval.loop()\n",
    "base.setFrameRateMeter(True)\n",
    "filters = CommonFilters(base.win, base.cam)\n",
    "\n",
    "filters.setBloom(size='large')\n",
    "\n",
    "base.run()\n",
    "```"
   ]
  },
  {
   "cell_type": "markdown",
   "id": "a55cf907",
   "metadata": {
    "pycharm": {
     "name": "#%% md\n"
    },
    "slideshow": {
     "slide_type": "slide"
    }
   },
   "source": [
    "#### Filtr atramentu kreskówkowego\n",
    "Filtr atramentu kreskówkowego powoduje, że wokół obiektów pojawiają się czarne linie. Aby włączyć filtr atramentu kreskówkowego, użyj `setCartoonInk`. Aby wyłączyć, użyj `delCartoonInk`:\n",
    "```python\n",
    "from direct.showbase.ShowBase import ShowBase\n",
    "from panda3d.core import *\n",
    "from direct.interval.IntervalGlobal import *\n",
    "from direct.filter.CommonFilters import CommonFilters\n",
    "base = ShowBase()\n",
    "ball = base.loader.loadModel('ball.bam')\n",
    "ball.reparentTo(base.render)\n",
    "base.setBackgroundColor(0, 0, 0)\n",
    "ball.setPos(0, 17.5, 0)\n",
    "spotlight = Spotlight('spotlight')\n",
    "spot = base.render.attachNewNode(spotlight)\n",
    "spot.setPos(-25, -15, 30)\n",
    "spot.lookAt(ball)\n",
    "base.render.setLight(spot)\n",
    "ambient_light = AmbientLight('ambient light')\n",
    "ambient_light.setColor((0.1, 0.1, 0.1, 1))\n",
    "ambient = base.render.attachNewNode(ambient_light)\n",
    "base.render.setLight(ambient)\n",
    "ball.setHpr(90, -60, 0)\n",
    "grid = base.loader.loadModel('grid.bam')\n",
    "grid.reparentTo(base.render)\n",
    "grid.setScale(0.005)\n",
    "grid.setPos(grid.getTightBounds()[0][0]/2, 2, 15)\n",
    "rotate_interval = LerpHprInterval(\n",
    "    nodePath=ball,\n",
    "    duration=5,\n",
    "    hpr=(90, -60, 360)\n",
    ")\n",
    "rotate_interval.loop()\n",
    "base.setFrameRateMeter(True)\n",
    "filters = CommonFilters(base.win, base.cam)\n",
    "\n",
    "filters.setCartoonInk()\n",
    "\n",
    "base.run()\n",
    "```"
   ]
  },
  {
   "cell_type": "markdown",
   "id": "18b778cb",
   "metadata": {
    "pycharm": {
     "name": "#%% md\n"
    },
    "slideshow": {
     "slide_type": "slide"
    }
   },
   "source": [
    "#### Filtr oświetlenia wolumetrycznego\n",
    "Filtr oświetlenia wolumetrycznego sprawia, że obiekty rzucają widzialne promienie świetlne (znane również jako promienie zmierzchu, promienie boga lub promienie słoneczne), które mogą być przesłonięte przez widzialną geometrię. Jest to prosty sposób na łatwe tworzenie ładnie wyglądających efektów świetlnych/słonecznych."
   ]
  },
  {
   "cell_type": "markdown",
   "id": "6bec3111",
   "metadata": {
    "slideshow": {
     "slide_type": "subslide"
    }
   },
   "source": [
    "Filtr ma następujące parametry przykładowych słów kluczowych:"
   ]
  },
  {
   "cell_type": "markdown",
   "id": "22772e21",
   "metadata": {
    "slideshow": {
     "slide_type": "subslide"
    }
   },
   "source": [
    "* `caster` — `NodePath`, który wskazuje pochodzenie promieni. Zwykle przekazuje się tu swoje światło i tworzy się billboard ze słońcem, który jest reprezentowany przez `NodePath` światła."
   ]
  },
  {
   "cell_type": "markdown",
   "id": "c77c6b3e",
   "metadata": {
    "slideshow": {
     "slide_type": "subslide"
    }
   },
   "source": [
    "* `numsamples` — liczba próbek. Im więcej próbek użyje się, tym efekt będzie wolniejszy, ale promienie światła będą gładsze. Nalezy zwrócić uwagę, że użycie rozmytej kropki na billboardzie zamiast kuli o twardych krawędziach jako lekkiego elementu rzucającego może również pomóc w wygładzeniu efektu końcowego. Ta wartość nie musi być potęgą dwójki, może to być dowolna liczba dodatnia. Domyślnie: `32`"
   ]
  },
  {
   "cell_type": "markdown",
   "id": "12e0a04a",
   "metadata": {
    "slideshow": {
     "slide_type": "subslide"
    }
   },
   "source": [
    "* `density` — gęstość. Określa długość promieni. Domyślna wartość `5.0` jest prawdopodobnie zbyt wysoka dla wielu celów, zwykle najlepiej sprawdza się wartość między `0.1` a `1.0`. Zależy to jednak również od liczby próbek. Domyślnie: `5.0`"
   ]
  },
  {
   "cell_type": "markdown",
   "id": "5d8e7a28",
   "metadata": {
    "slideshow": {
     "slide_type": "subslide"
    }
   },
   "source": [
    "* `decay` - rozpad/rozkład. Rozkład powoduje stopniowe zmniejszanie jasności promieni. Domyślna wartość `0.1` nie jest dobrze dobrana i sprawia, że promienie są bardzo krótkie! Zwykle jest to wartość bliska `1.0`, na przykład `0.98`. Domyślnie: `0.1`"
   ]
  },
  {
   "cell_type": "markdown",
   "id": "4614b4bd",
   "metadata": {
    "slideshow": {
     "slide_type": "subslide"
    }
   },
   "source": [
    "```python\n",
    "from direct.showbase.ShowBase import ShowBase\n",
    "from panda3d.core import *\n",
    "from direct.interval.IntervalGlobal import *\n",
    "from direct.filter.CommonFilters import CommonFilters\n",
    "\n",
    "loadPrcFileData(\"\", \"textures-power-2 none\")\n",
    "loadPrcFileData(\"\", \"basic-shaders-only #t\")\n",
    "\n",
    "base = ShowBase()\n",
    "ball = base.loader.loadModel('ball.bam')\n",
    "ball.reparentTo(base.render)\n",
    "base.setBackgroundColor(0, 0, 0)\n",
    "ball.setPos(0, 17.5, 0)\n",
    "spotlight = Spotlight('spotlight')\n",
    "spot = base.render.attachNewNode(spotlight)\n",
    "spot.setPos(-25, -15, 30)\n",
    "spot.lookAt(ball)\n",
    "base.render.setLight(spot)\n",
    "ambient_light = AmbientLight('ambient light')\n",
    "ambient_light.setColor((0.1, 0.1, 0.1, 1))\n",
    "ambient = base.render.attachNewNode(ambient_light)\n",
    "base.render.setLight(ambient)\n",
    "ball.setHpr(90, -60, 0)\n",
    "grid = base.loader.loadModel('grid.bam')\n",
    "grid.reparentTo(base.render)\n",
    "grid.setScale(0.005)\n",
    "grid.setPos(grid.getTightBounds()[0][0]/2, 2, 15)\n",
    "rotate_interval = LerpHprInterval(\n",
    "    nodePath=ball,\n",
    "    duration=5,\n",
    "    hpr=(90, -60, 360)\n",
    ")\n",
    "rotate_interval.loop()\n",
    "base.setFrameRateMeter(True)\n",
    "filters = CommonFilters(base.win, base.cam)\n",
    "\n",
    "filters.setVolumetricLighting(\n",
    "    caster=spot,\n",
    "    numsamples=200,\n",
    "    density=0.1,\n",
    "    decay=0.95,\n",
    ")\n",
    "\n",
    "base.run()\n",
    "\n",
    "```"
   ]
  },
  {
   "cell_type": "markdown",
   "id": "1e2c1659",
   "metadata": {
    "slideshow": {
     "slide_type": "subslide"
    }
   },
   "source": [
    "```python\n",
    "from direct.showbase.ShowBase import ShowBase\n",
    "from panda3d.core import *\n",
    "from direct.interval.IntervalGlobal import *\n",
    "from direct.filter.CommonFilters import CommonFilters\n",
    "loadPrcFileData(\"\", \"textures-power-2 none\")\n",
    "loadPrcFileData(\"\", \"basic-shaders-only #t\")\n",
    "base = ShowBase()\n",
    "ball = base.loader.loadModel('ball.bam')\n",
    "ball.reparentTo(base.render)\n",
    "base.setBackgroundColor(0, 0, 0)\n",
    "ball.setPos(0, 17.5, 0)\n",
    "spotlight = Spotlight('spotlight')\n",
    "spot = base.render.attachNewNode(spotlight)\n",
    "spot.setPos(-25, -15, 30)\n",
    "spot.lookAt(ball)\n",
    "base.render.setLight(spot)\n",
    "ambient_light = AmbientLight('ambient light')\n",
    "ambient_light.setColor((0.1, 0.1, 0.1, 1))\n",
    "ambient = base.render.attachNewNode(ambient_light)\n",
    "base.render.setLight(ambient)\n",
    "ball.setHpr(90, -60, 0)\n",
    "grid = base.loader.loadModel('grid.bam')\n",
    "grid.reparentTo(base.render)\n",
    "grid.setScale(0.005)\n",
    "grid.setPos(grid.getTightBounds()[0][0]/2, 2, 15)\n",
    "rotate_interval = LerpHprInterval(\n",
    "    nodePath=ball,\n",
    "    duration=5,\n",
    "    hpr=(90, -60, 360)\n",
    ")\n",
    "rotate_interval.loop()\n",
    "base.setFrameRateMeter(True)\n",
    "filters = CommonFilters(base.win, base.cam)\n",
    "filters.setVolumetricLighting(\n",
    "    caster=spot,\n",
    "    numsamples=200,\n",
    "    density=0.1,\n",
    "    decay=0.98,\n",
    ")\n",
    "\n",
    "grid.setColorScale(1, 1, 1, 0)\n",
    "\n",
    "base.run()\n",
    "```"
   ]
  },
  {
   "cell_type": "code",
   "execution_count": null,
   "id": "58a4840b",
   "metadata": {
    "pycharm": {
     "name": "#%%\n"
    },
    "slideshow": {
     "slide_type": "skip"
    }
   },
   "outputs": [],
   "source": []
  }
 ],
 "metadata": {
  "celltoolbar": "Slideshow",
  "kernelspec": {
   "display_name": "Python 3 (ipykernel)",
   "language": "python",
   "name": "python3"
  },
  "language_info": {
   "codemirror_mode": {
    "name": "ipython",
    "version": 3
   },
   "file_extension": ".py",
   "mimetype": "text/x-python",
   "name": "python",
   "nbconvert_exporter": "python",
   "pygments_lexer": "ipython3",
   "version": "3.11.5"
  }
 },
 "nbformat": 4,
 "nbformat_minor": 5
}
